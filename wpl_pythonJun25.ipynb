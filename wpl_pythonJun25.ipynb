{
  "nbformat": 4,
  "nbformat_minor": 0,
  "metadata": {
    "colab": {
      "provenance": [],
      "collapsed_sections": [
        "jpCgmzsKvBSG",
        "qqFYsBFlvbv0",
        "RuhjIgOGv75_",
        "cXBqDYXmwSom",
        "kUrcDkYj5T9Y",
        "iRADibuO77IS",
        "BKoe6M4x74iI"
      ]
    },
    "kernelspec": {
      "name": "python3",
      "display_name": "Python 3"
    },
    "language_info": {
      "name": "python"
    }
  },
  "cells": [
    {
      "cell_type": "markdown",
      "source": [
        "## **Working with Jupyter Notebook**\n",
        "\n",
        "\n"
      ],
      "metadata": {
        "id": "vy7ZENwCqoXy"
      }
    },
    {
      "cell_type": "markdown",
      "source": [
        "**[esc]** switch from edit mode to command mode  \n",
        "(notice a cursor inside the current cell)\n",
        "\n",
        "In command mode\n",
        "*   **A** &nbsp;&nbsp;&nbsp; Insert new cell above current cell\n",
        "*   **B** &nbsp;&nbsp;&nbsp; Insert new cell below current cell\n",
        "*   **M** &nbsp;&nbsp;&nbsp; Change to cell Markdown (text) cell\n",
        "*   **Y** &nbsp;&nbsp;&nbsp; Change to cell Code cell\n",
        "\n",
        "**[enter]** switch from command mode to edit mode\n",
        "(notice an outline around the current cell)\n",
        "\n",
        "*   **Alt+Enter** &nbsp; Run the current cell and insert new cell\n",
        "*   **Ctrl + s** &nbsp;&nbsp;&nbsp;&nbsp;&nbsp; Save Notebook  \n",
        "\n",
        "To download files:  [jupyter.org/try-jupyter/tree](https://jupyter.org/try-jupyter/tree)"
      ],
      "metadata": {
        "id": "HX03kWVCso0b"
      }
    },
    {
      "cell_type": "markdown",
      "source": [
        "## **Programming and Python**"
      ],
      "metadata": {
        "id": "qsxMmjGYUIKL"
      }
    },
    {
      "cell_type": "markdown",
      "source": [
        "Programming: ordered steps to reach a specific goal\n",
        "* Goal can be **divided** into multiple steps\n",
        "* Steps are **ordered**\n",
        "* Result can be **determined** by the steps\n",
        "* Ordered steps to reach goal are **repeatable**"
      ],
      "metadata": {
        "id": "bAdDjjRa9L0i"
      }
    },
    {
      "cell_type": "code",
      "source": [
        "print(\"Hello World\")"
      ],
      "metadata": {
        "id": "rkfCcXK282Zb",
        "colab": {
          "base_uri": "https://localhost:8080/"
        },
        "outputId": "84522e04-1ea8-4cad-d354-608c4acf8113"
      },
      "execution_count": null,
      "outputs": [
        {
          "output_type": "stream",
          "name": "stdout",
          "text": [
            "Hello World\n"
          ]
        }
      ]
    },
    {
      "cell_type": "markdown",
      "source": [
        "*print* is a special word in Python  \n",
        "Parenthesis () are used to hold input or *parameters*  \n",
        "text in quotes are strings\n"
      ],
      "metadata": {
        "id": "FnIsqd7e-EA6"
      }
    },
    {
      "cell_type": "markdown",
      "source": [
        "### Exercise"
      ],
      "metadata": {
        "id": "jpCgmzsKvBSG"
      }
    },
    {
      "cell_type": "markdown",
      "source": [
        "Use *print* and let us know your favorite food\n",
        "\n"
      ],
      "metadata": {
        "id": "xx4ZQYIuvFrW"
      }
    },
    {
      "cell_type": "markdown",
      "source": [
        "#### Hint:"
      ],
      "metadata": {
        "id": "qqFYsBFlvbv0"
      }
    },
    {
      "cell_type": "code",
      "source": [
        "print(\"Replace me with your favorite food\")"
      ],
      "metadata": {
        "id": "UZG3laZuvMQq",
        "colab": {
          "base_uri": "https://localhost:8080/"
        },
        "outputId": "4185fdf1-9b2e-436c-9fc0-ca0f4655b62c"
      },
      "execution_count": null,
      "outputs": [
        {
          "output_type": "stream",
          "name": "stdout",
          "text": [
            "Replace me with your favorite food\n"
          ]
        }
      ]
    },
    {
      "cell_type": "markdown",
      "source": [
        "## **Strings**\n"
      ],
      "metadata": {
        "id": "UG9lDTwP-dJ6"
      }
    },
    {
      "cell_type": "markdown",
      "source": [
        "In Python, strings are surrounded by a pair of single or double quotes, just like you would do in Language class.  \n",
        "Did you know in python you can add two strings?  "
      ],
      "metadata": {
        "id": "hjHewzAJ-h6q"
      }
    },
    {
      "cell_type": "markdown",
      "source": [
        "*print* is a python **function**. A function a program with a single word as its name that performs a specific task for you.  \n",
        "\n",
        "Often, you will also give a function some information or inputs (in programming, you might hear them called parameters). To let the function know where to find the parameters, you put the parameters in parenthesis, like we did for the string \"Hello World\"."
      ],
      "metadata": {
        "id": "tiyXANDamCXw"
      }
    },
    {
      "cell_type": "code",
      "source": [
        "print()"
      ],
      "metadata": {
        "colab": {
          "base_uri": "https://localhost:8080/"
        },
        "id": "e9YDgYsBp5KO",
        "outputId": "7bb9abc8-dd9c-47f2-b6af-8763cf1dbcfb"
      },
      "execution_count": null,
      "outputs": [
        {
          "output_type": "stream",
          "name": "stdout",
          "text": [
            "\n"
          ]
        }
      ]
    },
    {
      "cell_type": "markdown",
      "source": [
        "Some functions don't need or expect parameters. Notice that the *print* function ran even though we didn't give it any information in the parenthesis. Just remember that some functions can't run without input and will complain."
      ],
      "metadata": {
        "id": "XiI1xvAiqCpc"
      }
    },
    {
      "cell_type": "markdown",
      "source": [
        "The plus sign is an **operator**. (quote symbols are not quite operators, but they are special)\n",
        "Python has lots of operators that you've probably seen in math class.  \n",
        "They mostly work exactly like you think they would for numbers. What do you think happens when you add two strings?"
      ],
      "metadata": {
        "id": "-eXhwN-rbH_B"
      }
    },
    {
      "cell_type": "code",
      "source": [
        "print(\"Hello\" + \"World\")"
      ],
      "metadata": {
        "colab": {
          "base_uri": "https://localhost:8080/"
        },
        "id": "PmunaY1JaWgh",
        "outputId": "97fe001c-d6f2-41fc-c832-8c87a7fc9879"
      },
      "execution_count": null,
      "outputs": [
        {
          "output_type": "stream",
          "name": "stdout",
          "text": [
            "HelloWorld\n"
          ]
        }
      ]
    },
    {
      "cell_type": "markdown",
      "source": [
        "Notice **print** does not put a space between the strings  \n",
        "Spaces (and most other characters) can be put anywhere in a string."
      ],
      "metadata": {
        "id": "ifOhupKDaaB0"
      }
    },
    {
      "cell_type": "code",
      "source": [
        "print(\"Hello \" + \"World\")\n",
        "print(\"Hello\" + \" World\")\n",
        "print(\"Hello \" + \"World \")"
      ],
      "metadata": {
        "colab": {
          "base_uri": "https://localhost:8080/"
        },
        "id": "h3N2XsYLanaW",
        "outputId": "e925fd4b-6e62-42f8-a749-18b4eef6da8d"
      },
      "execution_count": null,
      "outputs": [
        {
          "output_type": "stream",
          "name": "stdout",
          "text": [
            "Hello World\n",
            "Hello World\n",
            "Hello World \n"
          ]
        }
      ]
    },
    {
      "cell_type": "markdown",
      "source": [
        "Also remember that when you define a string, the pair of quotes must match. Try mismatching the quote symbols and see what happens:\n"
      ],
      "metadata": {
        "id": "fbsdYcixlvnh"
      }
    },
    {
      "cell_type": "code",
      "source": [
        "print(\"Hello World')"
      ],
      "metadata": {
        "colab": {
          "base_uri": "https://localhost:8080/",
          "height": 108
        },
        "id": "fU2NfgrgmoFJ",
        "outputId": "261c8619-2757-4dda-e627-c716cbbdb7a6"
      },
      "execution_count": null,
      "outputs": [
        {
          "output_type": "error",
          "ename": "SyntaxError",
          "evalue": "unterminated string literal (detected at line 1) (ipython-input-6-3529077548.py, line 1)",
          "traceback": [
            "\u001b[0;36m  File \u001b[0;32m\"/tmp/ipython-input-6-3529077548.py\"\u001b[0;36m, line \u001b[0;32m1\u001b[0m\n\u001b[0;31m    print(\"Hello World')\u001b[0m\n\u001b[0m          ^\u001b[0m\n\u001b[0;31mSyntaxError\u001b[0m\u001b[0;31m:\u001b[0m unterminated string literal (detected at line 1)\n"
          ]
        }
      ]
    },
    {
      "cell_type": "code",
      "source": [
        "print('Hello World\")"
      ],
      "metadata": {
        "colab": {
          "base_uri": "https://localhost:8080/",
          "height": 108
        },
        "id": "qLlAkfxLm1sz",
        "outputId": "5f176292-529a-4812-a9df-05a4eddfa043"
      },
      "execution_count": null,
      "outputs": [
        {
          "output_type": "error",
          "ename": "SyntaxError",
          "evalue": "unterminated string literal (detected at line 1) (ipython-input-7-2803455855.py, line 1)",
          "traceback": [
            "\u001b[0;36m  File \u001b[0;32m\"/tmp/ipython-input-7-2803455855.py\"\u001b[0;36m, line \u001b[0;32m1\u001b[0m\n\u001b[0;31m    print('Hello World\")\u001b[0m\n\u001b[0m          ^\u001b[0m\n\u001b[0;31mSyntaxError\u001b[0m\u001b[0;31m:\u001b[0m unterminated string literal (detected at line 1)\n"
          ]
        }
      ]
    },
    {
      "cell_type": "markdown",
      "source": [
        "Python found an **opening** quote but didn't find a matching **closing** quote so it complains that the string was **unterminated**.  \n",
        "\n",
        "\n",
        "Does that make sense to you?"
      ],
      "metadata": {
        "id": "Bdnm9mnum4Bu"
      }
    },
    {
      "cell_type": "markdown",
      "source": [
        "What do you think Python would do if you tell it to do multiplication with strings?  \n",
        "How might you try that?"
      ],
      "metadata": {
        "id": "ScEK_tf_nWtH"
      }
    },
    {
      "cell_type": "code",
      "source": [
        "print(\"hello \" * 3)"
      ],
      "metadata": {
        "colab": {
          "base_uri": "https://localhost:8080/"
        },
        "id": "PvKLy0PqniLh",
        "outputId": "350879b8-ac26-4148-c106-03bad53ae370"
      },
      "execution_count": null,
      "outputs": [
        {
          "output_type": "stream",
          "name": "stdout",
          "text": [
            "hello hello hello \n"
          ]
        }
      ]
    },
    {
      "cell_type": "markdown",
      "source": [
        "You can multiply and add strings in the same print statement!"
      ],
      "metadata": {
        "id": "IdpyFBjHnl0i"
      }
    },
    {
      "cell_type": "code",
      "source": [
        "print(\"Well, \" + \"hello \" * 4 + \"world!\")"
      ],
      "metadata": {
        "colab": {
          "base_uri": "https://localhost:8080/"
        },
        "id": "ioc8EK8Rn2pg",
        "outputId": "ffcc0bdd-2742-48d6-973f-1264d05a1a54"
      },
      "execution_count": null,
      "outputs": [
        {
          "output_type": "stream",
          "name": "stdout",
          "text": [
            "Well, hello hello hello hello world!\n"
          ]
        }
      ]
    },
    {
      "cell_type": "markdown",
      "source": [
        "But not every math operator works with strings..."
      ],
      "metadata": {
        "id": "NF1mjLrAoAGc"
      }
    },
    {
      "cell_type": "code",
      "source": [
        "print(\"Hello\"/\"world\")"
      ],
      "metadata": {
        "colab": {
          "base_uri": "https://localhost:8080/",
          "height": 144
        },
        "id": "B1tEl1wAoOnN",
        "outputId": "8640c134-9894-409d-ff6b-bead10249142"
      },
      "execution_count": null,
      "outputs": [
        {
          "output_type": "error",
          "ename": "TypeError",
          "evalue": "unsupported operand type(s) for /: 'str' and 'str'",
          "traceback": [
            "\u001b[0;31m---------------------------------------------------------------------------\u001b[0m",
            "\u001b[0;31mTypeError\u001b[0m                                 Traceback (most recent call last)",
            "\u001b[0;32m/tmp/ipython-input-10-2968874173.py\u001b[0m in \u001b[0;36m<cell line: 0>\u001b[0;34m()\u001b[0m\n\u001b[0;32m----> 1\u001b[0;31m \u001b[0mprint\u001b[0m\u001b[0;34m(\u001b[0m\u001b[0;34m\"Hello\"\u001b[0m\u001b[0;34m/\u001b[0m\u001b[0;34m\"world\"\u001b[0m\u001b[0;34m)\u001b[0m\u001b[0;34m\u001b[0m\u001b[0;34m\u001b[0m\u001b[0m\n\u001b[0m",
            "\u001b[0;31mTypeError\u001b[0m: unsupported operand type(s) for /: 'str' and 'str'"
          ]
        }
      ]
    },
    {
      "cell_type": "markdown",
      "source": [
        "Python can also count for you, using the **function** *len* (short for length).\n",
        "*len* expects an input so it has something to count and it will complain if you don't give it anything."
      ],
      "metadata": {
        "id": "wzM1ViU2oSzJ"
      }
    },
    {
      "cell_type": "code",
      "source": [
        "len()"
      ],
      "metadata": {
        "colab": {
          "base_uri": "https://localhost:8080/",
          "height": 144
        },
        "id": "speIHvQQqZf3",
        "outputId": "f7a0716c-d230-4cb3-def3-1955aaa28520"
      },
      "execution_count": null,
      "outputs": [
        {
          "output_type": "error",
          "ename": "TypeError",
          "evalue": "len() takes exactly one argument (0 given)",
          "traceback": [
            "\u001b[0;31m---------------------------------------------------------------------------\u001b[0m",
            "\u001b[0;31mTypeError\u001b[0m                                 Traceback (most recent call last)",
            "\u001b[0;32m/tmp/ipython-input-11-3175031574.py\u001b[0m in \u001b[0;36m<cell line: 0>\u001b[0;34m()\u001b[0m\n\u001b[0;32m----> 1\u001b[0;31m \u001b[0mlen\u001b[0m\u001b[0;34m(\u001b[0m\u001b[0;34m)\u001b[0m\u001b[0;34m\u001b[0m\u001b[0;34m\u001b[0m\u001b[0m\n\u001b[0m",
            "\u001b[0;31mTypeError\u001b[0m: len() takes exactly one argument (0 given)"
          ]
        }
      ]
    },
    {
      "cell_type": "code",
      "source": [
        "len(\"Hello World\")"
      ],
      "metadata": {
        "colab": {
          "base_uri": "https://localhost:8080/"
        },
        "id": "BmQBtUMoqpdE",
        "outputId": "17304a3d-d907-4192-c395-01d14adba782"
      },
      "execution_count": null,
      "outputs": [
        {
          "output_type": "execute_result",
          "data": {
            "text/plain": [
              "11"
            ]
          },
          "metadata": {},
          "execution_count": 12
        }
      ]
    },
    {
      "cell_type": "markdown",
      "source": [
        "Here we use *len* to count how many letters there are in the string \"Hello World\". Notice that *len* considers the space a character, just like the alphabetic characters."
      ],
      "metadata": {
        "id": "DrltXcJoqv_0"
      }
    },
    {
      "cell_type": "code",
      "source": [
        "len(\"Well, \" + \"hello \" * 4 + \"world!\")"
      ],
      "metadata": {
        "colab": {
          "base_uri": "https://localhost:8080/"
        },
        "id": "o7v_EHUKrEDh",
        "outputId": "0e30d753-5354-4369-c57a-ad203bb8e6c0"
      },
      "execution_count": null,
      "outputs": [
        {
          "output_type": "execute_result",
          "data": {
            "text/plain": [
              "36"
            ]
          },
          "metadata": {},
          "execution_count": 13
        }
      ]
    },
    {
      "cell_type": "markdown",
      "source": [
        "### Exercise"
      ],
      "metadata": {
        "id": "RuhjIgOGv75_"
      }
    },
    {
      "cell_type": "markdown",
      "source": [
        "Use *print* and a Math operator to tell us how much you like your favorite food\n",
        "\n"
      ],
      "metadata": {
        "id": "Xhj1cjWDv75_"
      }
    },
    {
      "cell_type": "markdown",
      "source": [
        "## **Numbers**"
      ],
      "metadata": {
        "id": "k4oMniyork4g"
      }
    },
    {
      "cell_type": "markdown",
      "source": [
        "Now let's try using Python operators with numbers."
      ],
      "metadata": {
        "id": "gHaBWMtfrtG4"
      }
    },
    {
      "cell_type": "code",
      "source": [
        "print(4 + 2)\n",
        "print(4 - 2)\n",
        "print(4 * 2)\n",
        "print(4 / 2)"
      ],
      "metadata": {
        "colab": {
          "base_uri": "https://localhost:8080/"
        },
        "id": "b_OU1mdor4od",
        "outputId": "c675607a-e1f4-4bb1-91f1-fb1ed7b74f95"
      },
      "execution_count": null,
      "outputs": [
        {
          "output_type": "stream",
          "name": "stdout",
          "text": [
            "6\n",
            "2\n",
            "8\n",
            "2.0\n"
          ]
        }
      ]
    },
    {
      "cell_type": "markdown",
      "source": [
        "Where order of operations matters (If you've seen PEMDAS in math class), you can use parenthesis to group operations."
      ],
      "metadata": {
        "id": "iYfjIQQ_sCKO"
      }
    },
    {
      "cell_type": "code",
      "source": [
        "print(2 * (4 + 6))\n",
        "print((10 + 6) / (9 - 1))"
      ],
      "metadata": {
        "colab": {
          "base_uri": "https://localhost:8080/"
        },
        "id": "CEdiUHI6smR_",
        "outputId": "ea2674a2-7809-4d01-deb4-0097067ad656"
      },
      "execution_count": null,
      "outputs": [
        {
          "output_type": "stream",
          "name": "stdout",
          "text": [
            "20\n",
            "2.0\n"
          ]
        }
      ]
    },
    {
      "cell_type": "markdown",
      "source": [
        "Python also has a *modulo* operator that is common in programming. The percent (%) symbol is used for *modulo* which is just the remainder AFTER you've done division.  \n",
        "\n",
        "This is handy when you need to know what is left over. For example, if you have 25 jelly beans and 8 people, how many jelly beans are left over when everyone has been given an equal amount?"
      ],
      "metadata": {
        "id": "n_UGNnaTs06_"
      }
    },
    {
      "cell_type": "code",
      "source": [
        "print(25 % 8)"
      ],
      "metadata": {
        "colab": {
          "base_uri": "https://localhost:8080/"
        },
        "id": "2ypjueZwtugM",
        "outputId": "70ed9a70-e362-4916-b609-582b97d461d7"
      },
      "execution_count": null,
      "outputs": [
        {
          "output_type": "stream",
          "name": "stdout",
          "text": [
            "1\n"
          ]
        }
      ]
    },
    {
      "cell_type": "markdown",
      "source": [
        "To get the divisor for a division problem, use two slashes (//), the *floor division* operator.\n",
        "\n",
        "Example: 25 // 8 (result is 3)"
      ],
      "metadata": {
        "id": "H-j-JAx2hwTv"
      }
    },
    {
      "cell_type": "markdown",
      "source": [
        "### Exercises"
      ],
      "metadata": {
        "id": "eU-YHboGwSol"
      }
    },
    {
      "cell_type": "markdown",
      "source": [
        "How could you use *modulo* to figure out if a number is odd or even?"
      ],
      "metadata": {
        "id": "5VMfOv73twx0"
      }
    },
    {
      "cell_type": "markdown",
      "source": [
        "#### Hint:"
      ],
      "metadata": {
        "id": "cXBqDYXmwSom"
      }
    },
    {
      "cell_type": "markdown",
      "source": [
        "What happens when you divide any odd number by 2?"
      ],
      "metadata": {
        "id": "lWlMBNWuuBlD"
      }
    },
    {
      "cell_type": "markdown",
      "source": [
        "#### What is the difference between the following two print statements?"
      ],
      "metadata": {
        "id": "cdQstXyNuDM_"
      }
    },
    {
      "cell_type": "code",
      "source": [
        "print(\"20\" + \"20\")\n",
        "print(20 + 20)"
      ],
      "metadata": {
        "id": "e_qxrIsEuIts"
      },
      "execution_count": null,
      "outputs": []
    },
    {
      "cell_type": "code",
      "source": [
        "print(\"20\" * \"20\")\n",
        "print(20 * 20)"
      ],
      "metadata": {
        "id": "6hxgurdOuPxn"
      },
      "execution_count": null,
      "outputs": []
    },
    {
      "cell_type": "markdown",
      "source": [
        "## **Variables**"
      ],
      "metadata": {
        "id": "_kUbmf2huWxo"
      }
    },
    {
      "cell_type": "markdown",
      "source": [
        "Some strings (like supercalifragilisticexpialidocious) or numbers like pi (3.141592653589793238462643383279502) are long and would be a pain to type out over and over.  \n",
        "\n",
        "Python has **variables** where we can store information and reuse it without typing it all out.\n",
        "\n",
        "\n",
        "Let's store a long word in a variable called *big_word*\n"
      ],
      "metadata": {
        "id": "irFwr4I8ujeC"
      }
    },
    {
      "cell_type": "code",
      "source": [
        "big_word = \"supercalifragilisticexpialidocious\""
      ],
      "metadata": {
        "id": "X8Zmv4LTxUhz"
      },
      "execution_count": null,
      "outputs": []
    },
    {
      "cell_type": "code",
      "source": [
        "print(big_word)"
      ],
      "metadata": {
        "colab": {
          "base_uri": "https://localhost:8080/"
        },
        "id": "-1h-_zfaxVym",
        "outputId": "26b7c16b-321a-4797-ec93-d93b58329a38"
      },
      "execution_count": null,
      "outputs": [
        {
          "output_type": "stream",
          "name": "stdout",
          "text": [
            "supercalifragilisticexpialidocious\n"
          ]
        }
      ]
    },
    {
      "cell_type": "markdown",
      "source": [
        "Notice the input I gave **print** was the variable *big_word* NOT the string \"big_word\""
      ],
      "metadata": {
        "id": "WaaURg5Jx9_d"
      }
    },
    {
      "cell_type": "markdown",
      "source": [
        "The **type** of variable is determined by the *value* assigned to the variable. \"\"supercalifragilisticexpialidocious\" is a string so *big_word* is a string variable.\n",
        "\n",
        "If I assign 3.141592653589793238462643383279502 to a variable called *long_number*, it will be a numeric variable."
      ],
      "metadata": {
        "id": "XdzbMpaiyKT0"
      }
    },
    {
      "cell_type": "code",
      "source": [
        "long_number = 3.141592653589793238462643383279502"
      ],
      "metadata": {
        "id": "0R9fFLhGyu2G"
      },
      "execution_count": null,
      "outputs": []
    },
    {
      "cell_type": "markdown",
      "source": [
        "Operators used with string variables will behave the way strings do."
      ],
      "metadata": {
        "id": "LnRhw06Ay1W0"
      }
    },
    {
      "cell_type": "code",
      "source": [
        "print(big_word *3)"
      ],
      "metadata": {
        "colab": {
          "base_uri": "https://localhost:8080/"
        },
        "id": "2NJ8z8_By_B7",
        "outputId": "f3e889b9-366b-42da-dc53-e6c423146ce1"
      },
      "execution_count": null,
      "outputs": [
        {
          "output_type": "stream",
          "name": "stdout",
          "text": [
            "supercalifragilisticexpialidocioussupercalifragilisticexpialidocioussupercalifragilisticexpialidocious\n"
          ]
        }
      ]
    },
    {
      "cell_type": "markdown",
      "source": [
        "Operators used with numeric variables will behave the way numbers do."
      ],
      "metadata": {
        "id": "iB5P7mPazD8C"
      }
    },
    {
      "cell_type": "code",
      "source": [
        "print(long_number * 3)"
      ],
      "metadata": {
        "colab": {
          "base_uri": "https://localhost:8080/"
        },
        "id": "flCzAbxWzK0e",
        "outputId": "9e144b9d-003d-4838-de32-cc700448b62b"
      },
      "execution_count": null,
      "outputs": [
        {
          "output_type": "stream",
          "name": "stdout",
          "text": [
            "9.42477796076938\n"
          ]
        }
      ]
    },
    {
      "cell_type": "markdown",
      "source": [
        "You can't use a variable until you've assigned it a value."
      ],
      "metadata": {
        "id": "YwNheFKvzM1J"
      }
    },
    {
      "cell_type": "code",
      "source": [
        "print(\"My name is \" + name)"
      ],
      "metadata": {
        "colab": {
          "base_uri": "https://localhost:8080/",
          "height": 144
        },
        "id": "x3PHzwABzds5",
        "outputId": "53399b64-1e86-4fe1-c56f-4ecf9531b123"
      },
      "execution_count": null,
      "outputs": [
        {
          "output_type": "error",
          "ename": "NameError",
          "evalue": "name 'name' is not defined",
          "traceback": [
            "\u001b[0;31m---------------------------------------------------------------------------\u001b[0m",
            "\u001b[0;31mNameError\u001b[0m                                 Traceback (most recent call last)",
            "\u001b[0;32m/tmp/ipython-input-22-89598342.py\u001b[0m in \u001b[0;36m<cell line: 0>\u001b[0;34m()\u001b[0m\n\u001b[0;32m----> 1\u001b[0;31m \u001b[0mprint\u001b[0m\u001b[0;34m(\u001b[0m\u001b[0;34m\"My name is \"\u001b[0m \u001b[0;34m+\u001b[0m \u001b[0mname\u001b[0m\u001b[0;34m)\u001b[0m\u001b[0;34m\u001b[0m\u001b[0;34m\u001b[0m\u001b[0m\n\u001b[0m",
            "\u001b[0;31mNameError\u001b[0m: name 'name' is not defined"
          ]
        }
      ]
    },
    {
      "cell_type": "code",
      "source": [
        "name = \"Scout\"\n",
        "greeting = \"Hello \" + name\n",
        "print(greeting)"
      ],
      "metadata": {
        "colab": {
          "base_uri": "https://localhost:8080/"
        },
        "id": "vrrSf74Uzhj6",
        "outputId": "ef390908-02d1-45a7-e679-32b4bfe6b13d"
      },
      "execution_count": null,
      "outputs": [
        {
          "output_type": "stream",
          "name": "stdout",
          "text": [
            "Hello Scout\n"
          ]
        }
      ]
    },
    {
      "cell_type": "markdown",
      "source": [
        "Explain the code cell above using at least one of the following words:\n",
        "\n",
        "function   print   string   closing   type variable   operator   input   opening   assign   numeric   value   statement   addition   defined"
      ],
      "metadata": {
        "id": "rK14iPBn1fSU"
      }
    },
    {
      "cell_type": "markdown",
      "source": [
        "### Important: **Variable assignment** is **NOT** like Math"
      ],
      "metadata": {
        "id": "FAA9okjH3lAe"
      }
    },
    {
      "cell_type": "markdown",
      "source": [
        "You can use functions and operators on a variable and assign the result back to the **SAME** variable name and that assignment will **update the variable to the new value**"
      ],
      "metadata": {
        "id": "XAKXVEMH4KNI"
      }
    },
    {
      "cell_type": "code",
      "source": [
        "points = 25\n",
        "points = points + 50\n",
        "print(points)"
      ],
      "metadata": {
        "id": "yJ7KIEwU3gud",
        "colab": {
          "base_uri": "https://localhost:8080/"
        },
        "outputId": "40f040c2-fb16-4f87-8ee3-449350d03203"
      },
      "execution_count": null,
      "outputs": [
        {
          "output_type": "stream",
          "name": "stdout",
          "text": [
            "75\n"
          ]
        }
      ]
    },
    {
      "cell_type": "markdown",
      "source": [
        "![variable_assignment.png](data:image/png;base64,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)"
      ],
      "metadata": {
        "id": "1Qo2noRYGV-b"
      }
    },
    {
      "cell_type": "markdown",
      "source": [
        "Here's an example with strings:"
      ],
      "metadata": {
        "id": "OBwR2MFj42aJ"
      }
    },
    {
      "cell_type": "code",
      "source": [
        "name = \"Scout\"\n",
        "name = name + name\n",
        "print(name)"
      ],
      "metadata": {
        "colab": {
          "base_uri": "https://localhost:8080/"
        },
        "id": "hI3qEVQx3fxy",
        "outputId": "f6b1875f-35ee-4b08-fa0d-939ff6461188"
      },
      "execution_count": null,
      "outputs": [
        {
          "output_type": "stream",
          "name": "stdout",
          "text": [
            "ScoutScout\n"
          ]
        }
      ]
    },
    {
      "cell_type": "markdown",
      "source": [
        "### Tricky exercise"
      ],
      "metadata": {
        "id": "kUrcDkYj5T9Y"
      }
    },
    {
      "cell_type": "markdown",
      "source": [
        "IF you have:  \n",
        "first = 8  \n",
        "second = \"alien\"  \n",
        "\n",
        "How do you use use **variable assignment** to swap the values for the two variables?\n"
      ],
      "metadata": {
        "id": "9jCXStQz5e4F"
      }
    },
    {
      "cell_type": "markdown",
      "source": [
        "#### First try"
      ],
      "metadata": {
        "id": "iRADibuO77IS"
      }
    },
    {
      "cell_type": "markdown",
      "source": [
        "#####  Code for first try  \n",
        "first = 8  \n",
        "second = \"alien\"  \n",
        "first = second  \n",
        "second = first  \n"
      ],
      "metadata": {
        "id": "qdzR8ZeP9Aiz"
      }
    },
    {
      "cell_type": "code",
      "source": [
        "first = 8\n",
        "second = \"alien\"\n",
        "print(\"before any swapping:\", first, second)"
      ],
      "metadata": {
        "id": "jxjJVGGd8DYC"
      },
      "execution_count": null,
      "outputs": []
    },
    {
      "cell_type": "code",
      "source": [
        "first = second\n",
        "print(\"assigned first to second:\", first, second)"
      ],
      "metadata": {
        "id": "IwOhS5PA8743"
      },
      "execution_count": null,
      "outputs": []
    },
    {
      "cell_type": "code",
      "source": [
        "second = first\n",
        "print(\"assigned second to first:\", first, second)"
      ],
      "metadata": {
        "id": "0wUOYNzA87kr"
      },
      "execution_count": null,
      "outputs": []
    },
    {
      "cell_type": "markdown",
      "source": [
        "#### Second try"
      ],
      "metadata": {
        "id": "VxOZGupY72xk"
      }
    },
    {
      "cell_type": "markdown",
      "source": [
        "##### Code for second try\n",
        "first = 8  \n",
        "second = \"alien\"  \n",
        "extra_variable = first  \n",
        "first = second  \n",
        "second = extra_variable  "
      ],
      "metadata": {
        "id": "ZSkANO7M9WCh"
      }
    },
    {
      "cell_type": "code",
      "source": [
        "first = 8\n",
        "second = \"alien\"\n",
        "extra_variable = first\n",
        "print(\"before any swapping:\", first, second, extra_variable)"
      ],
      "metadata": {
        "id": "wzON3Ype5LhU"
      },
      "execution_count": null,
      "outputs": []
    },
    {
      "cell_type": "code",
      "source": [
        "first = second\n",
        "print(\"assigned first to second:\", first, second, extra_variable)"
      ],
      "metadata": {
        "id": "MMonzySv9wUA"
      },
      "execution_count": null,
      "outputs": []
    },
    {
      "cell_type": "code",
      "source": [
        "second = extra_variable\n",
        "print(\"assigned second to extra_variable:\", first, second, extra_variable)"
      ],
      "metadata": {
        "id": "fwaE4TBs9v8z"
      },
      "execution_count": null,
      "outputs": []
    },
    {
      "cell_type": "markdown",
      "source": [
        "#### Third try"
      ],
      "metadata": {
        "id": "BKoe6M4x74iI"
      }
    },
    {
      "cell_type": "markdown",
      "source": [
        "##### Code for third try\n",
        "first = 8  \n",
        "second = \"alien\"  \n",
        "first, second = second, first"
      ],
      "metadata": {
        "id": "HQvjbrVX-7hb"
      }
    },
    {
      "cell_type": "code",
      "source": [
        "first = 8\n",
        "second = \"alien\"\n",
        "print(\"before any swapping:\", first, second)"
      ],
      "metadata": {
        "id": "o78f4stO_JQq"
      },
      "execution_count": null,
      "outputs": []
    },
    {
      "cell_type": "code",
      "source": [
        "first, second = second, first\n",
        "print(\"swapped assignments in one step:\", first, second)"
      ],
      "metadata": {
        "id": "WZN70Eu1_Mje"
      },
      "execution_count": null,
      "outputs": []
    },
    {
      "cell_type": "markdown",
      "source": [
        "##  **f-strings**"
      ],
      "metadata": {
        "id": "ajQs2FUl_rNs"
      }
    },
    {
      "cell_type": "markdown",
      "source": [
        "In addition to giving **print** multiple inputs for printing with spaces, you can use *formatted strings* or **f-strings**.\n",
        "\n",
        "An f-string has a \"f\" character before the pair of quotes defining your string. You can put any Python expression within curly braces inside the f-string's quotes to create dynamic content without operators."
      ],
      "metadata": {
        "id": "o6nrKZL1_yC4"
      }
    },
    {
      "cell_type": "code",
      "source": [
        "print(f'Well,{\" hello\" * 4} world!')"
      ],
      "metadata": {
        "id": "myDVorLGBSyA",
        "colab": {
          "base_uri": "https://localhost:8080/"
        },
        "outputId": "59032a06-0e19-4a5f-c4ad-88fcae25eb25"
      },
      "execution_count": null,
      "outputs": [
        {
          "output_type": "stream",
          "name": "stdout",
          "text": [
            "Well, hello hello hello hello world!\n"
          ]
        }
      ]
    },
    {
      "cell_type": "markdown",
      "source": [
        "## **User input**"
      ],
      "metadata": {
        "id": "M-vlanxwXpQV"
      }
    },
    {
      "cell_type": "markdown",
      "source": [
        "The *input* commnand allows you to collect information from a user. You can give input a string as a parameter and *input* will print the string, wait for input and store the information as a string."
      ],
      "metadata": {
        "id": "5muTefN5XuW1"
      }
    },
    {
      "cell_type": "code",
      "source": [
        "name = input(\"What is your name?\")"
      ],
      "metadata": {
        "colab": {
          "base_uri": "https://localhost:8080/"
        },
        "id": "p2MvoBj-Ytby",
        "outputId": "0d6838ee-2ce6-4578-89f8-c167f8dab1b9"
      },
      "execution_count": null,
      "outputs": [
        {
          "name": "stdout",
          "output_type": "stream",
          "text": [
            "What is your name?wpl_python\n"
          ]
        }
      ]
    },
    {
      "cell_type": "code",
      "source": [
        "print(\"Hi\", name)"
      ],
      "metadata": {
        "id": "i3cNSAy0Y32N",
        "colab": {
          "base_uri": "https://localhost:8080/"
        },
        "outputId": "6790732f-9c9c-453a-c682-cf3055030007"
      },
      "execution_count": null,
      "outputs": [
        {
          "output_type": "stream",
          "name": "stdout",
          "text": [
            "Hi wpl_python\n"
          ]
        }
      ]
    },
    {
      "cell_type": "markdown",
      "source": [
        "### Exercise"
      ],
      "metadata": {
        "id": "SjHofgytZZEj"
      }
    },
    {
      "cell_type": "markdown",
      "source": [
        "Use *input* to collect a \"secret word\".  \n",
        "Using *print* and a Math operator to convert the secret word into a hint.  \n",
        "Example:  \n",
        "if the secret word is \"python\", print _ _ _ _ _ _"
      ],
      "metadata": {
        "id": "BPy_1oJUZap2"
      }
    },
    {
      "cell_type": "markdown",
      "source": [
        "## **Logical conditions and Booleans**"
      ],
      "metadata": {
        "id": "aPYzphjQkVa-"
      }
    },
    {
      "cell_type": "markdown",
      "source": [
        "Decision making is an important part of programming. When we make decisions, we often look for a condition. When the condition can only be True or False, we call it a Boolean or logical condition.  \n",
        "\n",
        "| Condition    | action |\n",
        "| -------- | ------- |\n",
        "| If the traffic light is red | stop the car    |\n",
        "| If temperature of water is >212| water boils     |\n",
        "| If test score is < 50  | parents get concerned    |\n",
        "\n"
      ],
      "metadata": {
        "id": "o7BOga29kbZd"
      }
    },
    {
      "cell_type": "markdown",
      "source": [
        "We can use comparison operators to evaluate conditions:\n",
        "\n",
        "| Operator    | Description | Example |\n",
        "| -------- | ------- | ------- |\n",
        "| == | Equal | a == b |\n",
        "| != | Not Equal | a != b |\n",
        "| > | Greater than | a > b |\n",
        "| < | Less than | a < b |\n",
        "| >= | Greater than or equal to | a >= b |\n",
        "| <= | Less than or equal to | a <= b |"
      ],
      "metadata": {
        "id": "m_JonEq5k2nL"
      }
    },
    {
      "cell_type": "markdown",
      "source": [
        "Below is a simple example of how you might evaluate a traffic light:"
      ],
      "metadata": {
        "id": "0vhYRWha8cH1"
      }
    },
    {
      "cell_type": "code",
      "source": [
        "light = \"red\" # set the light variable to red\n",
        "stop_car = (light == \"red\") # this is true\n",
        "print(stop_car)"
      ],
      "metadata": {
        "colab": {
          "base_uri": "https://localhost:8080/"
        },
        "id": "yoCr-nSs-rWn",
        "outputId": "166c61c9-dd6e-442e-e458-6d01f74ed40c"
      },
      "execution_count": null,
      "outputs": [
        {
          "output_type": "stream",
          "name": "stdout",
          "text": [
            "True\n"
          ]
        }
      ]
    },
    {
      "cell_type": "code",
      "source": [
        "light = \"green\" # set the light variable to green\n",
        "stop_car = (light == \"red\") # this is not true\n",
        "print(stop_car)"
      ],
      "metadata": {
        "colab": {
          "base_uri": "https://localhost:8080/"
        },
        "id": "6YX-dXtatkoU",
        "outputId": "e72b0d48-4492-4061-fcb1-167a7b09528b"
      },
      "execution_count": null,
      "outputs": [
        {
          "output_type": "stream",
          "name": "stdout",
          "text": [
            "False\n"
          ]
        }
      ]
    },
    {
      "cell_type": "markdown",
      "source": [
        "Comparison operators for numbers work the way they do in math class"
      ],
      "metadata": {
        "id": "-_eEdd7j9ePb"
      }
    },
    {
      "cell_type": "code",
      "source": [
        "boiling_point = 212\n",
        "water_temp = 100\n",
        "is_boiling = (water_temp > boiling_point)\n",
        "print(is_boiling)"
      ],
      "metadata": {
        "colab": {
          "base_uri": "https://localhost:8080/"
        },
        "id": "bTswivFM9ngU",
        "outputId": "75ecf0c6-989b-4e6e-be42-2d63b8d12f2c"
      },
      "execution_count": null,
      "outputs": [
        {
          "output_type": "stream",
          "name": "stdout",
          "text": [
            "False\n"
          ]
        }
      ]
    },
    {
      "cell_type": "markdown",
      "source": [
        "Choosing a meaningful variable name, like boiling_point can help \"future you\" remember what the code is intended to do."
      ],
      "metadata": {
        "id": "Ef7kxNET989-"
      }
    },
    {
      "cell_type": "markdown",
      "source": [
        "If you compare two lists, it will compare the lists element by element (NOT the length of the lists)"
      ],
      "metadata": {
        "id": "R8bKwfPR9nRu"
      }
    },
    {
      "cell_type": "code",
      "source": [
        "group1 = [80, 24, 43]\n",
        "group2 = [80, 30]\n",
        "print(f'group1 is greater than group2: {group1 > group2}')\n",
        "\n",
        "print(f'The length of group1 is greater than group2: {len(group1) > len(group2)}')"
      ],
      "metadata": {
        "colab": {
          "base_uri": "https://localhost:8080/"
        },
        "id": "KmXLXfbT_AaI",
        "outputId": "141170b1-9eda-4b24-a1f8-36cc0a2397c2"
      },
      "execution_count": null,
      "outputs": [
        {
          "output_type": "stream",
          "name": "stdout",
          "text": [
            "group1 is greater than group2: False\n",
            "The length of group1 is greater than group2: True\n"
          ]
        }
      ]
    },
    {
      "cell_type": "markdown",
      "source": [
        "If you compare strings, they're evaluated alphabetically"
      ],
      "metadata": {
        "id": "wvLYGonRAFGl"
      }
    },
    {
      "cell_type": "code",
      "source": [
        "a = \"comparison\"\n",
        "b = \"compare\"\n",
        "print(a == b)     # False, they're not the same word\n",
        "print(a > b)     # True, \"comparison\" comes after \"compare\" in the dictionary\n",
        "print(a < b)     # False\n",
        "\n",
        "print(f'The length of a ({len(a)}) is less than the lenght of b ({len(b)}): {len(a) < len(b)}')     # False"
      ],
      "metadata": {
        "colab": {
          "base_uri": "https://localhost:8080/"
        },
        "id": "L-2gkiHIAHOA",
        "outputId": "a717d7bb-5d2e-4057-eb31-1a3c1eaa2817"
      },
      "execution_count": null,
      "outputs": [
        {
          "output_type": "stream",
          "name": "stdout",
          "text": [
            "False\n",
            "True\n",
            "False\n",
            "The length of a (10) is less than the lenght of b (7): False\n"
          ]
        }
      ]
    },
    {
      "cell_type": "markdown",
      "source": [
        "## **if** statements"
      ],
      "metadata": {
        "id": "bS0ooqEjOr_x"
      }
    },
    {
      "cell_type": "markdown",
      "source": [
        "Now that you know how to set up a logical condition, you can add decision making to control the flow of your Python code.  \n",
        "\n",
        "So far in our coding, our code statements are simple and only need one line. When Python code is more complicated, we use whitespace so that Python knows how the code is structured.\n",
        "\n",
        "An **if** statement will execute a block of code IF a logical condition is true.\n",
        "\n",
        "\n"
      ],
      "metadata": {
        "id": "OgpiIBsPO1Fn"
      }
    },
    {
      "cell_type": "code",
      "source": [
        "number = 10\n",
        "if number > 0:\n",
        "  print(\"This is a positive number\")\n",
        "  print(f\"The number is {number}\")"
      ],
      "metadata": {
        "colab": {
          "base_uri": "https://localhost:8080/"
        },
        "id": "ahad9iZIRGJj",
        "outputId": "ca04b2f2-1601-4ee1-de09-cc9873f107bd"
      },
      "execution_count": null,
      "outputs": [
        {
          "output_type": "stream",
          "name": "stdout",
          "text": [
            "This is a positive number\n",
            "The number is 10\n"
          ]
        }
      ]
    },
    {
      "cell_type": "markdown",
      "source": [
        "Notice the two print statements were indented, that tells Python they both \"belong\" to the if statement and should be printed if (number > 0) is true. Compare the indentation of the next two examples, run them and see how they behave differently:\n"
      ],
      "metadata": {
        "id": "_au4JflPPVJ2"
      }
    },
    {
      "cell_type": "code",
      "source": [
        " number = -7\n",
        "if number > 0:\n",
        "  print(\"This is a positive number\")\n",
        "  print(f\"The number is {number}\")"
      ],
      "metadata": {
        "id": "flHMP3JPRJEU"
      },
      "execution_count": null,
      "outputs": []
    },
    {
      "cell_type": "code",
      "source": [
        "number = -7\n",
        "if number > 0:\n",
        "  print(\"This is a positive number\")\n",
        "print(f\"The number is {number}\")"
      ],
      "metadata": {
        "colab": {
          "base_uri": "https://localhost:8080/"
        },
        "id": "Ms4S5v9QR439",
        "outputId": "2582e07d-0751-4cc8-c84b-b952f7b3d7ad"
      },
      "execution_count": null,
      "outputs": [
        {
          "output_type": "stream",
          "name": "stdout",
          "text": [
            "The number is -7\n"
          ]
        }
      ]
    },
    {
      "cell_type": "markdown",
      "source": [
        "We might want to do something different if the logical condition is false (in addition to what we do when it is true). We can use Python's **if...else** statement."
      ],
      "metadata": {
        "id": "6pOhq_teSQkY"
      }
    },
    {
      "cell_type": "code",
      "source": [
        "number = 10\n",
        "print(f\"The number is {number}\")\n",
        "if number > 0:\n",
        "  print(\"This is a positive number\")\n",
        "else:\n",
        "  print(\"This is a negative number\")\n"
      ],
      "metadata": {
        "colab": {
          "base_uri": "https://localhost:8080/"
        },
        "id": "c7_rr5NCSR8U",
        "outputId": "4deb8c7d-1f67-463e-ac70-6c7f4e2daa47"
      },
      "execution_count": null,
      "outputs": [
        {
          "output_type": "stream",
          "name": "stdout",
          "text": [
            "The number is 10\n",
            "This is a positive number\n"
          ]
        }
      ]
    },
    {
      "cell_type": "code",
      "source": [
        "number = -7\n",
        "print(f\"The number is {number}\")\n",
        "if number > 0:\n",
        "  print(\"This is a positive number\")\n",
        "else:\n",
        "  print(\"This is a negative number\")"
      ],
      "metadata": {
        "colab": {
          "base_uri": "https://localhost:8080/"
        },
        "id": "pdEy94UASzB3",
        "outputId": "4baa2b17-727f-4dbe-968d-cf2c247d529d"
      },
      "execution_count": null,
      "outputs": [
        {
          "output_type": "stream",
          "name": "stdout",
          "text": [
            "The number is -7\n",
            "This is a negative number\n"
          ]
        }
      ]
    },
    {
      "cell_type": "markdown",
      "source": [
        "### Exercise"
      ],
      "metadata": {
        "id": "gvElHGhRS1qI"
      }
    },
    {
      "cell_type": "markdown",
      "source": [
        "Remember the modulo operator (%)? It does division but only returns the remainder. Can you write code to use *if...else* and *modulo* to determine if a number is odd or even?"
      ],
      "metadata": {
        "id": "xsH3KeguTA6F"
      }
    },
    {
      "cell_type": "markdown",
      "source": [
        "## **while** loops"
      ],
      "metadata": {
        "id": "E-MKXka3WZ05"
      }
    },
    {
      "cell_type": "markdown",
      "source": [
        "**while** loops run a block of code until the condition is no longer true"
      ],
      "metadata": {
        "id": "plFy9CnxWdU0"
      }
    },
    {
      "cell_type": "code",
      "source": [
        "cake = 10\n",
        "people = 2\n",
        "while cake // people > 0:  # the // operator returns the divisor\n",
        "    print(f\"We can all have more cake - there are {cake} piece(s)\")\n",
        "    cake = cake - people\n",
        "\n",
        "print(f\"There isn't enough cake left for everyone. There are {cake} piece(s) of cake and {people} people\")"
      ],
      "metadata": {
        "colab": {
          "base_uri": "https://localhost:8080/"
        },
        "id": "MdaZ0WPuRQEc",
        "outputId": "80f18b41-866e-4db6-feef-37e1af35587d"
      },
      "execution_count": null,
      "outputs": [
        {
          "output_type": "stream",
          "name": "stdout",
          "text": [
            "We can all have more cake - there are 10 piece(s)\n",
            "We can all have more cake - there are 8 piece(s)\n",
            "We can all have more cake - there are 6 piece(s)\n",
            "We can all have more cake - there are 4 piece(s)\n",
            "We can all have more cake - there are 2 piece(s)\n",
            "There isn't enough cake left for everyone. There are 0 piece(s) of cake and 2 people\n"
          ]
        }
      ]
    },
    {
      "cell_type": "markdown",
      "source": [
        "## **Guess the number**"
      ],
      "metadata": {
        "id": "iR9ZIaiSM6op"
      }
    },
    {
      "cell_type": "code",
      "source": [
        "import random\n",
        "\n",
        "min_num = 1\n",
        "max_plus_one = 101\n",
        "the_number = random.randrange(min_num, max_plus_one)\n",
        "print(f\"Guess a number between {min_num} and {(max_plus_one -1)}.\")\n",
        "\n",
        "while True:\n",
        "    guess = int(input('Enter your guess : '))\n",
        "\n",
        "    if guess == the_number:\n",
        "        print(f'Correct! The number is {the_number}!!')\n",
        "        break\n",
        "    elif guess < the_number:\n",
        "        print(f'Your guess, {guess}, is lower than the number')\n",
        "\n",
        "    elif guess > the_number:\n",
        "        print(f'Your guess, {guess}, is higher than the number')"
      ],
      "metadata": {
        "id": "x6CzjodXHhO5"
      },
      "execution_count": null,
      "outputs": []
    },
    {
      "cell_type": "code",
      "source": [
        "import random\n",
        "\n",
        "min_num = 1\n",
        "max_plus_one = 101\n",
        "the_number = random.randrange(min_num, max_plus_one)\n",
        "chances = 7\n",
        "print(f\"Guess a number between {min_num} and {(max_plus_one -1)}.\\nYou have {chances} chances to guess the number. \")\n",
        "\n",
        "guesses = 0\n",
        "stumped = True\n",
        "\n",
        "while guesses < chances:\n",
        "\n",
        "    guesses += 1\n",
        "    guess = int(input('Enter your guess : '))\n",
        "\n",
        "    if guess == the_number:\n",
        "        print(f'Correct! The number is {the_number}!! You got it on attempt {guesses}')\n",
        "        stumped = False\n",
        "        break\n",
        "    elif guess < the_number:\n",
        "        print(f'Your guess, {guess}, is lower than the number')\n",
        "\n",
        "    elif guess > the_number:\n",
        "        print(f'Your guess, {guess}, is higher than the number')\n",
        "\n",
        "if stumped:\n",
        "    print(f'You ran out of chances. The number was {the_number}')"
      ],
      "metadata": {
        "id": "-ODWSwEqA6YD"
      },
      "execution_count": null,
      "outputs": []
    }
  ]
}