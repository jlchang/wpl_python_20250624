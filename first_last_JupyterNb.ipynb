{
  "nbformat": 4,
  "nbformat_minor": 0,
  "metadata": {
    "colab": {
      "provenance": [],
      "collapsed_sections": [
        "jpCgmzsKvBSG",
        "qqFYsBFlvbv0",
        "RuhjIgOGv75_",
        "cXBqDYXmwSom",
        "kUrcDkYj5T9Y",
        "iRADibuO77IS",
        "BKoe6M4x74iI",
        "bHc2jh7_BdW5"
      ]
    },
    "kernelspec": {
      "name": "python3",
      "display_name": "Python 3"
    },
    "language_info": {
      "name": "python"
    }
  },
  "cells": [
    {
      "cell_type": "markdown",
      "source": [
        "## **Working with Jupyter Notebook**\n",
        "\n",
        "\n"
      ],
      "metadata": {
        "id": "vy7ZENwCqoXy"
      }
    },
    {
      "cell_type": "markdown",
      "source": [
        "**[esc]** switch from edit mode to command mode  \n",
        "(notice a cursor inside the current cell)\n",
        "\n",
        "In command mode\n",
        "*   **A** &nbsp;&nbsp;&nbsp; Insert new cell above current cell\n",
        "*   **B** &nbsp;&nbsp;&nbsp; Insert new cell below current cell\n",
        "*   **M** &nbsp;&nbsp;&nbsp; Change to cell Markdown (text) cell\n",
        "*   **Y** &nbsp;&nbsp;&nbsp; Change to cell Code cell\n",
        "\n",
        "**[enter]** switch from command mode to edit mode\n",
        "(notice an outline around the current cell)\n",
        "\n",
        "*   **Alt+Enter** &nbsp; Run the current cell and insert new cell\n",
        "*   **Ctrl + s** &nbsp;&nbsp;&nbsp;&nbsp;&nbsp; Save Notebook  \n",
        "\n",
        "To download files:  [jupyter.org/try-jupyter/tree](https://jupyter.org/try-jupyter/tree)"
      ],
      "metadata": {
        "id": "HX03kWVCso0b"
      }
    }
  ]
}