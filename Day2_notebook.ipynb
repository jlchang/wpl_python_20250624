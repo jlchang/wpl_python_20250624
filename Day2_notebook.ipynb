{
  "metadata": {
    "kernelspec": {
      "name": "python",
      "display_name": "Python (Pyodide)",
      "language": "python"
    },
    "language_info": {
      "codemirror_mode": {
        "name": "python",
        "version": 3
      },
      "file_extension": ".py",
      "mimetype": "text/x-python",
      "name": "python",
      "nbconvert_exporter": "python",
      "pygments_lexer": "ipython3",
      "version": "3.8"
    }
  },
  "nbformat_minor": 5,
  "nbformat": 4,
  "cells": [
    {
      "id": "6755bf17-f99b-4a84-b9df-bae6c208144f",
      "cell_type": "code",
      "source": "",
      "metadata": {
        "trusted": true
      },
      "outputs": [],
      "execution_count": null
    },
    {
      "id": "10622fd4-0cc6-42b6-824e-1042fe28a62d",
      "cell_type": "code",
      "source": "print(\"Good Morning\")",
      "metadata": {
        "trusted": true
      },
      "outputs": [
        {
          "name": "stdout",
          "output_type": "stream",
          "text": "Good Morning\n"
        }
      ],
      "execution_count": 2
    },
    {
      "id": "34b7f522-7990-448b-9306-641a1e3d2fed",
      "cell_type": "code",
      "source": "import random\nmin_num = 1\nmax_plus_one = 11\nthe_number = random.randrange(min_num, max_plus_one)\nprint(f\"Guess a number between {min_num} and {(max_plus_one -1)}.\")\nchances = 2\nguesses = 0\n\nwhile guesses < chances:\n    guess = int(input(\"Enter your guess:\"))\n    guesses += 1\n    if guess == the_number:\n        print(f'Correct!! You guessed the number')\n        break\n    elif guess < the_number:\n        print(f'Make your guess bigger than {guess}')\n    else:\n        print(f'Make your guess smaller than {guess}')\n",
      "metadata": {
        "trusted": true
      },
      "outputs": [
        {
          "name": "stdout",
          "output_type": "stream",
          "text": "Guess a number between 1 and 10.\n"
        }
      ],
      "execution_count": null
    },
    {
      "id": "1ccc90cb-b836-4547-9ad2-8e93acadb98d",
      "cell_type": "code",
      "source": "foods=[\"ramen\", \"apple\", \"chicken\", \"strawberry\", \"pasta\", \"popcorn\", \"meatballs\"]",
      "metadata": {
        "trusted": true
      },
      "outputs": [],
      "execution_count": 3
    },
    {
      "id": "eaafbe1f-431c-491a-92a3-6e04a784d8e7",
      "cell_type": "code",
      "source": "print(foods)",
      "metadata": {
        "trusted": true
      },
      "outputs": [
        {
          "name": "stdout",
          "output_type": "stream",
          "text": "['ramen', 'apple', 'chicken', 'strawberry', 'pasta', 'popcorn', 'meatballs']\n"
        }
      ],
      "execution_count": 4
    },
    {
      "id": "1079de7c-48ae-4f72-855b-9020a8124584",
      "cell_type": "code",
      "source": "print(\"foods\")",
      "metadata": {
        "trusted": true
      },
      "outputs": [
        {
          "name": "stdout",
          "output_type": "stream",
          "text": "foods\n"
        }
      ],
      "execution_count": 5
    },
    {
      "id": "18e9e651-46db-4ea5-a05f-f0ab2df1fc8a",
      "cell_type": "code",
      "source": "name = \"Jean\"",
      "metadata": {
        "trusted": true
      },
      "outputs": [],
      "execution_count": 7
    },
    {
      "id": "e65c31e0-a4db-4422-b705-fc217a8d48a0",
      "cell_type": "code",
      "source": "print(name)",
      "metadata": {
        "trusted": true
      },
      "outputs": [
        {
          "name": "stdout",
          "output_type": "stream",
          "text": "Jean\n"
        }
      ],
      "execution_count": 8
    },
    {
      "id": "e75560f9-2409-419c-a9f2-4bd4273cbea9",
      "cell_type": "code",
      "source": "print(foods[1])",
      "metadata": {
        "trusted": true
      },
      "outputs": [
        {
          "name": "stdout",
          "output_type": "stream",
          "text": "apple\n"
        }
      ],
      "execution_count": 9
    },
    {
      "id": "d0d59811-f44b-47b2-8b4d-80e74dd6c30c",
      "cell_type": "code",
      "source": "print(foods[-1])",
      "metadata": {
        "trusted": true
      },
      "outputs": [
        {
          "name": "stdout",
          "output_type": "stream",
          "text": "meatballs\n"
        }
      ],
      "execution_count": 10
    },
    {
      "id": "477b1f3e-c182-4484-a213-89098dc0963e",
      "cell_type": "code",
      "source": "print(len(\"foods\"))",
      "metadata": {
        "trusted": true
      },
      "outputs": [
        {
          "name": "stdout",
          "output_type": "stream",
          "text": "5\n"
        }
      ],
      "execution_count": 11
    },
    {
      "id": "d14449cd-5ddd-4ba1-9c92-3db572e8c294",
      "cell_type": "code",
      "source": "print(foods)",
      "metadata": {
        "trusted": true
      },
      "outputs": [
        {
          "name": "stdout",
          "output_type": "stream",
          "text": "['ramen', 'apple', 'chicken', 'strawberry', 'pasta', 'popcorn', 'meatballs']\n"
        }
      ],
      "execution_count": 12
    },
    {
      "id": "26043c7d-7627-4c41-aa54-34ef70633f6d",
      "cell_type": "code",
      "source": "print(len(foods))",
      "metadata": {
        "trusted": true
      },
      "outputs": [
        {
          "name": "stdout",
          "output_type": "stream",
          "text": "7\n"
        }
      ],
      "execution_count": 13
    },
    {
      "id": "4b50ee66-346f-4f29-9cad-feb5fc0f1bb1",
      "cell_type": "code",
      "source": "numbers = [ 2, 7, 8,92]",
      "metadata": {
        "trusted": true
      },
      "outputs": [],
      "execution_count": 14
    },
    {
      "id": "62edc293-d452-44c8-922e-563acae8d1f7",
      "cell_type": "code",
      "source": "print(len(numbers))",
      "metadata": {
        "trusted": true
      },
      "outputs": [
        {
          "name": "stdout",
          "output_type": "stream",
          "text": "4\n"
        }
      ],
      "execution_count": 15
    },
    {
      "id": "953f668f-5634-4b49-a302-d1e75426103d",
      "cell_type": "code",
      "source": "mix = [ 2, \"apple\", 92, \"pasta\", 3.4]",
      "metadata": {
        "trusted": true
      },
      "outputs": [],
      "execution_count": 17
    },
    {
      "id": "dd1b75fb-e5a2-4946-a51d-2b7245d897bb",
      "cell_type": "code",
      "source": "print(len(mix))",
      "metadata": {
        "trusted": true
      },
      "outputs": [
        {
          "name": "stdout",
          "output_type": "stream",
          "text": "5\n"
        }
      ],
      "execution_count": 18
    },
    {
      "id": "4c546e11-cde2-4709-874f-e994298fc98e",
      "cell_type": "markdown",
      "source": "Below is an example of a method for a list object",
      "metadata": {}
    },
    {
      "id": "baff11aa-03e5-475e-95af-0fd56df01fc6",
      "cell_type": "code",
      "source": "foods.append(\"bibimbop\")",
      "metadata": {
        "trusted": true
      },
      "outputs": [],
      "execution_count": 19
    },
    {
      "id": "135d428c-0216-4a05-886c-390257c002d4",
      "cell_type": "code",
      "source": "print(foods)",
      "metadata": {
        "trusted": true
      },
      "outputs": [
        {
          "name": "stdout",
          "output_type": "stream",
          "text": "['ramen', 'apple', 'chicken', 'strawberry', 'pasta', 'popcorn', 'meatballs', 'bibimbop']\n"
        }
      ],
      "execution_count": 20
    },
    {
      "id": "cf80ce32-e0b0-4448-9b58-0ea94637c756",
      "cell_type": "code",
      "source": "foods[1] = None",
      "metadata": {
        "trusted": true
      },
      "outputs": [],
      "execution_count": 21
    },
    {
      "id": "80c0df32-e960-4d9e-a0fe-afbae509afea",
      "cell_type": "code",
      "source": "print(foods)",
      "metadata": {
        "trusted": true
      },
      "outputs": [
        {
          "name": "stdout",
          "output_type": "stream",
          "text": "['ramen', None, 'chicken', 'strawberry', 'pasta', 'popcorn', 'meatballs', 'bibimbop']\n"
        }
      ],
      "execution_count": 22
    },
    {
      "id": "a58bacae-ea62-4d0c-9e28-75d2a1d5f307",
      "cell_type": "code",
      "source": "foods[1] = \"\"",
      "metadata": {
        "trusted": true
      },
      "outputs": [],
      "execution_count": 23
    },
    {
      "id": "afbce8bc-7e58-4658-a229-834ff72cb803",
      "cell_type": "code",
      "source": "print(foods)",
      "metadata": {
        "trusted": true
      },
      "outputs": [
        {
          "name": "stdout",
          "output_type": "stream",
          "text": "['ramen', '', 'chicken', 'strawberry', 'pasta', 'popcorn', 'meatballs', 'bibimbop']\n"
        }
      ],
      "execution_count": 24
    },
    {
      "id": "6ecb1f83-0518-47cf-9796-b97191660821",
      "cell_type": "code",
      "source": "print(len(foods))",
      "metadata": {
        "trusted": true
      },
      "outputs": [
        {
          "name": "stdout",
          "output_type": "stream",
          "text": "8\n"
        }
      ],
      "execution_count": 25
    },
    {
      "id": "d9d8920e-f16b-44a2-bd89-42ac1a332b7e",
      "cell_type": "code",
      "source": "foods[1] = None",
      "metadata": {
        "trusted": true
      },
      "outputs": [],
      "execution_count": 26
    },
    {
      "id": "5b036f8b-29da-4c16-b18c-f397c9da00f2",
      "cell_type": "code",
      "source": "print(foods)",
      "metadata": {
        "trusted": true
      },
      "outputs": [
        {
          "name": "stdout",
          "output_type": "stream",
          "text": "['ramen', None, 'chicken', 'strawberry', 'pasta', 'popcorn', 'meatballs', 'bibimbop']\n"
        }
      ],
      "execution_count": 27
    },
    {
      "id": "c579a5bc-ef6d-463f-b470-f5248efdd73a",
      "cell_type": "code",
      "source": "print(len(foods))",
      "metadata": {
        "trusted": true
      },
      "outputs": [
        {
          "name": "stdout",
          "output_type": "stream",
          "text": "8\n"
        }
      ],
      "execution_count": 28
    },
    {
      "id": "06c96802-4173-4dcf-bd16-4e19eb3d37a4",
      "cell_type": "code",
      "source": "help(list.pop)",
      "metadata": {
        "trusted": true
      },
      "outputs": [
        {
          "name": "stdout",
          "output_type": "stream",
          "text": "Help on method_descriptor:\n\npop(self, index=-1, /) unbound builtins.list method\n    Remove and return item at index (default last).\n\n    Raises IndexError if list is empty or index is out of range.\n\n"
        }
      ],
      "execution_count": 30
    },
    {
      "id": "dc256085-ae3d-4e53-a7f3-c8c51c424e33",
      "cell_type": "code",
      "source": "foods[1] = \"apple\"",
      "metadata": {
        "trusted": true
      },
      "outputs": [],
      "execution_count": 31
    },
    {
      "id": "682b7db1-9861-4212-bf60-7a3aacfb236d",
      "cell_type": "code",
      "source": "print(foods)",
      "metadata": {
        "trusted": true
      },
      "outputs": [
        {
          "name": "stdout",
          "output_type": "stream",
          "text": "['ramen', 'apple', 'chicken', 'strawberry', 'pasta', 'popcorn', 'meatballs', 'bibimbop']\n"
        }
      ],
      "execution_count": 32
    },
    {
      "id": "593a0eae-fbc7-4d13-8a4a-dd6806bc49f9",
      "cell_type": "code",
      "source": "end = foods.pop()",
      "metadata": {
        "trusted": true
      },
      "outputs": [],
      "execution_count": 33
    },
    {
      "id": "606afefd-1f37-4602-89dc-2a9208398486",
      "cell_type": "code",
      "source": "print(foods)",
      "metadata": {
        "trusted": true
      },
      "outputs": [
        {
          "name": "stdout",
          "output_type": "stream",
          "text": "['ramen', 'apple', 'chicken', 'strawberry', 'pasta', 'popcorn', 'meatballs']\n"
        }
      ],
      "execution_count": 34
    },
    {
      "id": "04f02895-79f0-4e0d-bf90-d9dc94f0af6d",
      "cell_type": "code",
      "source": "print(end)",
      "metadata": {
        "trusted": true
      },
      "outputs": [
        {
          "name": "stdout",
          "output_type": "stream",
          "text": "bibimbop\n"
        }
      ],
      "execution_count": 35
    },
    {
      "id": "1f0834fe-29f9-4565-9a36-27689acdb120",
      "cell_type": "code",
      "source": "end = foods.pop(1)",
      "metadata": {
        "trusted": true
      },
      "outputs": [],
      "execution_count": 36
    },
    {
      "id": "ff9d6bc3-e49e-40e0-be6a-3fb0a1fbd1e1",
      "cell_type": "code",
      "source": "print(foods)",
      "metadata": {
        "trusted": true
      },
      "outputs": [
        {
          "name": "stdout",
          "output_type": "stream",
          "text": "['ramen', 'chicken', 'strawberry', 'pasta', 'popcorn', 'meatballs']\n"
        }
      ],
      "execution_count": 37
    },
    {
      "id": "e96a3068-67c8-4a84-8be1-e3c5bbc58b09",
      "cell_type": "code",
      "source": "print(end)",
      "metadata": {
        "trusted": true
      },
      "outputs": [
        {
          "name": "stdout",
          "output_type": "stream",
          "text": "apple\n"
        }
      ],
      "execution_count": 38
    },
    {
      "id": "e87885b1-b01e-44cd-bcca-64e6cd0ed446",
      "cell_type": "code",
      "source": "foods",
      "metadata": {
        "trusted": true
      },
      "outputs": [
        {
          "execution_count": 40,
          "output_type": "execute_result",
          "data": {
            "text/plain": "['ramen', 'chicken', 'strawberry', 'pasta', 'popcorn', 'meatballs']"
          },
          "metadata": {}
        }
      ],
      "execution_count": 40
    },
    {
      "id": "84e3cc89-b96f-412c-b114-f38ef428eaa4",
      "cell_type": "code",
      "source": "numbers",
      "metadata": {
        "trusted": true
      },
      "outputs": [
        {
          "execution_count": 41,
          "output_type": "execute_result",
          "data": {
            "text/plain": "[2, 7, 8, 92]"
          },
          "metadata": {}
        }
      ],
      "execution_count": 41
    },
    {
      "id": "65f9a408-1833-4475-b46c-515f53c26362",
      "cell_type": "code",
      "source": "added = foods + numbers",
      "metadata": {
        "trusted": true
      },
      "outputs": [],
      "execution_count": 42
    },
    {
      "id": "69ac62da-9886-4ed5-aad4-55b5c05afb1d",
      "cell_type": "code",
      "source": "added",
      "metadata": {
        "trusted": true
      },
      "outputs": [
        {
          "execution_count": 43,
          "output_type": "execute_result",
          "data": {
            "text/plain": "['ramen',\n 'chicken',\n 'strawberry',\n 'pasta',\n 'popcorn',\n 'meatballs',\n 2,\n 7,\n 8,\n 92]"
          },
          "metadata": {}
        }
      ],
      "execution_count": 43
    },
    {
      "id": "b9e55d5f-ec43-49da-8aeb-7cf458372d9a",
      "cell_type": "code",
      "source": "print(len(added))",
      "metadata": {
        "trusted": true
      },
      "outputs": [
        {
          "name": "stdout",
          "output_type": "stream",
          "text": "10\n"
        }
      ],
      "execution_count": 47
    },
    {
      "id": "60d93e98-66be-4643-80db-8e8e32400780",
      "cell_type": "code",
      "source": "len(added)",
      "metadata": {
        "trusted": true
      },
      "outputs": [
        {
          "execution_count": 48,
          "output_type": "execute_result",
          "data": {
            "text/plain": "10"
          },
          "metadata": {}
        }
      ],
      "execution_count": 48
    },
    {
      "id": "bb82dc3b-927b-415f-a292-e8c2e74f13f7",
      "cell_type": "code",
      "source": "multiplied = numbers * 5",
      "metadata": {
        "trusted": true
      },
      "outputs": [],
      "execution_count": 49
    },
    {
      "id": "91e41432-9134-497e-89f1-15e35c89a35f",
      "cell_type": "code",
      "source": "numbers",
      "metadata": {
        "trusted": true
      },
      "outputs": [
        {
          "execution_count": 50,
          "output_type": "execute_result",
          "data": {
            "text/plain": "[2, 7, 8, 92]"
          },
          "metadata": {}
        }
      ],
      "execution_count": 50
    },
    {
      "id": "3cbc907f-0397-46d1-a958-da8dfdc5c572",
      "cell_type": "code",
      "source": "multiplied",
      "metadata": {
        "trusted": true
      },
      "outputs": [
        {
          "execution_count": 51,
          "output_type": "execute_result",
          "data": {
            "text/plain": "[2, 7, 8, 92, 2, 7, 8, 92, 2, 7, 8, 92, 2, 7, 8, 92, 2, 7, 8, 92]"
          },
          "metadata": {}
        }
      ],
      "execution_count": 51
    },
    {
      "id": "869dc627-1a14-4ec0-9ca1-b1935e266735",
      "cell_type": "code",
      "source": "\"apple\" in foods",
      "metadata": {
        "trusted": true
      },
      "outputs": [
        {
          "execution_count": 54,
          "output_type": "execute_result",
          "data": {
            "text/plain": "False"
          },
          "metadata": {}
        }
      ],
      "execution_count": 54
    },
    {
      "id": "d1ec21fb-388b-4c3a-9f10-1adf8889cba8",
      "cell_type": "markdown",
      "source": "We had run  \nappended = foods.append(numbers)  \n(Sorry, I overwrote that cell)",
      "metadata": {}
    },
    {
      "id": "ad4dacfd-8da6-4fb4-a485-2ccf89455830",
      "cell_type": "code",
      "source": "foods",
      "metadata": {
        "trusted": true
      },
      "outputs": [
        {
          "execution_count": 57,
          "output_type": "execute_result",
          "data": {
            "text/plain": "['ramen',\n 'chicken',\n 'strawberry',\n 'pasta',\n 'popcorn',\n 'meatballs',\n [2, 7, 8, 92]]"
          },
          "metadata": {}
        }
      ],
      "execution_count": 57
    },
    {
      "id": "22d36231-18ae-4405-a174-22feb1d7308e",
      "cell_type": "code",
      "source": "len(foods)",
      "metadata": {
        "trusted": true
      },
      "outputs": [
        {
          "execution_count": 56,
          "output_type": "execute_result",
          "data": {
            "text/plain": "7"
          },
          "metadata": {}
        }
      ],
      "execution_count": 56
    },
    {
      "id": "dcbdbbbb-d3e8-4a47-b7ff-51a798d60464",
      "cell_type": "code",
      "source": "foods2 = foods\n",
      "metadata": {
        "trusted": true
      },
      "outputs": [],
      "execution_count": 58
    },
    {
      "id": "2a545902-3338-4c41-bac6-94ef6d75c817",
      "cell_type": "code",
      "source": "foods2",
      "metadata": {
        "trusted": true
      },
      "outputs": [
        {
          "execution_count": 59,
          "output_type": "execute_result",
          "data": {
            "text/plain": "['ramen',\n 'chicken',\n 'strawberry',\n 'pasta',\n 'popcorn',\n 'meatballs',\n [2, 7, 8, 92]]"
          },
          "metadata": {}
        }
      ],
      "execution_count": 59
    },
    {
      "id": "f2cdeec5-03fa-4e06-80e5-bcb304df4bd6",
      "cell_type": "code",
      "source": "foods2.pop()",
      "metadata": {
        "trusted": true
      },
      "outputs": [
        {
          "execution_count": 60,
          "output_type": "execute_result",
          "data": {
            "text/plain": "[2, 7, 8, 92]"
          },
          "metadata": {}
        }
      ],
      "execution_count": 60
    },
    {
      "id": "e6f66907-423e-4108-9835-61bab10a9724",
      "cell_type": "code",
      "source": "foods2",
      "metadata": {
        "trusted": true
      },
      "outputs": [
        {
          "execution_count": 61,
          "output_type": "execute_result",
          "data": {
            "text/plain": "['ramen', 'chicken', 'strawberry', 'pasta', 'popcorn', 'meatballs']"
          },
          "metadata": {}
        }
      ],
      "execution_count": 61
    },
    {
      "id": "1a5c0761-9cbe-4e4e-a115-bc896136db5b",
      "cell_type": "code",
      "source": "foods.extend(numbers)",
      "metadata": {
        "trusted": true
      },
      "outputs": [],
      "execution_count": 62
    },
    {
      "id": "daa99179-ab5e-4339-9ba2-b439159723f6",
      "cell_type": "code",
      "source": "foods",
      "metadata": {
        "trusted": true
      },
      "outputs": [
        {
          "execution_count": 63,
          "output_type": "execute_result",
          "data": {
            "text/plain": "['ramen',\n 'chicken',\n 'strawberry',\n 'pasta',\n 'popcorn',\n 'meatballs',\n 2,\n 7,\n 8,\n 92]"
          },
          "metadata": {}
        }
      ],
      "execution_count": 63
    },
    {
      "id": "d3972d17-a2b5-4e1e-bf3a-b6de00f3efc7",
      "cell_type": "code",
      "source": "len(foods)",
      "metadata": {
        "trusted": true
      },
      "outputs": [
        {
          "execution_count": 64,
          "output_type": "execute_result",
          "data": {
            "text/plain": "10"
          },
          "metadata": {}
        }
      ],
      "execution_count": 64
    },
    {
      "id": "27a2eb45-a109-4ac4-9305-e1cef1b074e7",
      "cell_type": "code",
      "source": "\"pasta\" in foods",
      "metadata": {
        "trusted": true
      },
      "outputs": [
        {
          "execution_count": 65,
          "output_type": "execute_result",
          "data": {
            "text/plain": "True"
          },
          "metadata": {}
        }
      ],
      "execution_count": 65
    },
    {
      "id": "ea794983-1341-4e99-ace9-2176f3247480",
      "cell_type": "code",
      "source": "8 in foods",
      "metadata": {
        "trusted": true
      },
      "outputs": [
        {
          "execution_count": 66,
          "output_type": "execute_result",
          "data": {
            "text/plain": "True"
          },
          "metadata": {}
        }
      ],
      "execution_count": 66
    },
    {
      "id": "460da412-62b7-41cc-9abc-e94193b8a2b5",
      "cell_type": "code",
      "source": "9 in foods",
      "metadata": {
        "trusted": true
      },
      "outputs": [
        {
          "execution_count": 67,
          "output_type": "execute_result",
          "data": {
            "text/plain": "False"
          },
          "metadata": {}
        }
      ],
      "execution_count": 67
    },
    {
      "id": "3926e281-6d13-4233-b820-62410b57c764",
      "cell_type": "code",
      "source": "for food in foods:\n    print(food)",
      "metadata": {
        "trusted": true
      },
      "outputs": [
        {
          "name": "stdout",
          "output_type": "stream",
          "text": "ramen\nchicken\nstrawberry\npasta\npopcorn\nmeatballs\n2\n7\n8\n92\n"
        }
      ],
      "execution_count": 68
    },
    {
      "id": "0b117b0f-33b8-48a8-8734-25266e79f54a",
      "cell_type": "code",
      "source": "for kitten in foods:\n    print(kitten)",
      "metadata": {
        "trusted": true
      },
      "outputs": [
        {
          "name": "stdout",
          "output_type": "stream",
          "text": "ramen\nchicken\nstrawberry\npasta\npopcorn\nmeatballs\n2\n7\n8\n92\n"
        }
      ],
      "execution_count": 69
    },
    {
      "id": "f5050f82-40f5-4064-bfb1-5a6a8c643401",
      "cell_type": "code",
      "source": "for kitten in foods:\n    print(food)",
      "metadata": {
        "trusted": true
      },
      "outputs": [
        {
          "name": "stdout",
          "output_type": "stream",
          "text": "92\n92\n92\n92\n92\n92\n92\n92\n92\n92\n"
        }
      ],
      "execution_count": 70
    },
    {
      "id": "2d4de512-ed8f-4aeb-8f24-0e2f3708ba6f",
      "cell_type": "code",
      "source": "for c in name:\n    print(c)",
      "metadata": {
        "trusted": true
      },
      "outputs": [
        {
          "name": "stdout",
          "output_type": "stream",
          "text": "J\ne\na\nn\n"
        }
      ],
      "execution_count": 71
    },
    {
      "id": "0b9ad5fe-3cf5-4559-8371-2286c01e46b6",
      "cell_type": "code",
      "source": "word = \"gigantic\"\nfor l in word:\n    print(l)",
      "metadata": {
        "trusted": true
      },
      "outputs": [
        {
          "name": "stdout",
          "output_type": "stream",
          "text": "g\ni\ng\na\nn\nt\ni\nc\n"
        }
      ],
      "execution_count": 72
    },
    {
      "id": "fe533e04-a48c-4423-890a-c0b37e0b3c3b",
      "cell_type": "code",
      "source": "range(10)",
      "metadata": {
        "trusted": true
      },
      "outputs": [
        {
          "execution_count": 73,
          "output_type": "execute_result",
          "data": {
            "text/plain": "range(0, 10)"
          },
          "metadata": {}
        }
      ],
      "execution_count": 73
    },
    {
      "id": "6cdf8bde-a629-42c6-a707-332ce50b71b0",
      "cell_type": "code",
      "source": "for i in range(10):\n    print(i)",
      "metadata": {
        "trusted": true
      },
      "outputs": [
        {
          "name": "stdout",
          "output_type": "stream",
          "text": "0\n1\n2\n3\n4\n5\n6\n7\n8\n9\n"
        }
      ],
      "execution_count": 74
    },
    {
      "id": "bc806f06-0493-48ec-a939-edcdd8fb1a1c",
      "cell_type": "code",
      "source": "def hello():\n    print(\"hello WPL\")",
      "metadata": {
        "trusted": true
      },
      "outputs": [],
      "execution_count": 79
    },
    {
      "id": "ea73a3d2-733e-4a12-81a1-1dade66ec925",
      "cell_type": "code",
      "source": "hello()",
      "metadata": {
        "trusted": true
      },
      "outputs": [
        {
          "name": "stdout",
          "output_type": "stream",
          "text": "hello WPL\n"
        }
      ],
      "execution_count": 80
    },
    {
      "id": "98d920bc-ed2a-4fa9-94fb-73a289baa8d2",
      "cell_type": "code",
      "source": "result = hello()",
      "metadata": {
        "trusted": true
      },
      "outputs": [
        {
          "name": "stdout",
          "output_type": "stream",
          "text": "hello WPL\n"
        }
      ],
      "execution_count": 81
    },
    {
      "id": "41135f24-c73a-4f4a-9336-1484d51b3ad6",
      "cell_type": "code",
      "source": "print(result)",
      "metadata": {
        "trusted": true
      },
      "outputs": [
        {
          "name": "stdout",
          "output_type": "stream",
          "text": "None\n"
        }
      ],
      "execution_count": 82
    },
    {
      "id": "4fa41f05-6646-4b5a-88ce-9c1776974cd2",
      "cell_type": "code",
      "source": "def hello_v2():\n    print(\"hello everyone\")\n    return(\"I'm ready to take a break\")",
      "metadata": {
        "trusted": true
      },
      "outputs": [],
      "execution_count": 84
    },
    {
      "id": "76ebf2bf-8e4e-4fd2-9eb5-9e66f4179bc0",
      "cell_type": "code",
      "source": "result = hello_v2()",
      "metadata": {
        "trusted": true
      },
      "outputs": [
        {
          "name": "stdout",
          "output_type": "stream",
          "text": "hello everyone\n"
        }
      ],
      "execution_count": 85
    },
    {
      "id": "48ea37cf-ed8e-4c3e-9dcb-2376e93d2a71",
      "cell_type": "code",
      "source": "print(result)",
      "metadata": {
        "trusted": true
      },
      "outputs": [
        {
          "name": "stdout",
          "output_type": "stream",
          "text": "I'm ready to take a break\n"
        }
      ],
      "execution_count": 86
    },
    {
      "id": "7da22ca4-5c77-4240-afdb-92b1408818b9",
      "cell_type": "code",
      "source": "def oddeven(number):\n    if number % 2 == 1:\n        print(f\"This number, {number}, is odd\")\n        result = \"odd\"\n    else:\n        print(f\"This number, {number}, is even\")\n        result = \"even\"\n    return(result)",
      "metadata": {
        "trusted": true
      },
      "outputs": [],
      "execution_count": 91
    },
    {
      "id": "61347463-97cf-493a-b8ee-aed44bc3e145",
      "cell_type": "code",
      "source": "number_type = oddeven(2)",
      "metadata": {
        "trusted": true
      },
      "outputs": [
        {
          "name": "stdout",
          "output_type": "stream",
          "text": "This number, 2, is even\n"
        }
      ],
      "execution_count": 92
    },
    {
      "id": "4279d855-0eb8-420f-814f-6567d5ce4cc0",
      "cell_type": "code",
      "source": "number_type",
      "metadata": {
        "trusted": true
      },
      "outputs": [
        {
          "execution_count": 93,
          "output_type": "execute_result",
          "data": {
            "text/plain": "'even'"
          },
          "metadata": {}
        }
      ],
      "execution_count": 93
    },
    {
      "id": "2fe5c9cc-178a-4ffc-b7ae-9ffc88e93d5d",
      "cell_type": "code",
      "source": "def contains(objects, target):\n    for element in objects:\n        if element == target:\n            return True\n    return False",
      "metadata": {
        "trusted": true
      },
      "outputs": [],
      "execution_count": 94
    },
    {
      "id": "12154afe-7b41-46b8-9b0c-1f4cfeacbb4c",
      "cell_type": "code",
      "source": "found = contains(foods, \"pasta\")",
      "metadata": {
        "trusted": true
      },
      "outputs": [],
      "execution_count": 95
    },
    {
      "id": "473b7921-643c-48f6-b5d3-9742542210c5",
      "cell_type": "code",
      "source": "foods\n",
      "metadata": {
        "trusted": true
      },
      "outputs": [
        {
          "execution_count": 96,
          "output_type": "execute_result",
          "data": {
            "text/plain": "['ramen',\n 'chicken',\n 'strawberry',\n 'pasta',\n 'popcorn',\n 'meatballs',\n 2,\n 7,\n 8,\n 92]"
          },
          "metadata": {}
        }
      ],
      "execution_count": 96
    },
    {
      "id": "5ceec3c7-f6ed-46a6-9053-830300e62194",
      "cell_type": "code",
      "source": "found\n",
      "metadata": {
        "trusted": true
      },
      "outputs": [
        {
          "execution_count": 97,
          "output_type": "execute_result",
          "data": {
            "text/plain": "True"
          },
          "metadata": {}
        }
      ],
      "execution_count": 97
    },
    {
      "id": "7b9d8a64-55f3-4f61-b5df-d7bd0024884e",
      "cell_type": "code",
      "source": "\"pasta\" in foods",
      "metadata": {
        "trusted": true
      },
      "outputs": [
        {
          "execution_count": 98,
          "output_type": "execute_result",
          "data": {
            "text/plain": "True"
          },
          "metadata": {}
        }
      ],
      "execution_count": 98
    },
    {
      "id": "56b4b71a-0b52-4cb3-80b2-e3e48b1e4703",
      "cell_type": "code",
      "source": "import random\n\ndef print_hangman(stage):\n    print(' --- ')\n    print('|   | ')\n    if stage <= 4:\n        print('|  (_)')\n    else:\n        print('| ')\n    if stage <= 2:\n        print(r'|  \\|/')\n    elif stage <= 3:\n        print('|   |')\n    else:\n        print('|')\n    if stage <= 1:\n        print('|   |')\n    else:\n        print('|')\n    if stage <= 0:\n        print(r'|  / \\ ')\n    print('|')\n    print('_________')\n\ndef update_guess(current_guess, letter, position):\n    new_guess = []\n    actual_position = ((position + 1) * 2) - 2\n    for index,char in enumerate(current_guess):\n        if index == actual_position:\n            new_guess.append(letter)\n        else:\n            new_guess.append(char)\n    return \"\".join(new_guess)\n\n\nwords = [\"python\", \"developer\", \"coding\", \"challenge\"]\nword = random.choice(words)\nguessed = \"_ \" * len(word)\nattempts = 5\n\nwhile attempts > 0 and \"_\" in guessed:\n    print_hangman(attempts)\n    print(f\"Word: {guessed}\")\n    guess = input(\"Guess a letter: \")\n    if guess in word:\n        for i in range(len(word)):\n            if word[i] == guess:\n                guessed = update_guess(guessed, word[i], i)\n    else:\n        attempts -= 1\n        print(f\"Incorrect! {attempts} attempts left.\")\n\nif \"_\" not in guessed:\n    print(\"Congrats! You found the word:\", word)\nelse:\n    print_hangman(attempts)\n    print(\"Game over! The word was:\", word)",
      "metadata": {
        "trusted": true
      },
      "outputs": [
        {
          "name": "stdout",
          "output_type": "stream",
          "text": " --- \n|   | \n| \n|\n|\n|\n_________\nWord: _ _ _ _ _ _ \n"
        },
        {
          "output_type": "stream",
          "name": "stdin",
          "text": "Guess a letter:  o\n"
        },
        {
          "name": "stdout",
          "output_type": "stream",
          "text": " --- \n|   | \n| \n|\n|\n|\n_________\nWord: _ _ _ _ o _ \n"
        },
        {
          "output_type": "stream",
          "name": "stdin",
          "text": "Guess a letter:  z\n"
        },
        {
          "name": "stdout",
          "output_type": "stream",
          "text": "Incorrect! 4 attempts left.\n --- \n|   | \n|  (_)\n|\n|\n|\n_________\nWord: _ _ _ _ o _ \n"
        },
        {
          "output_type": "stream",
          "name": "stdin",
          "text": "Guess a letter:  q\n"
        },
        {
          "name": "stdout",
          "output_type": "stream",
          "text": "Incorrect! 3 attempts left.\n --- \n|   | \n|  (_)\n|   |\n|\n|\n_________\nWord: _ _ _ _ o _ \n"
        },
        {
          "output_type": "stream",
          "name": "stdin",
          "text": "Guess a letter:  e\n"
        },
        {
          "name": "stdout",
          "output_type": "stream",
          "text": "Incorrect! 2 attempts left.\n --- \n|   | \n|  (_)\n|  \\|/\n|\n|\n_________\nWord: _ _ _ _ o _ \n"
        },
        {
          "output_type": "stream",
          "name": "stdin",
          "text": "Guess a letter:  a\n"
        },
        {
          "name": "stdout",
          "output_type": "stream",
          "text": "Incorrect! 1 attempts left.\n --- \n|   | \n|  (_)\n|  \\|/\n|   |\n|\n_________\nWord: _ _ _ _ o _ \n"
        },
        {
          "output_type": "stream",
          "name": "stdin",
          "text": "Guess a letter:  p\n"
        },
        {
          "name": "stdout",
          "output_type": "stream",
          "text": " --- \n|   | \n|  (_)\n|  \\|/\n|   |\n|\n_________\nWord: p _ _ _ o _ \n"
        },
        {
          "output_type": "stream",
          "name": "stdin",
          "text": "Guess a letter:  8\n"
        },
        {
          "name": "stdout",
          "output_type": "stream",
          "text": "Incorrect! 0 attempts left.\n --- \n|   | \n|  (_)\n|  \\|/\n|   |\n|  / \\ \n|\n_________\nGame over! The word was: python\n"
        }
      ],
      "execution_count": 99
    },
    {
      "id": "ff239059-5df1-4707-a927-b78e28d72dbf",
      "cell_type": "code",
      "source": "",
      "metadata": {
        "trusted": true
      },
      "outputs": [],
      "execution_count": null
    }
  ]
}