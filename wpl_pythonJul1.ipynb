{
 "cells": [
  {
   "cell_type": "markdown",
   "id": "c1afae83-160c-4a51-8b5c-018683fa65d8",
   "metadata": {},
   "source": [
    "## Day 3"
   ]
  },
  {
   "cell_type": "markdown",
   "id": "fc5f7a8e-ead0-4a4b-a336-8e951ca8d9aa",
   "metadata": {},
   "source": [
    "## **Dictionaries**"
   ]
  },
  {
   "cell_type": "markdown",
   "id": "57474eb4-976c-473e-b0fc-2a106d182f6a",
   "metadata": {},
   "source": [
    "Dictionaries are defined by enclosing curly brackets.  \n",
    "The items in a dictionary are key:value pairs.  \n",
    "Keys are unique and immutable - typically numbers or strings.  \n",
    "Values can be any data type, including lists and dictionaries!  \n",
    "In modern Python (Python >3.6), dictionaries are ordered.  "
   ]
  },
  {
   "cell_type": "code",
   "execution_count": 1,
   "id": "a9b39898-ea04-4671-a878-ee18bf6ed0e5",
   "metadata": {},
   "outputs": [],
   "source": [
    "capitals = {\n",
    "    \"MA\": \"Boston\",\n",
    "    \"CT\": \"Hartford\",\n",
    "    \"RI\": \"Providence\"\n",
    "}"
   ]
  },
  {
   "cell_type": "code",
   "execution_count": 2,
   "id": "540c2416-8ac8-492c-9224-d4706a630aa7",
   "metadata": {},
   "outputs": [
    {
     "data": {
      "text/plain": [
       "{'MA': 'Boston', 'CT': 'Hartford', 'RI': 'Providence'}"
      ]
     },
     "execution_count": 2,
     "metadata": {},
     "output_type": "execute_result"
    }
   ],
   "source": [
    "capitals"
   ]
  },
  {
   "cell_type": "markdown",
   "id": "5c976294-97d8-49a1-aebd-bb09c18b3e4d",
   "metadata": {},
   "source": [
    "You can use *len* to find out how many key:value pairs are in the dictionary"
   ]
  },
  {
   "cell_type": "code",
   "execution_count": 3,
   "id": "367b53d5-fac9-42a9-9f12-4613b22c45e5",
   "metadata": {},
   "outputs": [
    {
     "data": {
      "text/plain": [
       "3"
      ]
     },
     "execution_count": 3,
     "metadata": {},
     "output_type": "execute_result"
    }
   ],
   "source": [
    "len(capitals)"
   ]
  },
  {
   "cell_type": "markdown",
   "id": "b8e69f05-a7dd-41a0-8f77-aafd36057e3a",
   "metadata": {},
   "source": [
    "### Looking up a dictionary value"
   ]
  },
  {
   "cell_type": "markdown",
   "id": "751fc721-4a77-4521-a3d1-4f2b3927f323",
   "metadata": {},
   "source": [
    "Just like with an array, you can use square brackets to look up a key in a dictionary and get back it's value."
   ]
  },
  {
   "cell_type": "code",
   "execution_count": 4,
   "id": "73dac7c9-578c-4b13-95d6-3946f8e346bb",
   "metadata": {},
   "outputs": [
    {
     "data": {
      "text/plain": [
       "'Boston'"
      ]
     },
     "execution_count": 4,
     "metadata": {},
     "output_type": "execute_result"
    }
   ],
   "source": [
    "capitals[\"MA\"]"
   ]
  },
  {
   "cell_type": "markdown",
   "id": "f33cb149-3a11-4c88-ab5b-e66ad3b84800",
   "metadata": {},
   "source": [
    "Another way to get a dictionary value is to use the dictionary's *get* method."
   ]
  },
  {
   "cell_type": "code",
   "execution_count": 5,
   "id": "4589e788-18e9-4f28-af68-7f4c407d121d",
   "metadata": {},
   "outputs": [],
   "source": [
    "city1 = capitals.get(\"MA\")"
   ]
  },
  {
   "cell_type": "code",
   "execution_count": 6,
   "id": "16a94ad6-807c-406f-90ee-aa4b08e37b64",
   "metadata": {},
   "outputs": [
    {
     "data": {
      "text/plain": [
       "'Boston'"
      ]
     },
     "execution_count": 6,
     "metadata": {},
     "output_type": "execute_result"
    }
   ],
   "source": [
    "city1"
   ]
  },
  {
   "cell_type": "markdown",
   "id": "e6694bfa-b076-4b99-ae08-a7d41944a7be",
   "metadata": {},
   "source": [
    "The advantage of a dictionary's *get* method is that you won't get an error if the key doesn't exist in the dictionary."
   ]
  },
  {
   "cell_type": "code",
   "execution_count": 7,
   "id": "ec0be860-b2a7-4625-972c-3fac184b1cf6",
   "metadata": {},
   "outputs": [
    {
     "ename": "KeyError",
     "evalue": "'CA'",
     "output_type": "error",
     "traceback": [
      "\u001b[31m---------------------------------------------------------------------------\u001b[39m",
      "\u001b[31mKeyError\u001b[39m                                  Traceback (most recent call last)",
      "\u001b[36mCell\u001b[39m\u001b[36m \u001b[39m\u001b[32mIn[7]\u001b[39m\u001b[32m, line 1\u001b[39m\n\u001b[32m----> \u001b[39m\u001b[32m1\u001b[39m city2 = \u001b[43mcapitals\u001b[49m\u001b[43m[\u001b[49m\u001b[33;43m\"\u001b[39;49m\u001b[33;43mCA\u001b[39;49m\u001b[33;43m\"\u001b[39;49m\u001b[43m]\u001b[49m\n",
      "\u001b[31mKeyError\u001b[39m: 'CA'"
     ]
    }
   ],
   "source": [
    "city2 = capitals[\"CA\"]"
   ]
  },
  {
   "cell_type": "markdown",
   "id": "df52829a-bb79-42c5-b8cc-70b015477bc0",
   "metadata": {},
   "source": [
    "Instead, the method will return the value **None**"
   ]
  },
  {
   "cell_type": "code",
   "execution_count": 8,
   "id": "07f76032-b6bb-44d1-aef4-f234cc76e8c6",
   "metadata": {},
   "outputs": [],
   "source": [
    "city2 = capitals.get(\"CA\")"
   ]
  },
  {
   "cell_type": "code",
   "execution_count": 9,
   "id": "3d5f86f1-3882-4dc4-b158-866f380d318c",
   "metadata": {},
   "outputs": [
    {
     "name": "stdout",
     "output_type": "stream",
     "text": [
      "None\n"
     ]
    }
   ],
   "source": [
    "print(city2)"
   ]
  },
  {
   "cell_type": "markdown",
   "id": "e63d5931-0f8c-478a-8cb0-a2a2c2b7a037",
   "metadata": {},
   "source": [
    "Notice that in a Jupyter Notebook, a none value by itself doesn't show any output (see cell below) but you will see the value **None** if you *print* a variable that has the value **None** (see cell above)."
   ]
  },
  {
   "cell_type": "code",
   "execution_count": 10,
   "id": "e2004717-c87d-4a25-a7c1-b644fbe49102",
   "metadata": {},
   "outputs": [],
   "source": [
    "city2"
   ]
  },
  {
   "cell_type": "markdown",
   "id": "4c882d30-e21e-462e-a990-f07f93127308",
   "metadata": {},
   "source": [
    "Dictionary values can be any kind of Python object, below we have values that are string, list, integer and boolean."
   ]
  },
  {
   "cell_type": "code",
   "execution_count": 11,
   "id": "f0b63533-a7c1-4234-b40d-d52f89fcad0f",
   "metadata": {},
   "outputs": [],
   "source": [
    "info = {\n",
    "    \"capital\": \"Boston\",\n",
    "    \"neighbors\": [\"NH\", \"VT\", \"NY\", \"CT\", \"RI\"],\n",
    "    \"US representatives\": 9,\n",
    "    \"New_England\": True,\n",
    "    1788: \"admitted to the Union\"\n",
    "}"
   ]
  },
  {
   "cell_type": "code",
   "execution_count": 12,
   "id": "c2299536-6047-43a2-b97e-e8b80d708b5e",
   "metadata": {},
   "outputs": [
    {
     "data": {
      "text/plain": [
       "5"
      ]
     },
     "execution_count": 12,
     "metadata": {},
     "output_type": "execute_result"
    }
   ],
   "source": [
    "len(info)"
   ]
  },
  {
   "cell_type": "code",
   "execution_count": 13,
   "id": "fc31877e-4f28-4bca-9e02-54c39c7c31df",
   "metadata": {},
   "outputs": [
    {
     "data": {
      "text/plain": [
       "'Boston'"
      ]
     },
     "execution_count": 13,
     "metadata": {},
     "output_type": "execute_result"
    }
   ],
   "source": [
    "info[\"capital\"]"
   ]
  },
  {
   "cell_type": "markdown",
   "id": "be933c4d-4ee6-4ddc-bebf-ffb5841bc716",
   "metadata": {},
   "source": [
    "### Working with dictionary keys "
   ]
  },
  {
   "cell_type": "markdown",
   "id": "7b86cc9a-417a-472a-9483-9b5a8192b761",
   "metadata": {},
   "source": [
    "Get a list of all the keys in a dictionary with the *keys* method. You'll get back a list of all the keys in the order the dictionary was created."
   ]
  },
  {
   "cell_type": "code",
   "execution_count": 14,
   "id": "584610a2-8c7d-477c-bcec-5171e9c780c5",
   "metadata": {},
   "outputs": [
    {
     "data": {
      "text/plain": [
       "dict_keys(['capital', 'neighbors', 'US representatives', 'New_England', 1788])"
      ]
     },
     "execution_count": 14,
     "metadata": {},
     "output_type": "execute_result"
    }
   ],
   "source": [
    "info.keys()"
   ]
  },
  {
   "cell_type": "markdown",
   "id": "67e77700-1402-453a-9015-ccf1bac0b7f6",
   "metadata": {},
   "source": [
    "You can check if a key is in the dictionary using the *in* operator."
   ]
  },
  {
   "cell_type": "code",
   "execution_count": 15,
   "id": "86beab7a-2d64-4b31-8c76-54a2bb031d04",
   "metadata": {},
   "outputs": [
    {
     "data": {
      "text/plain": [
       "True"
      ]
     },
     "execution_count": 15,
     "metadata": {},
     "output_type": "execute_result"
    }
   ],
   "source": [
    "\"capital\" in info"
   ]
  },
  {
   "cell_type": "code",
   "execution_count": 16,
   "id": "4c1c1752-4147-4b15-858e-7913f1a62aa5",
   "metadata": {},
   "outputs": [
    {
     "data": {
      "text/plain": [
       "False"
      ]
     },
     "execution_count": 16,
     "metadata": {},
     "output_type": "execute_result"
    }
   ],
   "source": [
    "\"capitals\" in info"
   ]
  },
  {
   "cell_type": "markdown",
   "id": "1bd9693f-7f2c-4a17-ac43-a4352cbb2927",
   "metadata": {},
   "source": [
    "Get a list of all the values in a dictionary with the *values* method. "
   ]
  },
  {
   "cell_type": "code",
   "execution_count": 17,
   "id": "d8ceb1a9-6da9-45dc-b375-d769b488afd8",
   "metadata": {},
   "outputs": [
    {
     "data": {
      "text/plain": [
       "dict_values(['Boston', ['NH', 'VT', 'NY', 'CT', 'RI'], 9, True, 'admitted to the Union'])"
      ]
     },
     "execution_count": 17,
     "metadata": {},
     "output_type": "execute_result"
    }
   ],
   "source": [
    "info.values()"
   ]
  },
  {
   "cell_type": "code",
   "execution_count": 18,
   "id": "19e4f999-3609-421e-a774-506b33907b77",
   "metadata": {
    "scrolled": true
   },
   "outputs": [
    {
     "data": {
      "text/plain": [
       "{'capital': 'Boston',\n",
       " 'neighbors': ['NH', 'VT', 'NY', 'CT', 'RI'],\n",
       " 'US representatives': 9,\n",
       " 'New_England': True,\n",
       " 1788: 'admitted to the Union'}"
      ]
     },
     "execution_count": 18,
     "metadata": {},
     "output_type": "execute_result"
    }
   ],
   "source": [
    "info"
   ]
  },
  {
   "cell_type": "markdown",
   "id": "f14f17c5-5650-4c53-a90a-b92d50a2dae0",
   "metadata": {},
   "source": [
    "### **for** loops and dictionaries "
   ]
  },
  {
   "cell_type": "markdown",
   "id": "a3a8f1d1-dce1-4f9a-9164-943705dd7959",
   "metadata": {},
   "source": [
    "You can use a **for** loop to loop through a dictionary. One common way to do this is with the *keys* method"
   ]
  },
  {
   "cell_type": "code",
   "execution_count": 19,
   "id": "ce610cbb-e208-4022-be0a-5e6de5f65289",
   "metadata": {},
   "outputs": [
    {
     "name": "stdout",
     "output_type": "stream",
     "text": [
      "capital Boston\n",
      "neighbors ['NH', 'VT', 'NY', 'CT', 'RI']\n",
      "US representatives 9\n",
      "New_England True\n",
      "1788 admitted to the Union\n"
     ]
    }
   ],
   "source": [
    "for key in info.keys():\n",
    "    print(key, info[key])"
   ]
  },
  {
   "cell_type": "markdown",
   "id": "839ea28c-ab58-4f34-9827-aae49d245abf",
   "metadata": {},
   "source": [
    "### Changing dictionary values"
   ]
  },
  {
   "cell_type": "markdown",
   "id": "3f1d8dff-418b-4eb6-a38c-16beb1a28a35",
   "metadata": {},
   "source": [
    "To change a value in a dictionary, you have two choices,\n",
    "1. you can assign a new value"
   ]
  },
  {
   "cell_type": "code",
   "execution_count": 20,
   "id": "84c1458d-e3f8-43db-b3ef-f8852b4ba754",
   "metadata": {},
   "outputs": [],
   "source": [
    "info['New_England'] = \"Yes\""
   ]
  },
  {
   "cell_type": "code",
   "execution_count": 21,
   "id": "feff1835-01bf-4cd2-9bf1-b15216826c69",
   "metadata": {},
   "outputs": [
    {
     "data": {
      "text/plain": [
       "{'capital': 'Boston',\n",
       " 'neighbors': ['NH', 'VT', 'NY', 'CT', 'RI'],\n",
       " 'US representatives': 9,\n",
       " 'New_England': 'Yes',\n",
       " 1788: 'admitted to the Union'}"
      ]
     },
     "execution_count": 21,
     "metadata": {},
     "output_type": "execute_result"
    }
   ],
   "source": [
    "info"
   ]
  },
  {
   "cell_type": "markdown",
   "id": "91b3d82e-3498-4ba0-9d69-ebb620957cfd",
   "metadata": {},
   "source": [
    "2. or you can use the *update* method"
   ]
  },
  {
   "cell_type": "code",
   "execution_count": 22,
   "id": "b7925d70-bacd-4a2b-870e-67a69b148d82",
   "metadata": {},
   "outputs": [],
   "source": [
    "info.update({'New_England': True})"
   ]
  },
  {
   "cell_type": "code",
   "execution_count": 23,
   "id": "a37371a6-1ed0-4952-8116-5c433af16555",
   "metadata": {},
   "outputs": [
    {
     "data": {
      "text/plain": [
       "{'capital': 'Boston',\n",
       " 'neighbors': ['NH', 'VT', 'NY', 'CT', 'RI'],\n",
       " 'US representatives': 9,\n",
       " 'New_England': True,\n",
       " 1788: 'admitted to the Union'}"
      ]
     },
     "execution_count": 23,
     "metadata": {},
     "output_type": "execute_result"
    }
   ],
   "source": [
    "info"
   ]
  },
  {
   "cell_type": "markdown",
   "id": "e4cd624c-af8c-46a3-b929-5aa1e991ab6d",
   "metadata": {},
   "source": [
    "With either method, if the key doesn't exist, a new key:value pair is added to the dictionary."
   ]
  },
  {
   "cell_type": "code",
   "execution_count": 24,
   "id": "1663bc8c-4cd8-4528-9dc2-b30ba7d5e5ac",
   "metadata": {},
   "outputs": [],
   "source": [
    "info[\"state_flower\"] = \"Mayflower\""
   ]
  },
  {
   "cell_type": "markdown",
   "id": "c5f56fda-5fff-4aeb-824b-0adff9d7b462",
   "metadata": {},
   "source": [
    "Similar to the default behavior of the *pop* method for lists, the dictionary's *popitem* method will pop off and return the last key:value pair in the dictionary. "
   ]
  },
  {
   "cell_type": "code",
   "execution_count": 25,
   "id": "6976d31b-c3e9-409f-a8f7-6bfa6ae8ab4d",
   "metadata": {},
   "outputs": [],
   "source": [
    "last_item = info.popitem()"
   ]
  },
  {
   "cell_type": "code",
   "execution_count": 26,
   "id": "31e48627-7384-493c-8a04-8645a7ca5b38",
   "metadata": {},
   "outputs": [
    {
     "data": {
      "text/plain": [
       "('state_flower', 'Mayflower')"
      ]
     },
     "execution_count": 26,
     "metadata": {},
     "output_type": "execute_result"
    }
   ],
   "source": [
    "last_item"
   ]
  },
  {
   "cell_type": "code",
   "execution_count": 27,
   "id": "14a77048-6169-4d5f-ae19-08ff51806ee5",
   "metadata": {},
   "outputs": [
    {
     "data": {
      "text/plain": [
       "{'capital': 'Boston',\n",
       " 'neighbors': ['NH', 'VT', 'NY', 'CT', 'RI'],\n",
       " 'US representatives': 9,\n",
       " 'New_England': True,\n",
       " 1788: 'admitted to the Union'}"
      ]
     },
     "execution_count": 27,
     "metadata": {},
     "output_type": "execute_result"
    }
   ],
   "source": [
    "info"
   ]
  },
  {
   "cell_type": "markdown",
   "id": "2c543c64-41fd-4a5e-8ff9-11e9f99178c8",
   "metadata": {},
   "source": [
    "Probably more useful, if you give the the dictionary's *pop* method a key, the method will remove the key:value pair from the dictionary that matches the key and return value for the key."
   ]
  },
  {
   "cell_type": "code",
   "execution_count": 28,
   "id": "7d1b390b-495a-482c-964e-0070e0f8d890",
   "metadata": {},
   "outputs": [],
   "source": [
    "popped_item = info.pop(\"capital\")"
   ]
  },
  {
   "cell_type": "code",
   "execution_count": 29,
   "id": "076ae87b-0cfb-4909-9b66-5f92ad6a50cc",
   "metadata": {},
   "outputs": [
    {
     "data": {
      "text/plain": [
       "'Boston'"
      ]
     },
     "execution_count": 29,
     "metadata": {},
     "output_type": "execute_result"
    }
   ],
   "source": [
    "popped_item"
   ]
  },
  {
   "cell_type": "code",
   "execution_count": 30,
   "id": "3042899b-8502-489c-a29f-09666109348d",
   "metadata": {},
   "outputs": [
    {
     "data": {
      "text/plain": [
       "{'neighbors': ['NH', 'VT', 'NY', 'CT', 'RI'],\n",
       " 'US representatives': 9,\n",
       " 'New_England': True,\n",
       " 1788: 'admitted to the Union'}"
      ]
     },
     "execution_count": 30,
     "metadata": {},
     "output_type": "execute_result"
    }
   ],
   "source": [
    "info"
   ]
  },
  {
   "cell_type": "markdown",
   "id": "bd1a7ad2-3f26-4536-a42b-2034fd829f8e",
   "metadata": {},
   "source": [
    "**WARNING**: Don't change the dictionary while you loop through it. If you need to change a dictionary, you'll want to make a copy of the dictionary using the *copy* method, you can make changes to the original if you loop through the copy. "
   ]
  },
  {
   "cell_type": "markdown",
   "id": "ae58a9a1-d645-4b59-8b25-1a6939282687",
   "metadata": {},
   "source": [
    "If you've ever used candy to keep track of whose winning in a game, and forgot and started eating the candy, you'll understand that changing something you're depending on for counting will can give you an incorrect result."
   ]
  },
  {
   "cell_type": "code",
   "execution_count": 31,
   "id": "82ea481a-7954-4af6-b7b1-8243ae77d22e",
   "metadata": {},
   "outputs": [
    {
     "ename": "RuntimeError",
     "evalue": "dictionary changed size during iteration",
     "output_type": "error",
     "traceback": [
      "\u001b[31m---------------------------------------------------------------------------\u001b[39m",
      "\u001b[31mRuntimeError\u001b[39m                              Traceback (most recent call last)",
      "\u001b[36mCell\u001b[39m\u001b[36m \u001b[39m\u001b[32mIn[31]\u001b[39m\u001b[32m, line 1\u001b[39m\n\u001b[32m----> \u001b[39m\u001b[32m1\u001b[39m \u001b[38;5;28;43;01mfor\u001b[39;49;00m\u001b[43m \u001b[49m\u001b[43mk\u001b[49m\u001b[43m \u001b[49m\u001b[38;5;129;43;01min\u001b[39;49;00m\u001b[43m \u001b[49m\u001b[43minfo\u001b[49m\u001b[43m.\u001b[49m\u001b[43mkeys\u001b[49m\u001b[43m(\u001b[49m\u001b[43m)\u001b[49m\u001b[43m:\u001b[49m\n\u001b[32m      2\u001b[39m \u001b[43m    \u001b[49m\u001b[38;5;28;43;01mif\u001b[39;49;00m\u001b[43m \u001b[49m\u001b[43minfo\u001b[49m\u001b[43m[\u001b[49m\u001b[43mk\u001b[49m\u001b[43m]\u001b[49m\u001b[43m \u001b[49m\u001b[43m==\u001b[49m\u001b[43m \u001b[49m\u001b[32;43m9\u001b[39;49m\u001b[43m:\u001b[49m\n\u001b[32m      3\u001b[39m \u001b[43m        \u001b[49m\u001b[43minfo\u001b[49m\u001b[43m.\u001b[49m\u001b[43mpop\u001b[49m\u001b[43m(\u001b[49m\u001b[43mk\u001b[49m\u001b[43m)\u001b[49m\n",
      "\u001b[31mRuntimeError\u001b[39m: dictionary changed size during iteration"
     ]
    }
   ],
   "source": [
    "for k in info.keys():\n",
    "    if info[k] == 9:\n",
    "        info.pop(k)"
   ]
  },
  {
   "cell_type": "markdown",
   "id": "40d124f3-b52b-4a11-b8c4-2fd39e4cc14f",
   "metadata": {},
   "source": [
    "Python checks whether the object you're using changes, BUT it doesn't prevent the change, it just triggers the error."
   ]
  },
  {
   "cell_type": "code",
   "execution_count": 32,
   "id": "136bcd22-ee06-4907-bff6-51957ce25f2d",
   "metadata": {},
   "outputs": [
    {
     "data": {
      "text/plain": [
       "{'neighbors': ['NH', 'VT', 'NY', 'CT', 'RI'],\n",
       " 'New_England': True,\n",
       " 1788: 'admitted to the Union'}"
      ]
     },
     "execution_count": 32,
     "metadata": {},
     "output_type": "execute_result"
    }
   ],
   "source": [
    "info"
   ]
  },
  {
   "cell_type": "code",
   "execution_count": 33,
   "id": "a398b11b-0ccc-430b-8855-5e9cd30f17e2",
   "metadata": {},
   "outputs": [],
   "source": [
    "copy = info.copy()\n",
    "for k in copy.keys():\n",
    "    if copy[k] == True:\n",
    "        info.pop(k)"
   ]
  },
  {
   "cell_type": "code",
   "execution_count": 34,
   "id": "4f144b62-8c4d-455b-8d21-2f9b1c1735e7",
   "metadata": {},
   "outputs": [
    {
     "data": {
      "text/plain": [
       "{'neighbors': ['NH', 'VT', 'NY', 'CT', 'RI'], 1788: 'admitted to the Union'}"
      ]
     },
     "execution_count": 34,
     "metadata": {},
     "output_type": "execute_result"
    }
   ],
   "source": [
    "info"
   ]
  },
  {
   "cell_type": "code",
   "execution_count": 35,
   "id": "c4808cbb-4cd8-4e2f-aa09-d3fe18bc90d5",
   "metadata": {},
   "outputs": [
    {
     "data": {
      "text/plain": [
       "{'neighbors': ['NH', 'VT', 'NY', 'CT', 'RI'],\n",
       " 'New_England': True,\n",
       " 1788: 'admitted to the Union'}"
      ]
     },
     "execution_count": 35,
     "metadata": {},
     "output_type": "execute_result"
    }
   ],
   "source": [
    "copy"
   ]
  },
  {
   "cell_type": "markdown",
   "id": "8cd8318f-dc66-4f55-9058-9b22e5bf0062",
   "metadata": {},
   "source": [
    "### Getting dictionary *items*"
   ]
  },
  {
   "cell_type": "markdown",
   "id": "329725f9-3324-4801-832a-e2deb6dd70f0",
   "metadata": {},
   "source": [
    "The *items* method will return key:value pairs as a list of tuples (tuples are like lists but immutable)."
   ]
  },
  {
   "cell_type": "code",
   "execution_count": 36,
   "id": "69e088c5-d90a-4af1-a398-fd0406050d9f",
   "metadata": {},
   "outputs": [
    {
     "data": {
      "text/plain": [
       "dict_items([('neighbors', ['NH', 'VT', 'NY', 'CT', 'RI']), (1788, 'admitted to the Union')])"
      ]
     },
     "execution_count": 36,
     "metadata": {},
     "output_type": "execute_result"
    }
   ],
   "source": [
    "info.items()"
   ]
  },
  {
   "cell_type": "markdown",
   "id": "e3efe4aa-a432-420c-b1c7-3b5ff1a811fd",
   "metadata": {},
   "source": [
    "This is especially useful in a **for** loop if you want to iterate and you need both the key and the value."
   ]
  },
  {
   "cell_type": "code",
   "execution_count": 37,
   "id": "58d62efd-4c04-4f98-980c-14b145bdbc19",
   "metadata": {},
   "outputs": [
    {
     "name": "stdout",
     "output_type": "stream",
     "text": [
      "neighbors ['NH', 'VT', 'NY', 'CT', 'RI']\n",
      "1788 admitted to the Union\n"
     ]
    }
   ],
   "source": [
    "for key, value in info.items():\n",
    "    print(key, value)"
   ]
  },
  {
   "cell_type": "markdown",
   "id": "636fb672-44db-4dbc-b2fa-c988a520a060",
   "metadata": {},
   "source": [
    "### Other ways to create a dictionary"
   ]
  },
  {
   "cell_type": "code",
   "execution_count": 38,
   "id": "2daaffbb-88c5-4c91-bb79-f1d39ee24dc9",
   "metadata": {},
   "outputs": [],
   "source": [
    "capitals2 = dict(MA=\"Boston\", CT=\"Hartford\", RI=\"Providence\")"
   ]
  },
  {
   "cell_type": "code",
   "execution_count": null,
   "id": "995534bb-48df-4ac7-90d4-a4000270f6b6",
   "metadata": {},
   "outputs": [],
   "source": [
    "capitals2"
   ]
  },
  {
   "cell_type": "markdown",
   "id": "bc89fb7f-fd20-45d9-a3f2-754389f7ad8c",
   "metadata": {},
   "source": [
    "If you have two lists that belong together in order, use *zip* to match up the lists"
   ]
  },
  {
   "cell_type": "code",
   "execution_count": 39,
   "id": "6570c274-0cc6-4154-bb0d-68025c09ddee",
   "metadata": {},
   "outputs": [],
   "source": [
    "states = [\"MA\", \"CT\", \"RI\"]\n",
    "state_capitals = [\"Boston\", \"Hartford\", \"Providence\"]\n",
    "capitals3 = dict(zip(states, state_capitals))"
   ]
  },
  {
   "cell_type": "code",
   "execution_count": 40,
   "id": "01593b9c-9596-4291-8bbf-1f215bad8308",
   "metadata": {},
   "outputs": [
    {
     "data": {
      "text/plain": [
       "{'MA': 'Boston', 'CT': 'Hartford', 'RI': 'Providence'}"
      ]
     },
     "execution_count": 40,
     "metadata": {},
     "output_type": "execute_result"
    }
   ],
   "source": [
    "capitals3"
   ]
  },
  {
   "cell_type": "markdown",
   "id": "bf5dbd0f-eb62-4fd5-9d61-8e5b7e53991f",
   "metadata": {},
   "source": [
    "## **Let's make a quiz**"
   ]
  },
  {
   "cell_type": "markdown",
   "id": "87b7141f-9ab1-4c34-b684-1cb55dc7c4b6",
   "metadata": {},
   "source": [
    "This first quiz goes through the dictionary in order, shows a definition and expects a specific word (capitalization matters)."
   ]
  },
  {
   "cell_type": "markdown",
   "id": "9a7ea275-911a-439e-aa96-220f10a1bc59",
   "metadata": {},
   "source": [
    "quiz1 = {\n",
    "    \"Average\": \"The mean obtained by adding several quantities together and dividing the sum by the number of quantities.\",\n",
    "    \"Mass\": \"A measure of how much matter there is in an object.\",\n",
    "    \"Moon\": \"A natural satellite that is a celestial body that orbits a planet or smaller planetary body.\"\n",
    "}\n",
    "\n",
    "for k,v in quiz1.items():\n",
    "    print(v)\n",
    "    answer = input()\n",
    "    if answer == k:\n",
    "        print(\"Great Job!\")\n",
    "    else:\n",
    "        print(\"Sorry, the correct term is\", k)\n",
    "print(\"Thanks for playing!\")"
   ]
  },
  {
   "cell_type": "markdown",
   "id": "4c0262d4-dda1-4826-89b7-213412bfc431",
   "metadata": {},
   "source": [
    "This version of the quiz has added scorekeeping."
   ]
  },
  {
   "cell_type": "code",
   "execution_count": null,
   "id": "17b78343-5f0a-4b8f-b6af-8599865ae926",
   "metadata": {},
   "outputs": [],
   "source": [
    "quiz1 = {\n",
    "    \"Average\": \"The mean obtained by adding several quantities together and dividing the sum by the number of quantities.\",\n",
    "    \"Mass\": \"A measure of how much matter there is in an object.\",\n",
    "    \"Moon\": \"A natural satellite that is a celestial body that orbits a planet or smaller planetary body.\"\n",
    "}\n",
    "score = 0\n",
    "for k,v in quiz1.items():\n",
    "    print(v)\n",
    "    answer = input()\n",
    "    if answer == k:\n",
    "        print(\"Great Job!\")\n",
    "        score += 1\n",
    "    else:\n",
    "        print(\"Sorry, the correct term is\", k)\n",
    "    print(\"Your current score is\", score)\n",
    "print(\"Thanks for playing. Your final score is\", score)"
   ]
  },
  {
   "cell_type": "markdown",
   "id": "3cbb67a7-f203-4fa5-8a4b-80bc20f77362",
   "metadata": {},
   "source": [
    "This version still keeps score but doesn't care about capitalization, making getting a point a little easier."
   ]
  },
  {
   "cell_type": "code",
   "execution_count": null,
   "id": "dbba992d-63df-4d57-ab8a-875c037342a6",
   "metadata": {},
   "outputs": [],
   "source": [
    "quiz1 = {\n",
    "    \"Average\": \"The mean obtained by adding several quantities together and dividing the sum by the number of quantities.\",\n",
    "    \"Mass\": \"A measure of how much matter there is in an object.\",\n",
    "    \"Moon\": \"A natural satellite that is a celestial body that orbits a planet or smaller planetary body.\"\n",
    "}\n",
    "score = 0\n",
    "for k,v in quiz1.items():\n",
    "    print(v)\n",
    "    answer.lower() = input()\n",
    "    if answer == k.lower():\n",
    "        print(\"Great Job!\")\n",
    "        score += 1\n",
    "    else:\n",
    "        print(\"Sorry, the correct term is\", k)\n",
    "    print(\"Your current score is\", score)\n",
    "print(\"Thanks for playing. Your final score is\", score)"
   ]
  },
  {
   "cell_type": "markdown",
   "id": "bd46242e-9327-4e19-9585-29cf9f9fdf59",
   "metadata": {},
   "source": [
    "A different version of the quiz dictionary. Each key has a value that is a list with a list of word choices as the first value and a string (the definition) as the second object in the list.  \n",
    "The quiz code has been adjusted to print out four words for the player to choose from."
   ]
  },
  {
   "cell_type": "code",
   "execution_count": null,
   "id": "d7a35727-7ec7-47a2-912e-1d9b5b763bd1",
   "metadata": {},
   "outputs": [],
   "source": [
    "quiz2 = {\n",
    "    \"Average\": [[\"Median\", \"Minimum\", \"Average\", \"Maximum\"], \"The mean obtained by adding several quantities together and dividing the sum by the number of quantities.\"],\n",
    "    \"Mass\": [[\"Energy\", \"Volume\", \"Mass\", \"Length\"], \"A measure of how much matter there is in an object.\"],\n",
    "    \"Moon\": [[\"Star\", \"Moon\", \"Comet\", \"Asteroid\"],\"A natural satellite that is a celestial body that orbits a planet or smaller planetary body.\"]\n",
    "}\n",
    "score = 0\n",
    "for k,v in quiz2.items():\n",
    "    print(v[1])\n",
    "    print(\"Please choose from:\")\n",
    "    for choice in v[0]:\n",
    "        print(\"    \", choice)\n",
    "    answer = input().lower()\n",
    "    if answer == k.lower():\n",
    "        print(\"Great Job!\")\n",
    "        score += 1\n",
    "    else:\n",
    "        print(\"Sorry, the correct term is\", k)\n",
    "    print(\"Your current score is\", score)\n",
    "print(\"Thanks for playing. Your final score is\", score)"
   ]
  },
  {
   "attachments": {},
   "cell_type": "markdown",
   "id": "7d094132-7404-4f82-a686-768f4a9afbf6",
   "metadata": {},
   "source": [
    "## Creating a dictionary from a text file"
   ]
  },
  {
   "cell_type": "markdown",
   "id": "651fab5b-35bd-428f-b0d7-c07e9bb22b00",
   "metadata": {},
   "source": [
    "Sometimes you already have the information for a dictionary in another file. You can write code to read the file and put the information into a dictionary so you don't need to re-type all the information to make the dictionary."
   ]
  },
  {
   "cell_type": "code",
   "execution_count": null,
   "id": "49a48f68-cb0d-452f-82fe-7dc3bc48d4a6",
   "metadata": {},
   "outputs": [],
   "source": [
    "vocab = {}\n",
    "file = open(\"spanish_vocab.txt\")\n",
    "for x in file:\n",
    "    f = x.split(\"=\")\n",
    "    vocab.update({f[0].strip(): f[1].strip()})\n",
    "score = 0\n",
    "print(\"To end the quiz early, select the cell, press esc for command mode, then click the stop button or press i twice\")\n",
    "for k,v in vocab.items():\n",
    "    print(\"What is the English word for:\", k)\n",
    "    answer = input()\n",
    "    if answer == v:\n",
    "        print(\"Great Job!\")\n",
    "        score += 1\n",
    "    else:\n",
    "        print(\"Sorry, the correct answer is\", v)\n",
    "    print(\"Your current score is\", score)\n",
    "print(\"Thanks for playing. Your final score is\", score)"
   ]
  },
  {
   "cell_type": "markdown",
   "id": "a8786656-5064-43bc-8033-0ad725ae4cb3",
   "metadata": {},
   "source": [
    "## Physical Computing"
   ]
  },
  {
   "cell_type": "markdown",
   "id": "014ecc6b-899f-4834-aa96-6d3793a33937",
   "metadata": {},
   "source": [
    "We'll take a look at what coding a physical device can look like. We'll look at CircuitPython code to control a Circuit Playground Express (CPX) device. Reference link: https://learn.adafruit.com/circuitpython-made-easy-on-circuit-playground-express/red-led"
   ]
  },
  {
   "cell_type": "markdown",
   "id": "1ec8e105-1801-4f4a-b473-380c8ce5f1d8",
   "metadata": {},
   "source": [
    "**The code in this section won't run in this notebook**, it is meant to be run on a CPX set up for CircuitPython."
   ]
  },
  {
   "cell_type": "markdown",
   "id": "3eba4409-483f-402d-abf0-fc15cf1ecde3",
   "metadata": {},
   "source": [
    "We will take advantage of a Circuit Python library specifically to control the features on the CPX  The library is provided by Adafruit, the company that makes the Circuit Playground.\n",
    "\n",
    "Remember when we imported the **random** library in our guess the number game? Here we don't need the whole library so we're looking in the adafruit_circuitplayground library for cp, the Circuit Playground class that has methods to control hardware on the CPX.\n",
    "\n",
    "The red LED light is hardware on the CPX. The following code turns on (True) the red LED as along as the code is running."
   ]
  },
  {
   "cell_type": "code",
   "execution_count": null,
   "id": "3d4c928b-3062-4a72-b624-1bce9caf7a1c",
   "metadata": {},
   "outputs": [],
   "source": [
    "from adafruit_circuitplayground import cp\n",
    "\n",
    "while True:\n",
    "    cp.red_led = True"
   ]
  },
  {
   "cell_type": "markdown",
   "id": "0a6ea6e5-5865-4a37-ae10-21b4acc8b6df",
   "metadata": {},
   "source": [
    "We can turn off the red LED by setting cp.red_led to **False** but the while loop runs very fast and human eyes can't see such fast blinking so we import the **time** library so we can put in a pause (aka. sleep)."
   ]
  },
  {
   "cell_type": "markdown",
   "id": "2d0d743f-4b8f-4899-8cc7-a52e0ea11dee",
   "metadata": {},
   "source": [
    "import time\n",
    "\n",
    "from adafruit_circuitplayground import cp\n",
    "\n",
    "while True:\n",
    "    cp.red_led = True\n",
    "    time.sleep(0.5)\n",
    "    cp.red_led = False\n",
    "    time.sleep(0.5)"
   ]
  },
  {
   "cell_type": "markdown",
   "id": "d150d5d9-784f-4cb4-b925-c0823ea28938",
   "metadata": {},
   "source": [
    "Similarly, the method **switch** is responsible for the slide switch in the center of the CPX. Instead of turning a light on or off. **switch** is true if the switch is pushed to the left and false if it is pushed to the right.  \n",
    "\n",
    "To see the print statement in the code, we need a serial monitor. We can use a web-based CircuitPython code editor and serial port monitor from https://code.circuitpython.org/"
   ]
  },
  {
   "cell_type": "code",
   "execution_count": null,
   "id": "7156030e-08f0-4120-9471-f06123728f78",
   "metadata": {},
   "outputs": [],
   "source": [
    "import time\n",
    "\n",
    "from adafruit_circuitplayground import cp\n",
    "\n",
    "while True:\n",
    "    print(\"Slide switch:\", cp.switch)\n",
    "    time.sleep(0.1)"
   ]
  },
  {
   "cell_type": "markdown",
   "id": "00be13e9-e032-48af-b832-d4ba97ae142f",
   "metadata": {},
   "source": [
    "We can use the position of the slide switch to control the red LED"
   ]
  },
  {
   "cell_type": "code",
   "execution_count": null,
   "id": "32653dbf-36ba-4b85-a706-9287b9c0b6d9",
   "metadata": {},
   "outputs": [],
   "source": [
    "from adafruit_circuitplayground import cp\n",
    "\n",
    "while True:\n",
    "    if cp.switch:\n",
    "        cp.red_led = True\n",
    "    else:\n",
    "        cp.red_led = False"
   ]
  },
  {
   "cell_type": "markdown",
   "id": "1d7d29dd-09e4-4143-8ed9-d20ef5f85d0d",
   "metadata": {},
   "source": [
    "Here's an interesting example where the CPX's accelerometer is used so that the position of the CPX will change the color of the LEDs on the CPX. You can read more about how the code works at: https://learn.adafruit.com/circuitpython-made-easy-on-circuit-playground-express/acceleration"
   ]
  },
  {
   "cell_type": "code",
   "execution_count": null,
   "id": "57e212cf-dc88-4a4c-821b-f4e7fca46049",
   "metadata": {},
   "outputs": [],
   "source": [
    "from adafruit_circuitplayground import cp\n",
    "\n",
    "# Main loop gets x, y and z axis acceleration, prints the values, and turns on\n",
    "# red, green and blue, at levels related to the x, y and z values.\n",
    "while True:\n",
    "    if not cp.switch:\n",
    "        # If the switch is to the right, it returns False!\n",
    "        print(\"Slide switch off!\")\n",
    "        cp.pixels.fill((0, 0, 0))\n",
    "        continue\n",
    "    R = 0\n",
    "    G = 0\n",
    "    B = 0\n",
    "    x, y, z = cp.acceleration\n",
    "    print((x, y, z))\n",
    "    cp.pixels.fill(((R + abs(int(x))), (G + abs(int(y))), (B + abs(int(z)))))"
   ]
  },
  {
   "cell_type": "markdown",
   "id": "ab081bc6-01d5-4d65-9350-f2205cc83975",
   "metadata": {},
   "source": [
    "With this code, if the CPX is flat, the LEDs will be blue. Standing on its edge with the USB cable pointed up, the LEDs will be green. Turning the CPX so the USB cable is pointing left or right, the LEDs will be red."
   ]
  }
 ],
 "metadata": {
  "kernelspec": {
   "display_name": "Python 3 (ipykernel)",
   "language": "python",
   "name": "python3"
  },
  "language_info": {
   "codemirror_mode": {
    "name": "ipython",
    "version": 3
   },
   "file_extension": ".py",
   "mimetype": "text/x-python",
   "name": "python",
   "nbconvert_exporter": "python",
   "pygments_lexer": "ipython3",
   "version": "3.11.13"
  }
 },
 "nbformat": 4,
 "nbformat_minor": 5
}
