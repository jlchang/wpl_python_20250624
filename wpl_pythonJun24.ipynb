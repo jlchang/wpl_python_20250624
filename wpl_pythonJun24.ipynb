{
  "nbformat": 4,
  "nbformat_minor": 0,
  "metadata": {
    "colab": {
      "provenance": [],
      "collapsed_sections": [
        "jpCgmzsKvBSG",
        "qqFYsBFlvbv0",
        "RuhjIgOGv75_",
        "cXBqDYXmwSom",
        "kUrcDkYj5T9Y",
        "iRADibuO77IS",
        "BKoe6M4x74iI",
        "bHc2jh7_BdW5"
      ]
    },
    "kernelspec": {
      "name": "python3",
      "display_name": "Python 3"
    },
    "language_info": {
      "name": "python"
    }
  },
  "cells": [
    {
      "cell_type": "markdown",
      "source": [
        "## **Working with Jupyter Notebook**\n",
        "\n",
        "\n"
      ],
      "metadata": {
        "id": "vy7ZENwCqoXy"
      }
    },
    {
      "cell_type": "markdown",
      "source": [
        "**[esc]** switch from edit mode to command mode  \n",
        "(notice a cursor inside the current cell)\n",
        "\n",
        "In command mode\n",
        "*   **A** &nbsp;&nbsp;&nbsp; Insert new cell above current cell\n",
        "*   **B** &nbsp;&nbsp;&nbsp; Insert new cell below current cell\n",
        "*   **M** &nbsp;&nbsp;&nbsp; Change to cell Markdown (text) cell\n",
        "*   **Y** &nbsp;&nbsp;&nbsp; Change to cell Code cell\n",
        "\n",
        "**[enter]** switch from command mode to edit mode\n",
        "(notice an outline around the current cell)\n",
        "\n",
        "*   **Alt+Enter** &nbsp; Run the current cell and insert new cell\n",
        "*   **Ctrl + s** &nbsp;&nbsp;&nbsp;&nbsp;&nbsp; Save Notebook  \n",
        "\n",
        "To download files:  [jupyter.org/try-jupyter/tree](https://jupyter.org/try-jupyter/tree)"
      ],
      "metadata": {
        "id": "HX03kWVCso0b"
      }
    },
    {
      "cell_type": "markdown",
      "source": [
        "## **Programming and Python**"
      ],
      "metadata": {
        "id": "qsxMmjGYUIKL"
      }
    },
    {
      "cell_type": "markdown",
      "source": [
        "Programming: ordered steps to reach a specific goal\n",
        "* Goal can be **divided** into multiple steps\n",
        "* Steps are **ordered**\n",
        "* Result can be **determined** by the steps\n",
        "* Ordered steps to reach goal are **repeatable**"
      ],
      "metadata": {
        "id": "bAdDjjRa9L0i"
      }
    },
    {
      "cell_type": "code",
      "source": [
        "print(\"Hello World\")"
      ],
      "metadata": {
        "id": "rkfCcXK282Zb",
        "colab": {
          "base_uri": "https://localhost:8080/"
        },
        "outputId": "84522e04-1ea8-4cad-d354-608c4acf8113"
      },
      "execution_count": null,
      "outputs": [
        {
          "output_type": "stream",
          "name": "stdout",
          "text": [
            "Hello World\n"
          ]
        }
      ]
    },
    {
      "cell_type": "markdown",
      "source": [
        "*print* is a special word in Python  \n",
        "Parenthesis () are used to hold input or *parameters*  \n",
        "text in quotes are strings\n"
      ],
      "metadata": {
        "id": "FnIsqd7e-EA6"
      }
    },
    {
      "cell_type": "markdown",
      "source": [
        "### Exercise"
      ],
      "metadata": {
        "id": "jpCgmzsKvBSG"
      }
    },
    {
      "cell_type": "markdown",
      "source": [
        "Use *print* and let us know your favorite food\n",
        "\n"
      ],
      "metadata": {
        "id": "xx4ZQYIuvFrW"
      }
    },
    {
      "cell_type": "markdown",
      "source": [
        "#### Hint:"
      ],
      "metadata": {
        "id": "qqFYsBFlvbv0"
      }
    },
    {
      "cell_type": "code",
      "source": [
        "print(\"Replace me with your favorite food\")"
      ],
      "metadata": {
        "id": "UZG3laZuvMQq",
        "colab": {
          "base_uri": "https://localhost:8080/"
        },
        "outputId": "4185fdf1-9b2e-436c-9fc0-ca0f4655b62c"
      },
      "execution_count": null,
      "outputs": [
        {
          "output_type": "stream",
          "name": "stdout",
          "text": [
            "Replace me with your favorite food\n"
          ]
        }
      ]
    },
    {
      "cell_type": "markdown",
      "source": [
        "## **Strings**\n"
      ],
      "metadata": {
        "id": "UG9lDTwP-dJ6"
      }
    },
    {
      "cell_type": "markdown",
      "source": [
        "In Python, strings are surrounded by a pair of single or double quotes, just like you would do in Language class.  \n",
        "Did you know in python you can add two strings?  "
      ],
      "metadata": {
        "id": "hjHewzAJ-h6q"
      }
    },
    {
      "cell_type": "markdown",
      "source": [
        "*print* is a python **function**. A function a program with a single word as its name that performs a specific task for you.  \n",
        "\n",
        "Often, you will also give a function some information or inputs (in programming, you might hear them called parameters). To let the function know where to find the parameters, you put the parameters in parenthesis, like we did for the string \"Hello World\"."
      ],
      "metadata": {
        "id": "tiyXANDamCXw"
      }
    },
    {
      "cell_type": "code",
      "source": [
        "print()"
      ],
      "metadata": {
        "colab": {
          "base_uri": "https://localhost:8080/"
        },
        "id": "e9YDgYsBp5KO",
        "outputId": "7bb9abc8-dd9c-47f2-b6af-8763cf1dbcfb"
      },
      "execution_count": null,
      "outputs": [
        {
          "output_type": "stream",
          "name": "stdout",
          "text": [
            "\n"
          ]
        }
      ]
    },
    {
      "cell_type": "markdown",
      "source": [
        "Some functions don't need or expect parameters. Notice that the *print* function ran even though we didn't give it any information in the parenthesis. Just remember that some functions can't run without input and will complain."
      ],
      "metadata": {
        "id": "XiI1xvAiqCpc"
      }
    },
    {
      "cell_type": "markdown",
      "source": [
        "The plus sign is an **operator**. (quote symbols are not quite operators, but they are special)\n",
        "Python has lots of operators that you've probably seen in math class.  \n",
        "They mostly work exactly like you think they would for numbers. What do you think happens when you add two strings?"
      ],
      "metadata": {
        "id": "-eXhwN-rbH_B"
      }
    },
    {
      "cell_type": "code",
      "source": [
        "print(\"Hello\" + \"World\")"
      ],
      "metadata": {
        "colab": {
          "base_uri": "https://localhost:8080/"
        },
        "id": "PmunaY1JaWgh",
        "outputId": "97fe001c-d6f2-41fc-c832-8c87a7fc9879"
      },
      "execution_count": null,
      "outputs": [
        {
          "output_type": "stream",
          "name": "stdout",
          "text": [
            "HelloWorld\n"
          ]
        }
      ]
    },
    {
      "cell_type": "markdown",
      "source": [
        "Notice **print** does not put a space between the strings  \n",
        "Spaces (and most other characters) can be put anywhere in a string."
      ],
      "metadata": {
        "id": "ifOhupKDaaB0"
      }
    },
    {
      "cell_type": "code",
      "source": [
        "print(\"Hello \" + \"World\")\n",
        "print(\"Hello\" + \" World\")\n",
        "print(\"Hello \" + \"World \")"
      ],
      "metadata": {
        "colab": {
          "base_uri": "https://localhost:8080/"
        },
        "id": "h3N2XsYLanaW",
        "outputId": "e925fd4b-6e62-42f8-a749-18b4eef6da8d"
      },
      "execution_count": null,
      "outputs": [
        {
          "output_type": "stream",
          "name": "stdout",
          "text": [
            "Hello World\n",
            "Hello World\n",
            "Hello World \n"
          ]
        }
      ]
    },
    {
      "cell_type": "markdown",
      "source": [
        "Also remember that when you define a string, the pair of quotes must match. Try mismatching the quote symbols and see what happens:\n"
      ],
      "metadata": {
        "id": "fbsdYcixlvnh"
      }
    },
    {
      "cell_type": "code",
      "source": [
        "print(\"Hello World')"
      ],
      "metadata": {
        "colab": {
          "base_uri": "https://localhost:8080/",
          "height": 108
        },
        "id": "fU2NfgrgmoFJ",
        "outputId": "261c8619-2757-4dda-e627-c716cbbdb7a6"
      },
      "execution_count": null,
      "outputs": [
        {
          "output_type": "error",
          "ename": "SyntaxError",
          "evalue": "unterminated string literal (detected at line 1) (ipython-input-6-3529077548.py, line 1)",
          "traceback": [
            "\u001b[0;36m  File \u001b[0;32m\"/tmp/ipython-input-6-3529077548.py\"\u001b[0;36m, line \u001b[0;32m1\u001b[0m\n\u001b[0;31m    print(\"Hello World')\u001b[0m\n\u001b[0m          ^\u001b[0m\n\u001b[0;31mSyntaxError\u001b[0m\u001b[0;31m:\u001b[0m unterminated string literal (detected at line 1)\n"
          ]
        }
      ]
    },
    {
      "cell_type": "code",
      "source": [
        "print('Hello World\")"
      ],
      "metadata": {
        "colab": {
          "base_uri": "https://localhost:8080/",
          "height": 108
        },
        "id": "qLlAkfxLm1sz",
        "outputId": "5f176292-529a-4812-a9df-05a4eddfa043"
      },
      "execution_count": null,
      "outputs": [
        {
          "output_type": "error",
          "ename": "SyntaxError",
          "evalue": "unterminated string literal (detected at line 1) (ipython-input-7-2803455855.py, line 1)",
          "traceback": [
            "\u001b[0;36m  File \u001b[0;32m\"/tmp/ipython-input-7-2803455855.py\"\u001b[0;36m, line \u001b[0;32m1\u001b[0m\n\u001b[0;31m    print('Hello World\")\u001b[0m\n\u001b[0m          ^\u001b[0m\n\u001b[0;31mSyntaxError\u001b[0m\u001b[0;31m:\u001b[0m unterminated string literal (detected at line 1)\n"
          ]
        }
      ]
    },
    {
      "cell_type": "markdown",
      "source": [
        "Python found an **opening** quote but didn't find a matching **closing** quote so it complains that the string was **unterminated**.  \n",
        "\n",
        "\n",
        "Does that make sense to you?"
      ],
      "metadata": {
        "id": "Bdnm9mnum4Bu"
      }
    },
    {
      "cell_type": "markdown",
      "source": [
        "What do you think Python would do if you tell it to do multiplication with strings?  \n",
        "How might you try that?"
      ],
      "metadata": {
        "id": "ScEK_tf_nWtH"
      }
    },
    {
      "cell_type": "code",
      "source": [
        "print(\"hello \" * 3)"
      ],
      "metadata": {
        "colab": {
          "base_uri": "https://localhost:8080/"
        },
        "id": "PvKLy0PqniLh",
        "outputId": "350879b8-ac26-4148-c106-03bad53ae370"
      },
      "execution_count": null,
      "outputs": [
        {
          "output_type": "stream",
          "name": "stdout",
          "text": [
            "hello hello hello \n"
          ]
        }
      ]
    },
    {
      "cell_type": "markdown",
      "source": [
        "You can multiply and add strings in the same print statement!"
      ],
      "metadata": {
        "id": "IdpyFBjHnl0i"
      }
    },
    {
      "cell_type": "code",
      "source": [
        "print(\"Well, \" + \"hello \" * 4 + \"world!\")"
      ],
      "metadata": {
        "colab": {
          "base_uri": "https://localhost:8080/"
        },
        "id": "ioc8EK8Rn2pg",
        "outputId": "ffcc0bdd-2742-48d6-973f-1264d05a1a54"
      },
      "execution_count": null,
      "outputs": [
        {
          "output_type": "stream",
          "name": "stdout",
          "text": [
            "Well, hello hello hello hello world!\n"
          ]
        }
      ]
    },
    {
      "cell_type": "markdown",
      "source": [
        "But not every math operator works with strings..."
      ],
      "metadata": {
        "id": "NF1mjLrAoAGc"
      }
    },
    {
      "cell_type": "code",
      "source": [
        "print(\"Hello\"/\"world\")"
      ],
      "metadata": {
        "colab": {
          "base_uri": "https://localhost:8080/",
          "height": 144
        },
        "id": "B1tEl1wAoOnN",
        "outputId": "8640c134-9894-409d-ff6b-bead10249142"
      },
      "execution_count": null,
      "outputs": [
        {
          "output_type": "error",
          "ename": "TypeError",
          "evalue": "unsupported operand type(s) for /: 'str' and 'str'",
          "traceback": [
            "\u001b[0;31m---------------------------------------------------------------------------\u001b[0m",
            "\u001b[0;31mTypeError\u001b[0m                                 Traceback (most recent call last)",
            "\u001b[0;32m/tmp/ipython-input-10-2968874173.py\u001b[0m in \u001b[0;36m<cell line: 0>\u001b[0;34m()\u001b[0m\n\u001b[0;32m----> 1\u001b[0;31m \u001b[0mprint\u001b[0m\u001b[0;34m(\u001b[0m\u001b[0;34m\"Hello\"\u001b[0m\u001b[0;34m/\u001b[0m\u001b[0;34m\"world\"\u001b[0m\u001b[0;34m)\u001b[0m\u001b[0;34m\u001b[0m\u001b[0;34m\u001b[0m\u001b[0m\n\u001b[0m",
            "\u001b[0;31mTypeError\u001b[0m: unsupported operand type(s) for /: 'str' and 'str'"
          ]
        }
      ]
    },
    {
      "cell_type": "markdown",
      "source": [
        "Python can also count for you, using the **function** *len* (short for length).\n",
        "*len* expects an input so it has something to count and it will complain if you don't give it anything."
      ],
      "metadata": {
        "id": "wzM1ViU2oSzJ"
      }
    },
    {
      "cell_type": "code",
      "source": [
        "len()"
      ],
      "metadata": {
        "colab": {
          "base_uri": "https://localhost:8080/",
          "height": 144
        },
        "id": "speIHvQQqZf3",
        "outputId": "f7a0716c-d230-4cb3-def3-1955aaa28520"
      },
      "execution_count": null,
      "outputs": [
        {
          "output_type": "error",
          "ename": "TypeError",
          "evalue": "len() takes exactly one argument (0 given)",
          "traceback": [
            "\u001b[0;31m---------------------------------------------------------------------------\u001b[0m",
            "\u001b[0;31mTypeError\u001b[0m                                 Traceback (most recent call last)",
            "\u001b[0;32m/tmp/ipython-input-11-3175031574.py\u001b[0m in \u001b[0;36m<cell line: 0>\u001b[0;34m()\u001b[0m\n\u001b[0;32m----> 1\u001b[0;31m \u001b[0mlen\u001b[0m\u001b[0;34m(\u001b[0m\u001b[0;34m)\u001b[0m\u001b[0;34m\u001b[0m\u001b[0;34m\u001b[0m\u001b[0m\n\u001b[0m",
            "\u001b[0;31mTypeError\u001b[0m: len() takes exactly one argument (0 given)"
          ]
        }
      ]
    },
    {
      "cell_type": "code",
      "source": [
        "len(\"Hello World\")"
      ],
      "metadata": {
        "colab": {
          "base_uri": "https://localhost:8080/"
        },
        "id": "BmQBtUMoqpdE",
        "outputId": "17304a3d-d907-4192-c395-01d14adba782"
      },
      "execution_count": null,
      "outputs": [
        {
          "output_type": "execute_result",
          "data": {
            "text/plain": [
              "11"
            ]
          },
          "metadata": {},
          "execution_count": 12
        }
      ]
    },
    {
      "cell_type": "markdown",
      "source": [
        "Here we use *len* to count how many letters there are in the string \"Hello World\". Notice that *len* considers the space a character, just like the alphabetic characters."
      ],
      "metadata": {
        "id": "DrltXcJoqv_0"
      }
    },
    {
      "cell_type": "code",
      "source": [
        "len(\"Well, \" + \"hello \" * 4 + \"world!\")"
      ],
      "metadata": {
        "colab": {
          "base_uri": "https://localhost:8080/"
        },
        "id": "o7v_EHUKrEDh",
        "outputId": "0e30d753-5354-4369-c57a-ad203bb8e6c0"
      },
      "execution_count": null,
      "outputs": [
        {
          "output_type": "execute_result",
          "data": {
            "text/plain": [
              "36"
            ]
          },
          "metadata": {},
          "execution_count": 13
        }
      ]
    },
    {
      "cell_type": "markdown",
      "source": [
        "### Exercise"
      ],
      "metadata": {
        "id": "RuhjIgOGv75_"
      }
    },
    {
      "cell_type": "markdown",
      "source": [
        "Use *print* and a Math operator to tell us how much you like your favorite food\n",
        "\n"
      ],
      "metadata": {
        "id": "Xhj1cjWDv75_"
      }
    },
    {
      "cell_type": "markdown",
      "source": [
        "## **Numbers**"
      ],
      "metadata": {
        "id": "k4oMniyork4g"
      }
    },
    {
      "cell_type": "markdown",
      "source": [
        "Now let's try using Python operators with numbers."
      ],
      "metadata": {
        "id": "gHaBWMtfrtG4"
      }
    },
    {
      "cell_type": "code",
      "source": [
        "print(4 + 2)\n",
        "print(4 - 2)\n",
        "print(4 * 2)\n",
        "print(4 / 2)"
      ],
      "metadata": {
        "colab": {
          "base_uri": "https://localhost:8080/"
        },
        "id": "b_OU1mdor4od",
        "outputId": "c675607a-e1f4-4bb1-91f1-fb1ed7b74f95"
      },
      "execution_count": null,
      "outputs": [
        {
          "output_type": "stream",
          "name": "stdout",
          "text": [
            "6\n",
            "2\n",
            "8\n",
            "2.0\n"
          ]
        }
      ]
    },
    {
      "cell_type": "markdown",
      "source": [
        "Where order of operations matters (If you've seen PEMDAS in math class), you can use parenthesis to group operations."
      ],
      "metadata": {
        "id": "iYfjIQQ_sCKO"
      }
    },
    {
      "cell_type": "code",
      "source": [
        "print(2 * (4 + 6))\n",
        "print((10 + 6) / (9 - 1))"
      ],
      "metadata": {
        "colab": {
          "base_uri": "https://localhost:8080/"
        },
        "id": "CEdiUHI6smR_",
        "outputId": "ea2674a2-7809-4d01-deb4-0097067ad656"
      },
      "execution_count": null,
      "outputs": [
        {
          "output_type": "stream",
          "name": "stdout",
          "text": [
            "20\n",
            "2.0\n"
          ]
        }
      ]
    },
    {
      "cell_type": "markdown",
      "source": [
        "Python also has a special *modulo* operator that is common in programming. The percent (%) symbol is used for *modulo* which is just the remainder AFTER you've done division.  \n",
        "\n",
        "This is handy when you need to know what is left over. For example, if you have 25 jelly beans and 8 people, how many jelly beans are left over when everyone has been given an equal amount?"
      ],
      "metadata": {
        "id": "n_UGNnaTs06_"
      }
    },
    {
      "cell_type": "code",
      "source": [
        "print(25 % 8)"
      ],
      "metadata": {
        "colab": {
          "base_uri": "https://localhost:8080/"
        },
        "id": "2ypjueZwtugM",
        "outputId": "70ed9a70-e362-4916-b609-582b97d461d7"
      },
      "execution_count": null,
      "outputs": [
        {
          "output_type": "stream",
          "name": "stdout",
          "text": [
            "1\n"
          ]
        }
      ]
    },
    {
      "cell_type": "markdown",
      "source": [
        "### Exercises"
      ],
      "metadata": {
        "id": "eU-YHboGwSol"
      }
    },
    {
      "cell_type": "markdown",
      "source": [
        "How could you use *modulo* to figure out if a number is odd or even?"
      ],
      "metadata": {
        "id": "5VMfOv73twx0"
      }
    },
    {
      "cell_type": "markdown",
      "source": [
        "#### Hint:"
      ],
      "metadata": {
        "id": "cXBqDYXmwSom"
      }
    },
    {
      "cell_type": "markdown",
      "source": [
        "What happens when you divide any odd number by 2?"
      ],
      "metadata": {
        "id": "lWlMBNWuuBlD"
      }
    },
    {
      "cell_type": "markdown",
      "source": [
        "#### What is the difference between the following two print statements?"
      ],
      "metadata": {
        "id": "cdQstXyNuDM_"
      }
    },
    {
      "cell_type": "code",
      "source": [
        "print(\"20\" + \"20\")\n",
        "print(20 + 20)"
      ],
      "metadata": {
        "id": "e_qxrIsEuIts"
      },
      "execution_count": null,
      "outputs": []
    },
    {
      "cell_type": "code",
      "source": [
        "print(\"20\" * \"20\")\n",
        "print(20 * 20)"
      ],
      "metadata": {
        "id": "6hxgurdOuPxn"
      },
      "execution_count": null,
      "outputs": []
    },
    {
      "cell_type": "markdown",
      "source": [
        "## **Variables**"
      ],
      "metadata": {
        "id": "_kUbmf2huWxo"
      }
    },
    {
      "cell_type": "markdown",
      "source": [
        "Some strings (like supercalifragilisticexpialidocious) or numbers like pi (3.141592653589793238462643383279502) are long and would be a pain to type out over and over.  \n",
        "\n",
        "Python has **variables** where we can store information and reuse it without typing it all out.\n",
        "\n",
        "\n",
        "Let's store a long word in a variable called *big_word*\n"
      ],
      "metadata": {
        "id": "irFwr4I8ujeC"
      }
    },
    {
      "cell_type": "code",
      "source": [
        "big_word = \"supercalifragilisticexpialidocious\""
      ],
      "metadata": {
        "id": "X8Zmv4LTxUhz"
      },
      "execution_count": null,
      "outputs": []
    },
    {
      "cell_type": "code",
      "source": [
        "print(big_word)"
      ],
      "metadata": {
        "colab": {
          "base_uri": "https://localhost:8080/"
        },
        "id": "-1h-_zfaxVym",
        "outputId": "26b7c16b-321a-4797-ec93-d93b58329a38"
      },
      "execution_count": null,
      "outputs": [
        {
          "output_type": "stream",
          "name": "stdout",
          "text": [
            "supercalifragilisticexpialidocious\n"
          ]
        }
      ]
    },
    {
      "cell_type": "markdown",
      "source": [
        "Notice the input I gave **print** was the variable *big_word* NOT the string \"big_word\""
      ],
      "metadata": {
        "id": "WaaURg5Jx9_d"
      }
    },
    {
      "cell_type": "markdown",
      "source": [
        "The **type** of variable is determined by the *value* assigned to the variable. \"\"supercalifragilisticexpialidocious\" is a string so *big_word* is a string variable.\n",
        "\n",
        "If I assign 3.141592653589793238462643383279502 to a variable called *long_number*, it will be a numeric variable."
      ],
      "metadata": {
        "id": "XdzbMpaiyKT0"
      }
    },
    {
      "cell_type": "code",
      "source": [
        "long_number = 3.141592653589793238462643383279502"
      ],
      "metadata": {
        "id": "0R9fFLhGyu2G"
      },
      "execution_count": null,
      "outputs": []
    },
    {
      "cell_type": "markdown",
      "source": [
        "Operators used with string variables will behave the way strings do."
      ],
      "metadata": {
        "id": "LnRhw06Ay1W0"
      }
    },
    {
      "cell_type": "code",
      "source": [
        "print(big_word *3)"
      ],
      "metadata": {
        "colab": {
          "base_uri": "https://localhost:8080/"
        },
        "id": "2NJ8z8_By_B7",
        "outputId": "f3e889b9-366b-42da-dc53-e6c423146ce1"
      },
      "execution_count": null,
      "outputs": [
        {
          "output_type": "stream",
          "name": "stdout",
          "text": [
            "supercalifragilisticexpialidocioussupercalifragilisticexpialidocioussupercalifragilisticexpialidocious\n"
          ]
        }
      ]
    },
    {
      "cell_type": "markdown",
      "source": [
        "Operators used with numeric variables will behave the way numbers do."
      ],
      "metadata": {
        "id": "iB5P7mPazD8C"
      }
    },
    {
      "cell_type": "code",
      "source": [
        "print(long_number * 3)"
      ],
      "metadata": {
        "colab": {
          "base_uri": "https://localhost:8080/"
        },
        "id": "flCzAbxWzK0e",
        "outputId": "9e144b9d-003d-4838-de32-cc700448b62b"
      },
      "execution_count": null,
      "outputs": [
        {
          "output_type": "stream",
          "name": "stdout",
          "text": [
            "9.42477796076938\n"
          ]
        }
      ]
    },
    {
      "cell_type": "markdown",
      "source": [
        "You can't use a variable until you've assigned it a value."
      ],
      "metadata": {
        "id": "YwNheFKvzM1J"
      }
    },
    {
      "cell_type": "code",
      "source": [
        "print(\"My name is \" + name)"
      ],
      "metadata": {
        "colab": {
          "base_uri": "https://localhost:8080/",
          "height": 144
        },
        "id": "x3PHzwABzds5",
        "outputId": "53399b64-1e86-4fe1-c56f-4ecf9531b123"
      },
      "execution_count": null,
      "outputs": [
        {
          "output_type": "error",
          "ename": "NameError",
          "evalue": "name 'name' is not defined",
          "traceback": [
            "\u001b[0;31m---------------------------------------------------------------------------\u001b[0m",
            "\u001b[0;31mNameError\u001b[0m                                 Traceback (most recent call last)",
            "\u001b[0;32m/tmp/ipython-input-22-89598342.py\u001b[0m in \u001b[0;36m<cell line: 0>\u001b[0;34m()\u001b[0m\n\u001b[0;32m----> 1\u001b[0;31m \u001b[0mprint\u001b[0m\u001b[0;34m(\u001b[0m\u001b[0;34m\"My name is \"\u001b[0m \u001b[0;34m+\u001b[0m \u001b[0mname\u001b[0m\u001b[0;34m)\u001b[0m\u001b[0;34m\u001b[0m\u001b[0;34m\u001b[0m\u001b[0m\n\u001b[0m",
            "\u001b[0;31mNameError\u001b[0m: name 'name' is not defined"
          ]
        }
      ]
    },
    {
      "cell_type": "code",
      "source": [
        "name = \"Scout\"\n",
        "greeting = \"Hello \" + name\n",
        "print(greeting)"
      ],
      "metadata": {
        "colab": {
          "base_uri": "https://localhost:8080/"
        },
        "id": "vrrSf74Uzhj6",
        "outputId": "ef390908-02d1-45a7-e679-32b4bfe6b13d"
      },
      "execution_count": null,
      "outputs": [
        {
          "output_type": "stream",
          "name": "stdout",
          "text": [
            "Hello Scout\n"
          ]
        }
      ]
    },
    {
      "cell_type": "markdown",
      "source": [
        "Explain the code cell above using at least one of the following words:\n",
        "\n",
        "function   print   string   closing   type variable   operator   input   opening   assign   numeric   value   statement   addition   defined"
      ],
      "metadata": {
        "id": "rK14iPBn1fSU"
      }
    },
    {
      "cell_type": "markdown",
      "source": [
        "### Important: **Variable assignment** is **NOT** like Math"
      ],
      "metadata": {
        "id": "FAA9okjH3lAe"
      }
    },
    {
      "cell_type": "markdown",
      "source": [
        "You can use functions and operators on a variable and assign the result back to the **SAME** variable name and that assignment will **update the variable to the new value**"
      ],
      "metadata": {
        "id": "XAKXVEMH4KNI"
      }
    },
    {
      "cell_type": "code",
      "source": [
        "points = 25\n",
        "points = points + 50\n",
        "print(points)"
      ],
      "metadata": {
        "id": "yJ7KIEwU3gud",
        "colab": {
          "base_uri": "https://localhost:8080/"
        },
        "outputId": "40f040c2-fb16-4f87-8ee3-449350d03203"
      },
      "execution_count": null,
      "outputs": [
        {
          "output_type": "stream",
          "name": "stdout",
          "text": [
            "75\n"
          ]
        }
      ]
    },
    {
      "cell_type": "markdown",
      "source": [
        "![variable_assignment.png](data:image/png;base64,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)"
      ],
      "metadata": {
        "id": "1Qo2noRYGV-b"
      }
    },
    {
      "cell_type": "markdown",
      "source": [
        "Here's an example with strings:"
      ],
      "metadata": {
        "id": "OBwR2MFj42aJ"
      }
    },
    {
      "cell_type": "code",
      "source": [
        "name = \"Scout\"\n",
        "name = name + name\n",
        "print(name)"
      ],
      "metadata": {
        "colab": {
          "base_uri": "https://localhost:8080/"
        },
        "id": "hI3qEVQx3fxy",
        "outputId": "f6b1875f-35ee-4b08-fa0d-939ff6461188"
      },
      "execution_count": null,
      "outputs": [
        {
          "output_type": "stream",
          "name": "stdout",
          "text": [
            "ScoutScout\n"
          ]
        }
      ]
    },
    {
      "cell_type": "markdown",
      "source": [
        "### Tricky exercise"
      ],
      "metadata": {
        "id": "kUrcDkYj5T9Y"
      }
    },
    {
      "cell_type": "markdown",
      "source": [
        "IF you have:  \n",
        "first = 8  \n",
        "second = \"alien\"  \n",
        "\n",
        "How do you use use **variable assignment** to swap the values for the two variables?\n"
      ],
      "metadata": {
        "id": "9jCXStQz5e4F"
      }
    },
    {
      "cell_type": "markdown",
      "source": [
        "#### First try"
      ],
      "metadata": {
        "id": "iRADibuO77IS"
      }
    },
    {
      "cell_type": "markdown",
      "source": [
        "#####  Code for first try  \n",
        "first = 8  \n",
        "second = \"alien\"  \n",
        "first = second  \n",
        "second = first  \n"
      ],
      "metadata": {
        "id": "qdzR8ZeP9Aiz"
      }
    },
    {
      "cell_type": "code",
      "source": [
        "first = 8\n",
        "second = \"alien\"\n",
        "print(\"before any swapping:\", first, second)"
      ],
      "metadata": {
        "id": "jxjJVGGd8DYC"
      },
      "execution_count": null,
      "outputs": []
    },
    {
      "cell_type": "code",
      "source": [
        "first = second\n",
        "print(\"assigned first to second:\", first, second)"
      ],
      "metadata": {
        "id": "IwOhS5PA8743"
      },
      "execution_count": null,
      "outputs": []
    },
    {
      "cell_type": "code",
      "source": [
        "second = first\n",
        "print(\"assigned second to first:\", first, second)"
      ],
      "metadata": {
        "id": "0wUOYNzA87kr"
      },
      "execution_count": null,
      "outputs": []
    },
    {
      "cell_type": "markdown",
      "source": [
        "#### Second try"
      ],
      "metadata": {
        "id": "VxOZGupY72xk"
      }
    },
    {
      "cell_type": "markdown",
      "source": [
        "##### Code for second try\n",
        "first = 8  \n",
        "second = \"alien\"  \n",
        "extra_variable = first  \n",
        "first = second  \n",
        "second = extra_variable  "
      ],
      "metadata": {
        "id": "ZSkANO7M9WCh"
      }
    },
    {
      "cell_type": "code",
      "source": [
        "first = 8\n",
        "second = \"alien\"\n",
        "extra_variable = first\n",
        "print(\"before any swapping:\", first, second, extra_variable)"
      ],
      "metadata": {
        "id": "wzON3Ype5LhU"
      },
      "execution_count": null,
      "outputs": []
    },
    {
      "cell_type": "code",
      "source": [
        "first = second\n",
        "print(\"assigned first to second:\", first, second, extra_variable)"
      ],
      "metadata": {
        "id": "MMonzySv9wUA"
      },
      "execution_count": null,
      "outputs": []
    },
    {
      "cell_type": "code",
      "source": [
        "second = extra_variable\n",
        "print(\"assigned second to extra_variable:\", first, second, extra_variable)"
      ],
      "metadata": {
        "id": "fwaE4TBs9v8z"
      },
      "execution_count": null,
      "outputs": []
    },
    {
      "cell_type": "markdown",
      "source": [
        "#### Third try"
      ],
      "metadata": {
        "id": "BKoe6M4x74iI"
      }
    },
    {
      "cell_type": "markdown",
      "source": [
        "##### Code for third try\n",
        "first = 8  \n",
        "second = \"alien\"  \n",
        "first, second = second, first"
      ],
      "metadata": {
        "id": "HQvjbrVX-7hb"
      }
    },
    {
      "cell_type": "code",
      "source": [
        "first = 8\n",
        "second = \"alien\"\n",
        "print(\"before any swapping:\", first, second)"
      ],
      "metadata": {
        "id": "o78f4stO_JQq"
      },
      "execution_count": null,
      "outputs": []
    },
    {
      "cell_type": "code",
      "source": [
        "first, second = second, first\n",
        "print(\"swapped assignments in one step:\", first, second)"
      ],
      "metadata": {
        "id": "WZN70Eu1_Mje"
      },
      "execution_count": null,
      "outputs": []
    },
    {
      "cell_type": "markdown",
      "source": [
        "##  **f-strings**"
      ],
      "metadata": {
        "id": "ajQs2FUl_rNs"
      }
    },
    {
      "cell_type": "markdown",
      "source": [
        "In addition to giving **print** multiple inputs for printing with spaces, you can use *formatted strings* or **f-strings**.\n",
        "\n",
        "An f-string has a \"f\" character before the pair of quotes defining your string. You can put any Python expression within curly braces inside the f-string's quotes to create dynamic content without operators."
      ],
      "metadata": {
        "id": "o6nrKZL1_yC4"
      }
    },
    {
      "cell_type": "code",
      "source": [
        "print(f'Well,{\" hello\" * 4} world!')"
      ],
      "metadata": {
        "id": "myDVorLGBSyA",
        "colab": {
          "base_uri": "https://localhost:8080/"
        },
        "outputId": "59032a06-0e19-4a5f-c4ad-88fcae25eb25"
      },
      "execution_count": null,
      "outputs": [
        {
          "output_type": "stream",
          "name": "stdout",
          "text": [
            "Well, hello hello hello hello world!\n"
          ]
        }
      ]
    },
    {
      "cell_type": "markdown",
      "source": [
        "## **User input**"
      ],
      "metadata": {
        "id": "M-vlanxwXpQV"
      }
    },
    {
      "cell_type": "markdown",
      "source": [
        "The *input* commnand allows you to collect information from a user. You can give input a string as a parameter and *input* will print the string, wait for input and store the information as a string."
      ],
      "metadata": {
        "id": "5muTefN5XuW1"
      }
    },
    {
      "cell_type": "code",
      "source": [
        "name = input(\"What is your name?\")"
      ],
      "metadata": {
        "colab": {
          "base_uri": "https://localhost:8080/"
        },
        "id": "p2MvoBj-Ytby",
        "outputId": "0d6838ee-2ce6-4578-89f8-c167f8dab1b9"
      },
      "execution_count": null,
      "outputs": [
        {
          "name": "stdout",
          "output_type": "stream",
          "text": [
            "What is your name?wpl_python\n"
          ]
        }
      ]
    },
    {
      "cell_type": "code",
      "source": [
        "print(\"Hi\", name)"
      ],
      "metadata": {
        "id": "i3cNSAy0Y32N",
        "colab": {
          "base_uri": "https://localhost:8080/"
        },
        "outputId": "6790732f-9c9c-453a-c682-cf3055030007"
      },
      "execution_count": null,
      "outputs": [
        {
          "output_type": "stream",
          "name": "stdout",
          "text": [
            "Hi wpl_python\n"
          ]
        }
      ]
    },
    {
      "cell_type": "markdown",
      "source": [
        "### Exercise"
      ],
      "metadata": {
        "id": "SjHofgytZZEj"
      }
    },
    {
      "cell_type": "markdown",
      "source": [
        "Use *input* to collect a \"secret word\".  \n",
        "Using *print* and a Math operator to convert the secret word into a hint.  \n",
        "Example:  \n",
        "if the secret word is \"python\", print _ _ _ _ _ _"
      ],
      "metadata": {
        "id": "BPy_1oJUZap2"
      }
    },
    {
      "cell_type": "markdown",
      "source": [
        "## **Logical conditions and Booleans**"
      ],
      "metadata": {
        "id": "aPYzphjQkVa-"
      }
    },
    {
      "cell_type": "markdown",
      "source": [
        "Decision making is an important part of programming. When we make decisions, we often look for a condition. When the condition can only be True or False, we call it a Boolean or logical condition.  \n",
        "\n",
        "| Condition    | action |\n",
        "| -------- | ------- |\n",
        "| If the traffic light is red | stop the car    |\n",
        "| If temperature of water is >212| water boils     |\n",
        "| If test score is < 50  | parents get concerned    |\n",
        "\n"
      ],
      "metadata": {
        "id": "o7BOga29kbZd"
      }
    },
    {
      "cell_type": "markdown",
      "source": [
        "We can use comparison operators to evaluate conditions:\n",
        "\n",
        "| Operator    | Description | Example |\n",
        "| -------- | ------- | ------- |\n",
        "| == | Equal | a == b |\n",
        "| != | Not Equal | a != b |\n",
        "| > | Greater than | a > b |\n",
        "| < | Less than | a < b |\n",
        "| >= | Greater than or equal to | a >= b |\n",
        "| <= | Less than or equal to | a <= b |"
      ],
      "metadata": {
        "id": "m_JonEq5k2nL"
      }
    },
    {
      "cell_type": "markdown",
      "source": [
        "Below is a simple example of how you might evaluate a traffic light:"
      ],
      "metadata": {
        "id": "0vhYRWha8cH1"
      }
    },
    {
      "cell_type": "code",
      "source": [
        "light = \"red\" # set the light variable to red\n",
        "stop_car = (light == \"red\") # this is true\n",
        "print(stop_car)"
      ],
      "metadata": {
        "colab": {
          "base_uri": "https://localhost:8080/"
        },
        "id": "yoCr-nSs-rWn",
        "outputId": "166c61c9-dd6e-442e-e458-6d01f74ed40c"
      },
      "execution_count": null,
      "outputs": [
        {
          "output_type": "stream",
          "name": "stdout",
          "text": [
            "True\n"
          ]
        }
      ]
    },
    {
      "cell_type": "code",
      "source": [
        "light = \"green\" # set the light variable to green\n",
        "stop_car = (light == \"red\") # this is not true\n",
        "print(stop_car)"
      ],
      "metadata": {
        "colab": {
          "base_uri": "https://localhost:8080/"
        },
        "id": "6YX-dXtatkoU",
        "outputId": "e72b0d48-4492-4061-fcb1-167a7b09528b"
      },
      "execution_count": null,
      "outputs": [
        {
          "output_type": "stream",
          "name": "stdout",
          "text": [
            "False\n"
          ]
        }
      ]
    },
    {
      "cell_type": "markdown",
      "source": [
        "Comparison operators for numbers work the way they do in math class"
      ],
      "metadata": {
        "id": "-_eEdd7j9ePb"
      }
    },
    {
      "cell_type": "code",
      "source": [
        "boiling_point = 212\n",
        "water_temp = 100\n",
        "is_boiling = (water_temp > boiling_point)\n",
        "print(is_boiling)"
      ],
      "metadata": {
        "colab": {
          "base_uri": "https://localhost:8080/"
        },
        "id": "bTswivFM9ngU",
        "outputId": "75ecf0c6-989b-4e6e-be42-2d63b8d12f2c"
      },
      "execution_count": null,
      "outputs": [
        {
          "output_type": "stream",
          "name": "stdout",
          "text": [
            "False\n"
          ]
        }
      ]
    },
    {
      "cell_type": "markdown",
      "source": [
        "Choosing a meaningful variable name, like boiling_point can help \"future you\" remember what the code is intended to do."
      ],
      "metadata": {
        "id": "Ef7kxNET989-"
      }
    },
    {
      "cell_type": "markdown",
      "source": [
        "If you compare two lists, it will compare the lists element by element (NOT the length of the lists)"
      ],
      "metadata": {
        "id": "R8bKwfPR9nRu"
      }
    },
    {
      "cell_type": "code",
      "source": [
        "group1 = [80, 24, 43]\n",
        "group2 = [80, 30]\n",
        "print(f'group1 is greater than group2: {group1 > group2}')\n",
        "\n",
        "print(f'The length of group1 is greater than group2: {len(group1) > len(group2)}')"
      ],
      "metadata": {
        "colab": {
          "base_uri": "https://localhost:8080/"
        },
        "id": "KmXLXfbT_AaI",
        "outputId": "141170b1-9eda-4b24-a1f8-36cc0a2397c2"
      },
      "execution_count": null,
      "outputs": [
        {
          "output_type": "stream",
          "name": "stdout",
          "text": [
            "group1 is greater than group2: False\n",
            "The length of group1 is greater than group2: True\n"
          ]
        }
      ]
    },
    {
      "cell_type": "markdown",
      "source": [
        "If you compare strings, they're evaluated alphabetically"
      ],
      "metadata": {
        "id": "wvLYGonRAFGl"
      }
    },
    {
      "cell_type": "code",
      "source": [
        "a = \"comparison\"\n",
        "b = \"compare\"\n",
        "print(a == b)     # False, they're not the same word\n",
        "print(a > b)     # True, \"comparison\" comes after \"compare\" in the dictionary\n",
        "print(a < b)     # False\n",
        "\n",
        "print(f'The length of a ({len(a)}) is less than the lenght of b ({len(b)}): {len(a) < len(b)}')     # False"
      ],
      "metadata": {
        "colab": {
          "base_uri": "https://localhost:8080/"
        },
        "id": "L-2gkiHIAHOA",
        "outputId": "a717d7bb-5d2e-4057-eb31-1a3c1eaa2817"
      },
      "execution_count": null,
      "outputs": [
        {
          "output_type": "stream",
          "name": "stdout",
          "text": [
            "False\n",
            "True\n",
            "False\n",
            "The length of a (10) is less than the lenght of b (7): False\n"
          ]
        }
      ]
    },
    {
      "cell_type": "markdown",
      "source": [
        "## **if** statements"
      ],
      "metadata": {
        "id": "bS0ooqEjOr_x"
      }
    },
    {
      "cell_type": "markdown",
      "source": [
        "Now that you know how to set up a logical condition, you can add decision making to control the flow of your Python code.  \n",
        "\n",
        "So far in our coding, our code statements are simple and only need one line. When Python code is more complicated, we use whitespace so that Python knows how the code is structured.\n",
        "\n",
        "An **if** statement will execute a block of code IF a logical condition is true.\n",
        "\n",
        "\n"
      ],
      "metadata": {
        "id": "OgpiIBsPO1Fn"
      }
    },
    {
      "cell_type": "code",
      "source": [
        "number = 10\n",
        "if number > 0:\n",
        "  print(\"This is a positive number\")\n",
        "  print(f\"The number is {number}\")"
      ],
      "metadata": {
        "colab": {
          "base_uri": "https://localhost:8080/"
        },
        "id": "ahad9iZIRGJj",
        "outputId": "ca04b2f2-1601-4ee1-de09-cc9873f107bd"
      },
      "execution_count": null,
      "outputs": [
        {
          "output_type": "stream",
          "name": "stdout",
          "text": [
            "This is a positive number\n",
            "The number is 10\n"
          ]
        }
      ]
    },
    {
      "cell_type": "markdown",
      "source": [
        "Notice the two print statements were indented, that tells Python they both \"belong\" to the if statement and should be printed if (number > 0) is true. Compare the indentation of the next two examples, run them and see how they behave differently:\n"
      ],
      "metadata": {
        "id": "_au4JflPPVJ2"
      }
    },
    {
      "cell_type": "code",
      "source": [
        " number = -7\n",
        "if number > 0:\n",
        "  print(\"This is a positive number\")\n",
        "  print(f\"The number is {number}\")"
      ],
      "metadata": {
        "id": "flHMP3JPRJEU"
      },
      "execution_count": null,
      "outputs": []
    },
    {
      "cell_type": "code",
      "source": [
        "number = -7\n",
        "if number > 0:\n",
        "  print(\"This is a positive number\")\n",
        "print(f\"The number is {number}\")"
      ],
      "metadata": {
        "colab": {
          "base_uri": "https://localhost:8080/"
        },
        "id": "Ms4S5v9QR439",
        "outputId": "2582e07d-0751-4cc8-c84b-b952f7b3d7ad"
      },
      "execution_count": null,
      "outputs": [
        {
          "output_type": "stream",
          "name": "stdout",
          "text": [
            "The number is -7\n"
          ]
        }
      ]
    },
    {
      "cell_type": "markdown",
      "source": [
        "We might want to do something different if the logical condition is false (in addition to what we do when it is true). We can use Python's **if...else** statement."
      ],
      "metadata": {
        "id": "6pOhq_teSQkY"
      }
    },
    {
      "cell_type": "code",
      "source": [
        "number = 10\n",
        "print(f\"The number is {number}\")\n",
        "if number > 0:\n",
        "  print(\"This is a positive number\")\n",
        "else:\n",
        "  print(\"This is a negative number\")\n"
      ],
      "metadata": {
        "colab": {
          "base_uri": "https://localhost:8080/"
        },
        "id": "c7_rr5NCSR8U",
        "outputId": "4deb8c7d-1f67-463e-ac70-6c7f4e2daa47"
      },
      "execution_count": null,
      "outputs": [
        {
          "output_type": "stream",
          "name": "stdout",
          "text": [
            "The number is 10\n",
            "This is a positive number\n"
          ]
        }
      ]
    },
    {
      "cell_type": "code",
      "source": [
        "number = -7\n",
        "print(f\"The number is {number}\")\n",
        "if number > 0:\n",
        "  print(\"This is a positive number\")\n",
        "else:\n",
        "  print(\"This is a negative number\")"
      ],
      "metadata": {
        "colab": {
          "base_uri": "https://localhost:8080/"
        },
        "id": "pdEy94UASzB3",
        "outputId": "4baa2b17-727f-4dbe-968d-cf2c247d529d"
      },
      "execution_count": null,
      "outputs": [
        {
          "output_type": "stream",
          "name": "stdout",
          "text": [
            "The number is -7\n",
            "This is a negative number\n"
          ]
        }
      ]
    },
    {
      "cell_type": "markdown",
      "source": [
        "### Exercise"
      ],
      "metadata": {
        "id": "gvElHGhRS1qI"
      }
    },
    {
      "cell_type": "markdown",
      "source": [
        "Remember the modulo operator (%)? It does division but only returns the remainder. Can you write code to use *if...else* and *modulo* to determine if a number is odd or even?"
      ],
      "metadata": {
        "id": "xsH3KeguTA6F"
      }
    },
    {
      "cell_type": "markdown",
      "source": [
        "## **while** loops"
      ],
      "metadata": {
        "id": "E-MKXka3WZ05"
      }
    },
    {
      "cell_type": "markdown",
      "source": [
        "**while** loops run a block of code until the condition is no longer true"
      ],
      "metadata": {
        "id": "plFy9CnxWdU0"
      }
    },
    {
      "cell_type": "code",
      "source": [
        "cake = 10\n",
        "people = 2\n",
        "while cake // people > 0:  # the // operator returns the divisor\n",
        "    print(f\"We can all have more cake - there are {cake} piece(s)\")\n",
        "    cake = cake - people\n",
        "\n",
        "print(f\"There isn't enough cake left for everyone. There are {cake} piece(s) of cake and {people} people\")"
      ],
      "metadata": {
        "colab": {
          "base_uri": "https://localhost:8080/"
        },
        "id": "MdaZ0WPuRQEc",
        "outputId": "80f18b41-866e-4db6-feef-37e1af35587d"
      },
      "execution_count": null,
      "outputs": [
        {
          "output_type": "stream",
          "name": "stdout",
          "text": [
            "We can all have more cake - there are 10 piece(s)\n",
            "We can all have more cake - there are 8 piece(s)\n",
            "We can all have more cake - there are 6 piece(s)\n",
            "We can all have more cake - there are 4 piece(s)\n",
            "We can all have more cake - there are 2 piece(s)\n",
            "There isn't enough cake left for everyone. There are 0 piece(s) of cake and 2 people\n"
          ]
        }
      ]
    },
    {
      "cell_type": "markdown",
      "source": [
        "## **Guess the number**"
      ],
      "metadata": {
        "id": "iR9ZIaiSM6op"
      }
    },
    {
      "cell_type": "code",
      "source": [
        "import random\n",
        "\n",
        "min_num = 1\n",
        "max_plus_one = 101\n",
        "the_number = random.randrange(min_num, max_plus_one)\n",
        "print(f\"Guess a number between {min_num} and {(max_plus_one -1)}.\")\n",
        "\n",
        "while True:\n",
        "    guess = int(input('Enter your guess : '))\n",
        "\n",
        "    if guess == the_number:\n",
        "        print(f'Correct! The number is {the_number}!!')\n",
        "        break\n",
        "    elif guess < the_number:\n",
        "        print(f'Your guess, {guess}, is lower than the number')\n",
        "\n",
        "    elif guess > the_number:\n",
        "        print(f'Your guess, {guess}, is higher than the number')"
      ],
      "metadata": {
        "id": "x6CzjodXHhO5"
      },
      "execution_count": null,
      "outputs": []
    },
    {
      "cell_type": "code",
      "source": [
        "import random\n",
        "\n",
        "min_num = 1\n",
        "max_plus_one = 101\n",
        "the_number = random.randrange(min_num, max_plus_one)\n",
        "chances = 7\n",
        "print(f\"Guess a number between {min_num} and {(max_plus_one -1)}.\\nYou have {chances} chances to guess the number. \")\n",
        "\n",
        "guesses = 0\n",
        "stumped = True\n",
        "\n",
        "while guesses < chances:\n",
        "\n",
        "    guesses += 1\n",
        "    guess = int(input('Enter your guess : '))\n",
        "\n",
        "    if guess == the_number:\n",
        "        print(f'Correct! The number is {the_number}!! You got it on attempt {guesses}')\n",
        "        stumped = False\n",
        "        break\n",
        "    elif guess < the_number:\n",
        "        print(f'Your guess, {guess}, is lower than the number')\n",
        "\n",
        "    elif guess > the_number:\n",
        "        print(f'Your guess, {guess}, is higher than the number')\n",
        "\n",
        "if stumped:\n",
        "    print(f'You ran out of chances. The number was {the_number}')"
      ],
      "metadata": {
        "id": "-ODWSwEqA6YD"
      },
      "execution_count": null,
      "outputs": []
    },
    {
      "cell_type": "markdown",
      "source": [
        "## **Lists**"
      ],
      "metadata": {
        "id": "bHc2jh7_BdW5"
      }
    },
    {
      "cell_type": "markdown",
      "source": [
        "What if you have a lot of strings or numbers to keep track of? In Python, you can store them as a list.  \n",
        "\n",
        "Think of a list as a container where you can put Python objects.\n",
        "\n",
        "You define a list with square brackets, elements in the list are separated by commas. (Assign your list to a variable in order to use it)"
      ],
      "metadata": {
        "id": "BNnPv4x9CHQ8"
      }
    },
    {
      "cell_type": "code",
      "source": [
        "foods = [\"pizza\", \"burger\", \"pasta\", \"nachos\", \"sushi\", \"cheese\"] # this is a list of strings\n",
        "print(foods)\n",
        "numbers = [1, 2, 3, 4, 5, 6, 7]                                   # this is a list of numbers\n",
        "print(numbers)\n",
        "mix = [\"pasta\", name, 5, \"cheese\", long_number]                   # this is a list with variables, numbers and strings\n",
        "print(mix)"
      ],
      "metadata": {
        "id": "Y5qsFm1TDcGE",
        "colab": {
          "base_uri": "https://localhost:8080/"
        },
        "outputId": "4ad5f3f0-03d8-425f-b9b2-35c701085f71"
      },
      "execution_count": null,
      "outputs": [
        {
          "output_type": "stream",
          "name": "stdout",
          "text": [
            "['pizza', 'burger', 'pasta', 'nachos', 'sushi', 'cheese']\n",
            "[1, 2, 3, 4, 5, 6, 7]\n",
            "['pasta', 'wpl_python', 5, 'cheese', 3.141592653589793]\n"
          ]
        }
      ]
    },
    {
      "cell_type": "markdown",
      "source": [
        "You can use the *len* function to count the number of items (or *elements*) in a list"
      ],
      "metadata": {
        "id": "1Cl_PEehDSSp"
      }
    },
    {
      "cell_type": "code",
      "source": [
        "print(len(foods))\n",
        "print(len(numbers))\n",
        "print(len(mix))"
      ],
      "metadata": {
        "id": "hGQ3SSTIEt_K",
        "colab": {
          "base_uri": "https://localhost:8080/"
        },
        "outputId": "31e8e0b2-f3a7-4bbb-bb7e-b4e58cbc6d76"
      },
      "execution_count": null,
      "outputs": [
        {
          "output_type": "stream",
          "name": "stdout",
          "text": [
            "6\n",
            "7\n",
            "5\n"
          ]
        }
      ]
    },
    {
      "cell_type": "markdown",
      "source": [
        "Each element has a **position index**. Python is *zero-indexed* so the first position has an index of zero."
      ],
      "metadata": {
        "id": "cBwtS830EyZV"
      }
    },
    {
      "cell_type": "code",
      "source": [
        "print(foods[0])\n",
        "print(numbers[0])\n",
        "print(mix[0])"
      ],
      "metadata": {
        "id": "9PeMmX_kFYK4",
        "colab": {
          "base_uri": "https://localhost:8080/"
        },
        "outputId": "c35a92c6-60e4-4700-9836-f7b04ec0cc1c"
      },
      "execution_count": null,
      "outputs": [
        {
          "output_type": "stream",
          "name": "stdout",
          "text": [
            "pizza\n",
            "1\n",
            "pasta\n"
          ]
        }
      ]
    },
    {
      "cell_type": "markdown",
      "source": [
        "![List_index.png](data:image/png;base64,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)\n",
        "\n"
      ],
      "metadata": {
        "id": "Mo6ZM7iJFzvX"
      }
    },
    {
      "cell_type": "markdown",
      "source": [
        "Using the following lists,  \n",
        "foods = [\"pizza\", \"burger\", \"pasta\", \"nachos\", \"sushi\", \"cheese\"]  \n",
        "numbers = [1, 2, 3, 4, 5, 6, 7]  \n",
        "mix = [\"pasta\", name, 5, \"cheese\", long_number]  \n",
        "\n",
        "predict the output for these list indices:"
      ],
      "metadata": {
        "id": "sq_EcVe1GS2C"
      }
    },
    {
      "cell_type": "code",
      "source": [
        "print(foods[4])"
      ],
      "metadata": {
        "colab": {
          "base_uri": "https://localhost:8080/"
        },
        "id": "ggB6XFBhHKgN",
        "outputId": "947dffc1-6b17-41b9-9ce1-12e5d06d327d"
      },
      "execution_count": null,
      "outputs": [
        {
          "output_type": "stream",
          "name": "stdout",
          "text": [
            "sushi\n"
          ]
        }
      ]
    },
    {
      "cell_type": "code",
      "source": [
        "print(foods[-2])"
      ],
      "metadata": {
        "colab": {
          "base_uri": "https://localhost:8080/"
        },
        "id": "93D6nNVKHjCD",
        "outputId": "f77ef4a0-d1a4-4dd6-9f23-a38affc14723"
      },
      "execution_count": null,
      "outputs": [
        {
          "output_type": "stream",
          "name": "stdout",
          "text": [
            "sushi\n"
          ]
        }
      ]
    },
    {
      "cell_type": "markdown",
      "source": [
        "You can change a list element by assigning a new value using its index. This does not change the length of the list"
      ],
      "metadata": {
        "id": "R4Va0On6Hpk0"
      }
    },
    {
      "cell_type": "code",
      "source": [
        "foods[4] = \"hot dog\"\n",
        "print(foods)"
      ],
      "metadata": {
        "colab": {
          "base_uri": "https://localhost:8080/"
        },
        "id": "i4EKNkGaH6wc",
        "outputId": "842559cb-d93d-44a2-eb04-ff9af91f5630"
      },
      "execution_count": null,
      "outputs": [
        {
          "output_type": "stream",
          "name": "stdout",
          "text": [
            "['pizza', 'burger', 'pasta', 'nachos', 'hot dog', 'cheese']\n"
          ]
        }
      ]
    },
    {
      "cell_type": "markdown",
      "source": [
        "Python lists have special programs (usually called **methods**) that are specific to list objects.   \n",
        "\n",
        "To add a new element to a list, you can use the **append** method. Because a method is specific to the object, you call the method with **dot notation**.\n",
        "\n",
        "Example: foods.append(\"bread\")\n",
        "\n",
        "Methods, like functions, expect inputs so the method name is followed by a set of parenthesis where you include your input."
      ],
      "metadata": {
        "id": "TDoLRE3qIMSc"
      }
    },
    {
      "cell_type": "code",
      "source": [
        "foods.append(\"bread\")\n",
        "print(foods)"
      ],
      "metadata": {
        "colab": {
          "base_uri": "https://localhost:8080/"
        },
        "id": "JM-tHrLLjDCM",
        "outputId": "937754f1-f05d-4453-cd02-337b91fde64c"
      },
      "execution_count": null,
      "outputs": [
        {
          "output_type": "stream",
          "name": "stdout",
          "text": [
            "['pizza', 'burger', 'pasta', 'nachos', 'hot dog', 'cheese', 'bread']\n"
          ]
        }
      ]
    },
    {
      "cell_type": "markdown",
      "source": [
        "Lists can also use the + and * operators."
      ],
      "metadata": {
        "id": "vK8oSU89jHI_"
      }
    },
    {
      "cell_type": "code",
      "source": [
        "odd = [1,3,5]\n",
        "even = [2,4,6]\n",
        "both = odd + even\n",
        "print(both)\n",
        "print(len(both))"
      ],
      "metadata": {
        "colab": {
          "base_uri": "https://localhost:8080/"
        },
        "id": "_D4tq1xGjp5G",
        "outputId": "4916ce41-8db6-44a0-fa04-236069f987e1"
      },
      "execution_count": null,
      "outputs": [
        {
          "output_type": "stream",
          "name": "stdout",
          "text": [
            "[1, 3, 5, 2, 4, 6]\n",
            "6\n"
          ]
        }
      ]
    },
    {
      "cell_type": "code",
      "source": [
        "points = [2] * 5\n",
        "print(points)\n",
        "print(len(points))"
      ],
      "metadata": {
        "colab": {
          "base_uri": "https://localhost:8080/"
        },
        "id": "h600FO0Ljdwa",
        "outputId": "903bc730-974a-4f89-9af5-1e1eb4c739e1"
      },
      "execution_count": null,
      "outputs": [
        {
          "output_type": "stream",
          "name": "stdout",
          "text": [
            "[2, 2, 2, 2, 2]\n",
            "5\n"
          ]
        }
      ]
    },
    {
      "cell_type": "code",
      "source": [
        "sounds = [ \"bing\", \"bong\"] * 3\n",
        "print(sounds)\n",
        "print(len(sounds))"
      ],
      "metadata": {
        "colab": {
          "base_uri": "https://localhost:8080/"
        },
        "id": "1bPIUfypjmdz",
        "outputId": "61bbc27d-0030-41af-f4b2-997d5b65bc83"
      },
      "execution_count": null,
      "outputs": [
        {
          "output_type": "stream",
          "name": "stdout",
          "text": [
            "['bing', 'bong', 'bing', 'bong', 'bing', 'bong']\n",
            "6\n"
          ]
        }
      ]
    },
    {
      "cell_type": "markdown",
      "source": [
        "### Exercise:"
      ],
      "metadata": {
        "id": "BtYCQKCPkGO4"
      }
    },
    {
      "cell_type": "markdown",
      "source": [
        "If you have these lists,  \n",
        "foods = ['pizza', 'burger', 'pasta', 'nachos', 'hot dog', 'cheese', 'bread']  \n",
        "numbers = [1, 2, 3, 4, 5, 6, 7]     \n",
        "\n",
        "combined = foods + numbers\n",
        "\n",
        "What would you expect in the list called *combined*?"
      ],
      "metadata": {
        "id": "niksSWknkqlZ"
      }
    },
    {
      "cell_type": "code",
      "source": [],
      "metadata": {
        "id": "-T-kx1XjoLjL"
      },
      "execution_count": null,
      "outputs": []
    },
    {
      "cell_type": "markdown",
      "source": [
        "How would you add the string \"fruit\" to *combined*?"
      ],
      "metadata": {
        "id": "p1XVki_cnSAk"
      }
    },
    {
      "cell_type": "code",
      "source": [],
      "metadata": {
        "id": "cZNPaOy7oMe2"
      },
      "execution_count": null,
      "outputs": []
    },
    {
      "cell_type": "markdown",
      "source": [
        "Membership operators\n",
        "\n",
        "| Operator    | Description | Example |\n",
        "| -------- | ------- | ------- |\n",
        "| in | Returns True if the value exists in the list | a in list |\n",
        "| not in | Returns True if the value does not exists in the list | a not in list |"
      ],
      "metadata": {
        "id": "HCLWE2a9vV4g"
      }
    },
    {
      "cell_type": "code",
      "source": [
        "foods = [\"pizza\", \"burger\", \"pasta\", \"nachos\", \"sushi\", \"cheese\"]\n",
        "favorite = \"candy\"\n",
        "found = favorite in foods\n",
        "print(found)"
      ],
      "metadata": {
        "colab": {
          "base_uri": "https://localhost:8080/"
        },
        "id": "ivaKSAdGAK8w",
        "outputId": "90548091-113f-4fb2-a455-b94d3a5a986e"
      },
      "execution_count": null,
      "outputs": [
        {
          "output_type": "stream",
          "name": "stdout",
          "text": [
            "False\n"
          ]
        }
      ]
    },
    {
      "cell_type": "markdown",
      "source": [
        "## **for** loops\n"
      ],
      "metadata": {
        "id": "rTLl822yTiJi"
      }
    },
    {
      "cell_type": "markdown",
      "source": [
        "Variables that have multiple items are known as **iterable** variables. Lists and strings are both iterable variables.\n",
        "\n",
        "foods = [\"pizza\", \"burger\", \"pasta\", \"nachos\", \"sushi\", \"cheese\"] # example of a list variable\n",
        "\n",
        "favorite = \"candy\" # example of a string variable\n",
        "\n",
        "\n"
      ],
      "metadata": {
        "id": "bCzQ4pWCVkLt"
      }
    },
    {
      "cell_type": "markdown",
      "source": [
        "Iterable variables have a length - the total number of elements in the variable"
      ],
      "metadata": {
        "id": "ugVqBM2WNi_f"
      }
    },
    {
      "cell_type": "code",
      "source": [
        "foods = [\"pizza\", \"burger\", \"pasta\", \"nachos\", \"sushi\", \"cheese\"]\n",
        "len(foods)"
      ],
      "metadata": {
        "colab": {
          "base_uri": "https://localhost:8080/"
        },
        "id": "AWhoHIhbOMwy",
        "outputId": "506a90a7-f69a-4fae-d062-576c266c0e1b"
      },
      "execution_count": null,
      "outputs": [
        {
          "output_type": "execute_result",
          "data": {
            "text/plain": [
              "6"
            ]
          },
          "metadata": {},
          "execution_count": 51
        }
      ]
    },
    {
      "cell_type": "markdown",
      "source": [
        "What do you think the elements of the string variable favorite would be?"
      ],
      "metadata": {
        "id": "fl4gPEqvOdsB"
      }
    },
    {
      "cell_type": "code",
      "source": [
        "favorite = \"candy\"\n",
        "len(favorite)"
      ],
      "metadata": {
        "colab": {
          "base_uri": "https://localhost:8080/"
        },
        "id": "Aj2_mNHJOPal",
        "outputId": "beda9262-e067-4d84-96d6-9a628d08d853"
      },
      "execution_count": null,
      "outputs": [
        {
          "output_type": "execute_result",
          "data": {
            "text/plain": [
              "5"
            ]
          },
          "metadata": {},
          "execution_count": 52
        }
      ]
    },
    {
      "cell_type": "markdown",
      "source": [
        "Each element in the list or string variable has an **index**, starting with position zero.  "
      ],
      "metadata": {
        "id": "5K48pl7oOX2I"
      }
    },
    {
      "cell_type": "code",
      "source": [
        "foods[0]"
      ],
      "metadata": {
        "colab": {
          "base_uri": "https://localhost:8080/",
          "height": 35
        },
        "id": "VCTTivQqPWHi",
        "outputId": "32764e60-b967-4480-81c7-b97dd7694fa0"
      },
      "execution_count": null,
      "outputs": [
        {
          "output_type": "execute_result",
          "data": {
            "text/plain": [
              "'pizza'"
            ],
            "application/vnd.google.colaboratory.intrinsic+json": {
              "type": "string"
            }
          },
          "metadata": {},
          "execution_count": 53
        }
      ]
    },
    {
      "cell_type": "code",
      "source": [
        "favorite[0]"
      ],
      "metadata": {
        "colab": {
          "base_uri": "https://localhost:8080/",
          "height": 35
        },
        "id": "cWkK-KF9PaNN",
        "outputId": "8584b973-8278-4117-ebec-bc06d1629dcd"
      },
      "execution_count": null,
      "outputs": [
        {
          "output_type": "execute_result",
          "data": {
            "text/plain": [
              "'c'"
            ],
            "application/vnd.google.colaboratory.intrinsic+json": {
              "type": "string"
            }
          },
          "metadata": {},
          "execution_count": 54
        }
      ]
    },
    {
      "cell_type": "markdown",
      "source": [
        "You can use the \"in\"/\"not in\" operators to check if a value is in the variable."
      ],
      "metadata": {
        "id": "Ro0NzDvSPbzD"
      }
    },
    {
      "cell_type": "code",
      "source": [
        "\"sushi\" in foods"
      ],
      "metadata": {
        "colab": {
          "base_uri": "https://localhost:8080/"
        },
        "id": "MxFTyb_oPoR5",
        "outputId": "35b314fd-62ef-4f46-9131-007c3744564b"
      },
      "execution_count": null,
      "outputs": [
        {
          "output_type": "execute_result",
          "data": {
            "text/plain": [
              "True"
            ]
          },
          "metadata": {},
          "execution_count": 55
        }
      ]
    },
    {
      "cell_type": "code",
      "source": [
        "\"lego\" in foods"
      ],
      "metadata": {
        "colab": {
          "base_uri": "https://localhost:8080/"
        },
        "id": "7_NoO7c2Ps7k",
        "outputId": "4cee8af0-0774-4c26-c825-e3c6e7d00b54"
      },
      "execution_count": null,
      "outputs": [
        {
          "output_type": "execute_result",
          "data": {
            "text/plain": [
              "False"
            ]
          },
          "metadata": {},
          "execution_count": 56
        }
      ]
    },
    {
      "cell_type": "code",
      "source": [
        "\"d\" in favorite"
      ],
      "metadata": {
        "colab": {
          "base_uri": "https://localhost:8080/"
        },
        "id": "QI1bx6_ZPw6L",
        "outputId": "abf5cf12-ff3e-42b5-a8a0-237e6cd1eeea"
      },
      "execution_count": null,
      "outputs": [
        {
          "output_type": "execute_result",
          "data": {
            "text/plain": [
              "True"
            ]
          },
          "metadata": {},
          "execution_count": 57
        }
      ]
    },
    {
      "cell_type": "code",
      "source": [
        "\"z\" in favorite"
      ],
      "metadata": {
        "colab": {
          "base_uri": "https://localhost:8080/"
        },
        "id": "NaY1kkEwPzar",
        "outputId": "37ada015-7a88-4c17-b3cf-5b44826e93d1"
      },
      "execution_count": null,
      "outputs": [
        {
          "output_type": "execute_result",
          "data": {
            "text/plain": [
              "False"
            ]
          },
          "metadata": {},
          "execution_count": 58
        }
      ]
    },
    {
      "cell_type": "markdown",
      "source": [
        "Iterable variables allow you to call up each element one at a time (aka. iterate over the elements) until the elements are all used up.\n",
        "\n",
        "Here's what a **for** loop statement looks like:  \n",
        "\n",
        "for &lt;element variable&gt; in &lt;iterable variable&gt;:  \n",
        ">    indented block with code that is run for every element in the iterable variable ## standard indentation is 4 spaces\n",
        "\n",
        "\n"
      ],
      "metadata": {
        "id": "rQrUHe8YP4qL"
      }
    },
    {
      "cell_type": "markdown",
      "source": [
        "![list_iteration.png](data:image/png;base64,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)"
      ],
      "metadata": {
        "id": "nV3yp0sEn23a"
      }
    },
    {
      "cell_type": "code",
      "source": [
        "foods = [\"pizza\", \"burger\", \"pasta\", \"nachos\", \"sushi\", \"cheese\"]\n",
        "for food in foods:\n",
        "  print(food)"
      ],
      "metadata": {
        "colab": {
          "base_uri": "https://localhost:8080/"
        },
        "id": "03Ly9HVddbcg",
        "outputId": "0458cf58-6e84-4f26-ef73-387e527713b5"
      },
      "execution_count": null,
      "outputs": [
        {
          "output_type": "stream",
          "name": "stdout",
          "text": [
            "pizza\n",
            "burger\n",
            "pasta\n",
            "nachos\n",
            "sushi\n",
            "cheese\n"
          ]
        }
      ]
    },
    {
      "cell_type": "markdown",
      "source": [
        "The element variable can be any name you choose, just make sure that is the variable you use in the code block of the **for** loop."
      ],
      "metadata": {
        "id": "CS__rnS4d__b"
      }
    },
    {
      "cell_type": "code",
      "source": [
        "foods = [\"pizza\", \"burger\", \"pasta\", \"nachos\", \"sushi\", \"cheese\"]\n",
        "for cat in foods:\n",
        "  print(food) # continues printing \"cheese\" because that was the last value assigned to **food**"
      ],
      "metadata": {
        "colab": {
          "base_uri": "https://localhost:8080/"
        },
        "id": "MDUenD_ueQ7E",
        "outputId": "abbcd892-deb6-4724-f7d1-06c249884a3f"
      },
      "execution_count": null,
      "outputs": [
        {
          "output_type": "stream",
          "name": "stdout",
          "text": [
            "cheese\n",
            "cheese\n",
            "cheese\n",
            "cheese\n",
            "cheese\n",
            "cheese\n"
          ]
        }
      ]
    },
    {
      "cell_type": "code",
      "source": [
        "foods = [\"pizza\", \"burger\", \"pasta\", \"nachos\", \"sushi\", \"cheese\"]\n",
        "for cat in foods:\n",
        "  print(cat)"
      ],
      "metadata": {
        "colab": {
          "base_uri": "https://localhost:8080/"
        },
        "id": "RhgAtY3peeoU",
        "outputId": "427d0115-624a-4786-eaa1-6fca55883831"
      },
      "execution_count": null,
      "outputs": [
        {
          "output_type": "stream",
          "name": "stdout",
          "text": [
            "pizza\n",
            "burger\n",
            "pasta\n",
            "nachos\n",
            "sushi\n",
            "cheese\n"
          ]
        }
      ]
    },
    {
      "cell_type": "markdown",
      "source": [
        "![string_iteration.png](data:image/png;base64,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)"
      ],
      "metadata": {
        "id": "J-smuvvuegxZ"
      }
    },
    {
      "cell_type": "markdown",
      "source": [
        "## **range**"
      ],
      "metadata": {
        "id": "9XKAXv9efPVv"
      }
    },
    {
      "cell_type": "markdown",
      "source": [
        "Often we want to repeat an action a fixed number of times. Python gives us the **range** function to generate a sequence of numbers.\n",
        "\n",
        "**range** starts at zero by default and goes up to, but not including the specified number - similar to list or string indices.\n",
        "\n",
        "One common use for the **range** function is to use it in a **for** loop:"
      ],
      "metadata": {
        "id": "qPMOtTXcfY6V"
      }
    },
    {
      "cell_type": "code",
      "source": [
        "for i in range(6):\n",
        "  print(i)"
      ],
      "metadata": {
        "colab": {
          "base_uri": "https://localhost:8080/"
        },
        "id": "C_mmZ2E49P0j",
        "outputId": "5951be23-a01f-4ec8-c0c1-401c1e3acc94"
      },
      "execution_count": null,
      "outputs": [
        {
          "output_type": "stream",
          "name": "stdout",
          "text": [
            "0\n",
            "1\n",
            "2\n",
            "3\n",
            "4\n",
            "5\n"
          ]
        }
      ]
    },
    {
      "cell_type": "code",
      "source": [
        "sum = 0\n",
        "for i in range(6):\n",
        "    sum = sum + i\n",
        "    print(f'Adding {i} to {sum}')\n",
        "\n",
        "print(f'Final sum: {sum}')\n"
      ],
      "metadata": {
        "colab": {
          "base_uri": "https://localhost:8080/"
        },
        "id": "2vC2_tTn_Oc6",
        "outputId": "627f48fd-7d2b-462a-d920-2b26169fdfb4"
      },
      "execution_count": null,
      "outputs": [
        {
          "output_type": "stream",
          "name": "stdout",
          "text": [
            "Adding 0 to 0\n",
            "Adding 1 to 1\n",
            "Adding 2 to 3\n",
            "Adding 3 to 6\n",
            "Adding 4 to 10\n",
            "Adding 5 to 15\n",
            "Final sum: 15\n"
          ]
        }
      ]
    },
    {
      "cell_type": "markdown",
      "source": [
        "Or you can use the length of a list with **range** to work with the index values of the list.\n",
        "\n",
        "Example:\n"
      ],
      "metadata": {
        "id": "mK63jYgM9EBy"
      }
    },
    {
      "cell_type": "code",
      "source": [
        "foods = [\"pizza\", \"burger\", \"pasta\", \"nachos\", \"sushi\", \"cheese\"]\n",
        "for i in range(len(foods)):\n",
        "  print(foods[i])"
      ],
      "metadata": {
        "colab": {
          "base_uri": "https://localhost:8080/"
        },
        "id": "cxbD7m6v-pSc",
        "outputId": "cbb48028-ce01-4b13-e3d9-ab8795f40dbb"
      },
      "execution_count": null,
      "outputs": [
        {
          "output_type": "stream",
          "name": "stdout",
          "text": [
            "pizza\n",
            "burger\n",
            "pasta\n",
            "nachos\n",
            "sushi\n",
            "cheese\n"
          ]
        }
      ]
    },
    {
      "cell_type": "code",
      "source": [
        "range_example = range(6)\n",
        "range_example"
      ],
      "metadata": {
        "colab": {
          "base_uri": "https://localhost:8080/"
        },
        "id": "YNyPQ_qVgWaV",
        "outputId": "3186d5da-db50-4473-c8f4-0ae61495c7e1"
      },
      "execution_count": null,
      "outputs": [
        {
          "output_type": "execute_result",
          "data": {
            "text/plain": [
              "range(0, 6)"
            ]
          },
          "metadata": {},
          "execution_count": 65
        }
      ]
    },
    {
      "cell_type": "markdown",
      "source": [
        "range(start, stop, step)  \n",
        "default start = 0  \n",
        "default step = 1  \n",
        "\n",
        "stop = 6  \n",
        "range(stop) = range(0, stop, 1)"
      ],
      "metadata": {
        "id": "KLkqLi0fgWr_"
      }
    },
    {
      "cell_type": "code",
      "source": [
        "for x in range(0,10,2):\n",
        "  print(x)"
      ],
      "metadata": {
        "colab": {
          "base_uri": "https://localhost:8080/"
        },
        "id": "Tz6QUboqgv_k",
        "outputId": "9009468b-06f7-4b25-cb87-9eca3bc7562b"
      },
      "execution_count": null,
      "outputs": [
        {
          "output_type": "stream",
          "name": "stdout",
          "text": [
            "0\n",
            "2\n",
            "4\n",
            "6\n",
            "8\n"
          ]
        }
      ]
    },
    {
      "cell_type": "markdown",
      "source": [
        "![range_iteration.png](data:image/png;base64,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)"
      ],
      "metadata": {
        "id": "ly55RMw9_CMl"
      }
    },
    {
      "cell_type": "markdown",
      "source": [
        "## **Functions**"
      ],
      "metadata": {
        "id": "YgARZwP8Mu57"
      }
    },
    {
      "cell_type": "markdown",
      "source": [
        "We've learned about built-in functions like **print**, **len** and **range**. In Python, you can also write your own functions, this is useful when you have a specific task you might want to use repeatedly.  \n",
        "\n",
        "Here's roughly how it looks when you define your own function:  \n",
        "def function_name(parameters):\n",
        "> code to be run when the function is called  \n",
        "> return result"
      ],
      "metadata": {
        "id": "QD4AZTJX_64P"
      }
    },
    {
      "cell_type": "markdown",
      "source": [
        "A function statement starts with the keyword **def**.  \n",
        "The function name should be lowercase with words separated by underscores.  \n",
        "The function name is followed by parameters listed within parentheses. The function can use *input parameters* and with the keyword **return** gives you an output for the function.\n",
        "\n",
        "Here's one way to make a salad:  \n",
        "Step 1: slice tomatoes  \n",
        "Step 2: mix oil and vinegar to make a dressing  \n",
        "Step 3: toss the greens and sliced tomatoes with the dressing  \n",
        "\n",
        "\n",
        "---\n",
        "\n",
        "\n",
        "\n",
        "def make_salad(tomato, greens, oil, vinegar):  \n",
        ">  sliced_tomato = cut(tomato)  \n",
        ">  dressing = mix(oil, vinegar)  \n",
        ">  salad = toss(sliced_tomato, greens, dressing)  \n",
        ">  return salad  \n",
        "\n",
        "salad = make_salad(\"beefsteak tomatoes\", \"spinach\", \"olive oil\", \"balsamic vinegar\")\n",
        "\n",
        "\n",
        "\n"
      ],
      "metadata": {
        "id": "yfV8vftaASH1"
      }
    },
    {
      "cell_type": "markdown",
      "source": [
        "### A function with no parameters and returns no result\n"
      ],
      "metadata": {
        "id": "t-mKSSvbBuXc"
      }
    },
    {
      "cell_type": "code",
      "source": [
        "def hello():\n",
        "  print(\"Hello World\")\n",
        "\n",
        "hello()"
      ],
      "metadata": {
        "colab": {
          "base_uri": "https://localhost:8080/"
        },
        "id": "zz6SgfWAEo3v",
        "outputId": "2aa90c84-f4d5-4f28-8f18-28b6136e5c3d"
      },
      "execution_count": null,
      "outputs": [
        {
          "output_type": "stream",
          "name": "stdout",
          "text": [
            "Hello World\n"
          ]
        }
      ]
    },
    {
      "cell_type": "code",
      "source": [
        "result = hello()"
      ],
      "metadata": {
        "colab": {
          "base_uri": "https://localhost:8080/"
        },
        "id": "2hr9jQ-EEuHz",
        "outputId": "5cf1a236-5856-4c17-c8fb-82830b27d938"
      },
      "execution_count": null,
      "outputs": [
        {
          "output_type": "stream",
          "name": "stdout",
          "text": [
            "Hello World\n"
          ]
        }
      ]
    },
    {
      "cell_type": "code",
      "source": [
        "print(result)"
      ],
      "metadata": {
        "colab": {
          "base_uri": "https://localhost:8080/"
        },
        "id": "_5c9Fzz3ExmG",
        "outputId": "36904c15-08cb-45d7-f5de-4e87c5b13362"
      },
      "execution_count": null,
      "outputs": [
        {
          "output_type": "stream",
          "name": "stdout",
          "text": [
            "None\n"
          ]
        }
      ]
    },
    {
      "cell_type": "markdown",
      "source": [
        "### A function with no parameters, returns result\n"
      ],
      "metadata": {
        "id": "euzZhRDvFLwY"
      }
    },
    {
      "cell_type": "code",
      "source": [
        "def hello_v2():\n",
        "  print(\"Hello World\")\n",
        "  return(\"I said Hello World\")\n",
        "\n",
        "result_v2 = hello_v2()\n",
        "print(result_v2)"
      ],
      "metadata": {
        "colab": {
          "base_uri": "https://localhost:8080/"
        },
        "id": "hN7PL4RVEzBh",
        "outputId": "27759bee-c430-4c91-984a-f55521fe4681"
      },
      "execution_count": null,
      "outputs": [
        {
          "output_type": "stream",
          "name": "stdout",
          "text": [
            "Hello World\n",
            "I said Hello World\n"
          ]
        }
      ]
    },
    {
      "cell_type": "code",
      "source": [
        "result_v2"
      ],
      "metadata": {
        "colab": {
          "base_uri": "https://localhost:8080/",
          "height": 35
        },
        "id": "t9ZCuBQgFV7M",
        "outputId": "4ca59176-ebfe-4a00-cb3e-1dc1e4d7e921"
      },
      "execution_count": null,
      "outputs": [
        {
          "output_type": "execute_result",
          "data": {
            "text/plain": [
              "'I said Hello World'"
            ],
            "application/vnd.google.colaboratory.intrinsic+json": {
              "type": "string"
            }
          },
          "metadata": {},
          "execution_count": 71
        }
      ]
    },
    {
      "cell_type": "markdown",
      "source": [
        "### A function with one parameter, returns no result\n",
        "\n"
      ],
      "metadata": {
        "id": "vJg8XdxlFYny"
      }
    },
    {
      "cell_type": "code",
      "source": [
        "def odd_even(num):\n",
        "    if num % 2 == 1:\n",
        "        print(num, \"is an odd number\")\n",
        "    else:\n",
        "        print(num, \"is an even number\")\n",
        "\n",
        "odd_even(4)"
      ],
      "metadata": {
        "colab": {
          "base_uri": "https://localhost:8080/"
        },
        "id": "oAcC2GTYGeJ7",
        "outputId": "4a36d9c4-65c4-43d7-81cc-ecb03e622215"
      },
      "execution_count": null,
      "outputs": [
        {
          "output_type": "stream",
          "name": "stdout",
          "text": [
            "4 is an even number\n"
          ]
        }
      ]
    },
    {
      "cell_type": "markdown",
      "source": [
        "### A function with one parameter, returns result\n"
      ],
      "metadata": {
        "id": "4WDY2rfpGooh"
      }
    },
    {
      "cell_type": "code",
      "source": [
        "def odd_even(num):\n",
        "    if num % 2 == 1:\n",
        "        print(num, \"is an odd number\")\n",
        "        result = \"odd\"\n",
        "    else:\n",
        "        print(num, \"is an even number\")\n",
        "        result = \"even\"\n",
        "    return result\n",
        "\n",
        "\n",
        "outcome = odd_even(5)\n",
        "print(outcome)"
      ],
      "metadata": {
        "colab": {
          "base_uri": "https://localhost:8080/"
        },
        "id": "65DmWAU7HHNh",
        "outputId": "093ff9da-fede-4aab-c1b4-77b773eb0560"
      },
      "execution_count": null,
      "outputs": [
        {
          "output_type": "stream",
          "name": "stdout",
          "text": [
            "5 is an odd number\n",
            "odd\n"
          ]
        }
      ]
    },
    {
      "cell_type": "markdown",
      "source": [
        "A function can have many return statements. When a return statement is executed, the function ends."
      ],
      "metadata": {
        "id": "btqs7hMfHg_F"
      }
    },
    {
      "cell_type": "code",
      "source": [
        "def contains(list, target):\n",
        "  for element in list:\n",
        "    print(f'checking {element}')\n",
        "    if element == target:\n",
        "      return True\n",
        "  return False\n",
        "\n",
        "\n",
        "foods = [\"pizza\", \"burger\", \"pasta\", \"nachos\", \"sushi\", \"cheese\"]\n",
        "found = contains(foods, \"pasta\")\n",
        "print(found)"
      ],
      "metadata": {
        "colab": {
          "base_uri": "https://localhost:8080/"
        },
        "id": "akDBfuw4IBx_",
        "outputId": "463b6e97-6bd5-4830-a877-07bddec37e91"
      },
      "execution_count": null,
      "outputs": [
        {
          "output_type": "stream",
          "name": "stdout",
          "text": [
            "checking pizza\n",
            "checking burger\n",
            "checking pasta\n",
            "True\n"
          ]
        }
      ]
    },
    {
      "cell_type": "markdown",
      "source": [
        "## **Guess the word**"
      ],
      "metadata": {
        "id": "7ptmlMLoNFyL"
      }
    },
    {
      "cell_type": "code",
      "source": [
        "import random\n",
        "\n",
        "def update_guess(current_guess, letter, position):\n",
        "    new_guess = []\n",
        "    actual_position = ((position + 1) * 2) - 2\n",
        "    for index,char in enumerate(current_guess):\n",
        "        if index == actual_position:\n",
        "            new_guess.append(letter)\n",
        "        else:\n",
        "            new_guess.append(char)\n",
        "    return \"\".join(new_guess)\n",
        "\n",
        "\n",
        "words = [\"python\", \"developer\", \"coding\", \"challenge\"]\n",
        "word = random.choice(words)\n",
        "guessed = \"_ \" * len(word)\n",
        "\n",
        "while \"_\" in guessed:\n",
        "    print(f\"Word: {guessed}\")\n",
        "    guess = input(\"Guess a letter: \")\n",
        "    if guess in word:\n",
        "        for i in range(len(word)):\n",
        "            if word[i] == guess:\n",
        "                guessed = update_guess(guessed, word[i], i)\n",
        "\n",
        "if \"_\" not in guessed:\n",
        "    print(\"Congrats! You found the word:\", word)"
      ],
      "metadata": {
        "id": "bTGK6i4hNxlk"
      },
      "execution_count": null,
      "outputs": []
    },
    {
      "cell_type": "code",
      "source": [
        "import random\n",
        "\n",
        "def update_guess(current_guess, letter, position):\n",
        "    new_guess = []\n",
        "    actual_position = ((position + 1) * 2) - 2\n",
        "    for index,char in enumerate(current_guess):\n",
        "        if index == actual_position:\n",
        "            new_guess.append(letter)\n",
        "        else:\n",
        "            new_guess.append(char)\n",
        "    return \"\".join(new_guess)\n",
        "\n",
        "\n",
        "words = [\"python\", \"developer\", \"coding\", \"challenge\"]\n",
        "word = random.choice(words)\n",
        "guessed = \"_ \" * len(word)\n",
        "attempts = 5\n",
        "\n",
        "while attempts > 0 and \"_\" in guessed:\n",
        "    print(f\"Word: {guessed}\")\n",
        "    guess = input(\"Guess a letter: \")\n",
        "    if guess in word:\n",
        "        for i in range(len(word)):\n",
        "            if word[i] == guess:\n",
        "                guessed = update_guess(guessed, word[i], i)\n",
        "    else:\n",
        "        attempts -= 1\n",
        "        print(f\"Incorrect! {attempts} attempts left.\")\n",
        "\n",
        "if \"_\" not in guessed:\n",
        "    print(\"Congrats! You found the word:\", word)\n",
        "else:\n",
        "    print(\"Game over! The word was:\", word)"
      ],
      "metadata": {
        "id": "6ngSoEJuNIpl"
      },
      "execution_count": null,
      "outputs": []
    },
    {
      "cell_type": "code",
      "source": [
        "import random\n",
        "\n",
        "def print_hangman(stage):\n",
        "    print(' --- ')\n",
        "    print('|   | ')\n",
        "    if stage <= 4:\n",
        "        print('|  (_)')\n",
        "    else:\n",
        "        print('| ')\n",
        "    if stage <= 2:\n",
        "        print(r'|  \\|/')\n",
        "    elif stage <= 3:\n",
        "        print('|   |')\n",
        "    else:\n",
        "        print('|')\n",
        "    if stage <= 1:\n",
        "        print('|   |')\n",
        "    else:\n",
        "        print('|')\n",
        "    if stage <= 0:\n",
        "        print(r'|  / \\ ')\n",
        "    print('|')\n",
        "    print('_________')\n",
        "\n",
        "def update_guess(current_guess, letter, position):\n",
        "    new_guess = []\n",
        "    actual_position = ((position + 1) * 2) - 2\n",
        "    for index,char in enumerate(current_guess):\n",
        "        if index == actual_position:\n",
        "            new_guess.append(letter)\n",
        "        else:\n",
        "            new_guess.append(char)\n",
        "    return \"\".join(new_guess)\n",
        "\n",
        "\n",
        "words = [\"python\", \"developer\", \"coding\", \"challenge\"]\n",
        "word = random.choice(words)\n",
        "guessed = \"_ \" * len(word)\n",
        "attempts = 5\n",
        "\n",
        "while attempts > 0 and \"_\" in guessed:\n",
        "    print_hangman(attempts)\n",
        "    print(f\"Word: {guessed}\")\n",
        "    guess = input(\"Guess a letter: \")\n",
        "    if guess in word:\n",
        "        for i in range(len(word)):\n",
        "            if word[i] == guess:\n",
        "                guessed = update_guess(guessed, word[i], i)\n",
        "    else:\n",
        "        attempts -= 1\n",
        "        print(f\"Incorrect! {attempts} attempts left.\")\n",
        "\n",
        "if \"_\" not in guessed:\n",
        "    print(\"Congrats! You found the word:\", word)\n",
        "else:\n",
        "    print_hangman(attempts)\n",
        "    print(\"Game over! The word was:\", word)"
      ],
      "metadata": {
        "id": "UqF-Jg0VNJLL"
      },
      "execution_count": null,
      "outputs": []
    },
    {
      "cell_type": "markdown",
      "source": [
        "## **Boolean operators**"
      ],
      "metadata": {
        "id": "iKLnEK5UTi18"
      }
    },
    {
      "cell_type": "markdown",
      "source": [
        "Boolean operators\n",
        "\n",
        "| Operator    | Description | Example |\n",
        "| -------- | ------- | ------- |\n",
        "| and | True if both logical conditions are true, otherwise False | age > 7 and height > 44 |\n",
        "| or | True if one of the logical conditions is true, False if both are false | height > 44 or companion > 14 |\n",
        "| not | Flips the result, False if the result is true of True if results is false | not allowed |\n",
        "\n",
        "| First condition    | Second condition | and Result | or Result\n",
        "| -------- | ------- | ------- | ------- |\n",
        "| True | True | True | True |\n",
        "| True | False | False | True |\n",
        "| False | True | False | True |\n",
        "| False | False | False | False |"
      ],
      "metadata": {
        "id": "F5YlGJQpAK8w"
      }
    },
    {
      "cell_type": "code",
      "source": [
        "height_requirement = 44\n",
        "age_requirement = 7\n",
        "companion_age_requirement = 14\n",
        "\n",
        "age = 6\n",
        "height = 48\n",
        "companion = 30\n",
        "\n",
        "allowed = (age >= age_requirement) and (height > height_requirement )\n",
        "print(\"age:\", age, \"height:\", height)\n",
        "print(allowed)\n",
        "\n",
        "allowed = (height > height_requirement ) or (companion >= companion_age_requirement)\n",
        "print(\"height:\", height, \"companion:\", companion)\n",
        "print(allowed)\n",
        "\n",
        "opposite = not allowed\n",
        "print(\"opposite:\", opposite)"
      ],
      "metadata": {
        "id": "2UHEkiOLB4MV"
      },
      "execution_count": null,
      "outputs": []
    },
    {
      "cell_type": "markdown",
      "source": [
        "### Exercise"
      ],
      "metadata": {
        "id": "zNC9fswlB48U"
      }
    },
    {
      "cell_type": "markdown",
      "source": [
        "In Massachusetts, students ages 6 - 16 must attend school. Schools must provide at least a 180-day school year. A student is \"chronically absent\" if they miss more than 10% of the school year (162 days).  \n",
        "\n",
        "Scout is twelve and has attended 170 days of school.  \n",
        "\n",
        "* Create variables to store Scout's age and attendance.  \n",
        "* Use \"and\" to check both conditions.  \n",
        "* Store the result in a boolean variable called *chronically_absent*.  \n",
        "* Print the result."
      ],
      "metadata": {
        "id": "nnAnWlIEB48U"
      }
    }
  ]
}