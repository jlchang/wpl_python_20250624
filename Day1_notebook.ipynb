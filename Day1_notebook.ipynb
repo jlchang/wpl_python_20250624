{
  "metadata": {
    "kernelspec": {
      "name": "python",
      "display_name": "Python (Pyodide)",
      "language": "python"
    },
    "language_info": {
      "codemirror_mode": {
        "name": "python",
        "version": 3
      },
      "file_extension": ".py",
      "mimetype": "text/x-python",
      "name": "python",
      "nbconvert_exporter": "python",
      "pygments_lexer": "ipython3",
      "version": "3.8"
    },
    "colab": {
      "provenance": [],
      "collapsed_sections": [
        "jpCgmzsKvBSG",
        "qqFYsBFlvbv0",
        "RuhjIgOGv75_",
        "cXBqDYXmwSom",
        "kUrcDkYj5T9Y",
        "iRADibuO77IS",
        "BKoe6M4x74iI",
        "bHc2jh7_BdW5"
      ]
    }
  },
  "nbformat_minor": 4,
  "nbformat": 4,
  "cells": [
    {
      "cell_type": "markdown",
      "source": "## **Working with Jupyter Notebook**\n\n\n",
      "metadata": {
        "id": "vy7ZENwCqoXy"
      }
    },
    {
      "cell_type": "code",
      "source": "print(\"Hello again\")",
      "metadata": {
        "trusted": true
      },
      "outputs": [
        {
          "name": "stdout",
          "output_type": "stream",
          "text": "Hello again\n"
        }
      ],
      "execution_count": 3
    },
    {
      "cell_type": "code",
      "source": "print(\"Hello\")",
      "metadata": {
        "trusted": true
      },
      "outputs": [
        {
          "name": "stdout",
          "output_type": "stream",
          "text": "Hello\n"
        }
      ],
      "execution_count": 4
    },
    {
      "cell_type": "markdown",
      "source": "**[esc]** switch from edit mode to command mode  \n(notice a cursor inside the current cell\n\nIn command mode\n*   **A** &nbsp;&nbsp;&nbsp; Insert new cell above current cell\n*   **B** &nbsp;&nbsp;&nbsp; Insert new cell below current cell\n*   **M** &nbsp;&nbsp;&nbsp; Change to cell Markdown (text) cell\n*   **Y** &nbsp;&nbsp;&nbsp; Change to cell Code cell\n\n**[enter]** switch from command mode to edit mode\n(notice an outline around the current cell)\n\n*   **Alt+Enter** &nbsp; Run the current cell and insert new cell; **shift+return** for Mac\n*   **Ctrl + s** &nbsp;&nbsp;&nbsp;&nbsp;&nbsp; Save Notebook  \n\nTo download files:  [jupyter.org/try-jupyter/tree](https://jupyter.org/try-jupyter/tree)",
      "metadata": {
        "id": "HX03kWVCso0b"
      }
    },
    {
      "cell_type": "code",
      "source": "print('Hello'+ \"World\")",
      "metadata": {
        "trusted": true
      },
      "outputs": [
        {
          "ename": "<class 'TypeError'>",
          "evalue": "unsupported operand type(s) for -: 'str' and 'int'",
          "traceback": [
            "\u001b[0;31m---------------------------------------------------------------------------\u001b[0m",
            "\u001b[0;31mTypeError\u001b[0m                                 Traceback (most recent call last)",
            "Cell \u001b[0;32mIn[22], line 1\u001b[0m\n\u001b[0;32m----> 1\u001b[0m \u001b[38;5;28mprint\u001b[39m(\u001b[38;5;124;43m'\u001b[39;49m\u001b[38;5;124;43mHello\u001b[39;49m\u001b[38;5;124;43m'\u001b[39;49m\u001b[43m \u001b[49m\u001b[38;5;241;43m-\u001b[39;49m\u001b[38;5;241;43m3\u001b[39;49m)\n",
            "\u001b[0;31mTypeError\u001b[0m: unsupported operand type(s) for -: 'str' and 'int'"
          ],
          "output_type": "error"
        }
      ],
      "execution_count": 22
    },
    {
      "cell_type": "code",
      "source": " print()",
      "metadata": {
        "trusted": true
      },
      "outputs": [
        {
          "name": "stdout",
          "output_type": "stream",
          "text": "\n"
        }
      ],
      "execution_count": 9
    },
    {
      "cell_type": "code",
      "source": "len(\"Hello World\")",
      "metadata": {
        "trusted": true
      },
      "outputs": [
        {
          "execution_count": 23,
          "output_type": "execute_result",
          "data": {
            "text/plain": "11"
          },
          "metadata": {}
        }
      ],
      "execution_count": 23
    },
    {
      "cell_type": "code",
      "source": "len(\"hello\", \"world\")",
      "metadata": {
        "trusted": true,
        "scrolled": true
      },
      "outputs": [
        {
          "ename": "<class 'TypeError'>",
          "evalue": "len() takes exactly one argument (2 given)",
          "traceback": [
            "\u001b[0;31m---------------------------------------------------------------------------\u001b[0m",
            "\u001b[0;31mTypeError\u001b[0m                                 Traceback (most recent call last)",
            "Cell \u001b[0;32mIn[25], line 1\u001b[0m\n\u001b[0;32m----> 1\u001b[0m \u001b[38;5;28;43mlen\u001b[39;49m\u001b[43m(\u001b[49m\u001b[38;5;124;43m\"\u001b[39;49m\u001b[38;5;124;43mhello\u001b[39;49m\u001b[38;5;124;43m\"\u001b[39;49m\u001b[43m,\u001b[49m\u001b[43m \u001b[49m\u001b[38;5;124;43m\"\u001b[39;49m\u001b[38;5;124;43mworld\u001b[39;49m\u001b[38;5;124;43m\"\u001b[39;49m\u001b[43m)\u001b[49m\n",
            "\u001b[0;31mTypeError\u001b[0m: len() takes exactly one argument (2 given)"
          ],
          "output_type": "error"
        }
      ],
      "execution_count": 25
    },
    {
      "cell_type": "code",
      "source": "help(len)",
      "metadata": {
        "trusted": true
      },
      "outputs": [
        {
          "name": "stdout",
          "output_type": "stream",
          "text": "Help on built-in function len in module builtins:\n\nlen(obj, /)\n    Return the number of items in a container.\n\n"
        }
      ],
      "execution_count": 26
    },
    {
      "cell_type": "code",
      "source": "len(\"hello\"*3)",
      "metadata": {
        "trusted": true
      },
      "outputs": [
        {
          "execution_count": 27,
          "output_type": "execute_result",
          "data": {
            "text/plain": "15"
          },
          "metadata": {}
        }
      ],
      "execution_count": 27
    },
    {
      "cell_type": "code",
      "source": "print( 4+2)",
      "metadata": {
        "trusted": true
      },
      "outputs": [
        {
          "name": "stdout",
          "output_type": "stream",
          "text": "6\n"
        }
      ],
      "execution_count": 28
    },
    {
      "cell_type": "code",
      "source": "print(4-2)",
      "metadata": {
        "trusted": true
      },
      "outputs": [
        {
          "name": "stdout",
          "output_type": "stream",
          "text": "2\n"
        }
      ],
      "execution_count": 29
    },
    {
      "cell_type": "markdown",
      "source": "PEMDAS",
      "metadata": {}
    },
    {
      "cell_type": "code",
      "source": "print( 2 * (4 + 6))",
      "metadata": {
        "trusted": true
      },
      "outputs": [
        {
          "name": "stdout",
          "output_type": "stream",
          "text": "20\n"
        }
      ],
      "execution_count": 30
    },
    {
      "cell_type": "code",
      "source": "print( 2 * 4 + 6)",
      "metadata": {
        "trusted": true
      },
      "outputs": [
        {
          "name": "stdout",
          "output_type": "stream",
          "text": "14\n"
        }
      ],
      "execution_count": 31
    },
    {
      "cell_type": "code",
      "source": "print(8/2)",
      "metadata": {
        "trusted": true
      },
      "outputs": [
        {
          "name": "stdout",
          "output_type": "stream",
          "text": "4.0\n"
        }
      ],
      "execution_count": 32
    },
    {
      "cell_type": "code",
      "source": "print(16/3)",
      "metadata": {
        "trusted": true
      },
      "outputs": [
        {
          "name": "stdout",
          "output_type": "stream",
          "text": "5.333333333333333\n"
        }
      ],
      "execution_count": 36
    },
    {
      "cell_type": "code",
      "source": "print(16%3)",
      "metadata": {
        "trusted": true
      },
      "outputs": [
        {
          "name": "stdout",
          "output_type": "stream",
          "text": "1\n"
        }
      ],
      "execution_count": 37
    },
    {
      "cell_type": "code",
      "source": "print(16//3)",
      "metadata": {
        "trusted": true
      },
      "outputs": [
        {
          "name": "stdout",
          "output_type": "stream",
          "text": "5\n"
        }
      ],
      "execution_count": 38
    },
    {
      "cell_type": "code",
      "source": "print(\"20\" + \"20\")\nprint( 20 + 20)",
      "metadata": {
        "trusted": true
      },
      "outputs": [
        {
          "name": "stdout",
          "output_type": "stream",
          "text": "2020\n40\n"
        }
      ],
      "execution_count": 40
    },
    {
      "cell_type": "code",
      "source": "print(\"20\" * \"20\")\nprint( 20 * 20)",
      "metadata": {
        "trusted": true
      },
      "outputs": [
        {
          "ename": "<class 'TypeError'>",
          "evalue": "can't multiply sequence by non-int of type 'str'",
          "traceback": [
            "\u001b[0;31m---------------------------------------------------------------------------\u001b[0m",
            "\u001b[0;31mTypeError\u001b[0m                                 Traceback (most recent call last)",
            "Cell \u001b[0;32mIn[41], line 1\u001b[0m\n\u001b[0;32m----> 1\u001b[0m \u001b[38;5;28mprint\u001b[39m(\u001b[38;5;124;43m\"\u001b[39;49m\u001b[38;5;124;43m20\u001b[39;49m\u001b[38;5;124;43m\"\u001b[39;49m\u001b[43m \u001b[49m\u001b[38;5;241;43m*\u001b[39;49m\u001b[43m \u001b[49m\u001b[38;5;124;43m\"\u001b[39;49m\u001b[38;5;124;43m20\u001b[39;49m\u001b[38;5;124;43m\"\u001b[39;49m)\n\u001b[1;32m      2\u001b[0m \u001b[38;5;28mprint\u001b[39m( \u001b[38;5;241m20\u001b[39m \u001b[38;5;241m*\u001b[39m \u001b[38;5;241m20\u001b[39m)\n",
            "\u001b[0;31mTypeError\u001b[0m: can't multiply sequence by non-int of type 'str'"
          ],
          "output_type": "error"
        }
      ],
      "execution_count": 41
    },
    {
      "cell_type": "markdown",
      "source": "## Variables",
      "metadata": {}
    },
    {
      "cell_type": "code",
      "source": "big_word = \"supercalifragilisticexpialidocious\"",
      "metadata": {
        "trusted": true
      },
      "outputs": [],
      "execution_count": 42
    },
    {
      "cell_type": "code",
      "source": "print(big_word)",
      "metadata": {
        "trusted": true
      },
      "outputs": [
        {
          "name": "stdout",
          "output_type": "stream",
          "text": "supercalifragilisticexpialidocious\n"
        }
      ],
      "execution_count": 43
    },
    {
      "cell_type": "code",
      "source": "print(big_word * 3)",
      "metadata": {
        "trusted": true
      },
      "outputs": [
        {
          "name": "stdout",
          "output_type": "stream",
          "text": "supercalifragilisticexpialidocioussupercalifragilisticexpialidocioussupercalifragilisticexpialidocious\n"
        }
      ],
      "execution_count": 44
    },
    {
      "cell_type": "code",
      "source": "long_number = 3.141592653589793238462643383279502",
      "metadata": {
        "trusted": true
      },
      "outputs": [],
      "execution_count": 45
    },
    {
      "cell_type": "code",
      "source": "print(long_number * 3)",
      "metadata": {
        "trusted": true
      },
      "outputs": [
        {
          "name": "stdout",
          "output_type": "stream",
          "text": "9.42477796076938\n"
        }
      ],
      "execution_count": 46
    },
    {
      "cell_type": "code",
      "source": "print(chocolate)",
      "metadata": {
        "trusted": true
      },
      "outputs": [
        {
          "ename": "<class 'NameError'>",
          "evalue": "name 'chocolate' is not defined",
          "traceback": [
            "\u001b[0;31m---------------------------------------------------------------------------\u001b[0m",
            "\u001b[0;31mNameError\u001b[0m                                 Traceback (most recent call last)",
            "Cell \u001b[0;32mIn[47], line 1\u001b[0m\n\u001b[0;32m----> 1\u001b[0m \u001b[38;5;28mprint\u001b[39m(\u001b[43mchocolate\u001b[49m)\n",
            "\u001b[0;31mNameError\u001b[0m: name 'chocolate' is not defined"
          ],
          "output_type": "error"
        }
      ],
      "execution_count": 47
    },
    {
      "cell_type": "code",
      "source": "chocolate = \"Hershey's\"\n",
      "metadata": {
        "trusted": true
      },
      "outputs": [],
      "execution_count": 48
    },
    {
      "cell_type": "code",
      "source": "print(\"My favorite chocolate is\", chocolate)",
      "metadata": {
        "trusted": true
      },
      "outputs": [
        {
          "name": "stdout",
          "output_type": "stream",
          "text": "My favorite chocolate is Hershey's\n"
        }
      ],
      "execution_count": 49
    },
    {
      "cell_type": "code",
      "source": "name = \"Scout\"\ngreeting  = \"Hello \" + name + \"!\"\nprint(greeting)",
      "metadata": {
        "trusted": true
      },
      "outputs": [
        {
          "name": "stdout",
          "output_type": "stream",
          "text": "Hello Scout!\n"
        }
      ],
      "execution_count": 50
    },
    {
      "cell_type": "code",
      "source": "score = 3\nscore = score + 7\nprint(score)",
      "metadata": {
        "trusted": true
      },
      "outputs": [
        {
          "name": "stdout",
          "output_type": "stream",
          "text": "10\n"
        }
      ],
      "execution_count": 51
    },
    {
      "cell_type": "code",
      "source": "first = 8\nsecond = \"alien\"",
      "metadata": {
        "trusted": true
      },
      "outputs": [],
      "execution_count": 52
    },
    {
      "cell_type": "code",
      "source": "print(\"no swapping yet:\", first, second)",
      "metadata": {
        "trusted": true
      },
      "outputs": [
        {
          "name": "stdout",
          "output_type": "stream",
          "text": "no swapping yet: 8 alien\n"
        }
      ],
      "execution_count": 53
    },
    {
      "cell_type": "code",
      "source": "first = second",
      "metadata": {
        "trusted": true
      },
      "outputs": [],
      "execution_count": 54
    },
    {
      "cell_type": "code",
      "source": "print(\"make first equal second:\", first, second)",
      "metadata": {
        "trusted": true
      },
      "outputs": [
        {
          "name": "stdout",
          "output_type": "stream",
          "text": "make first equal second: alien alien\n"
        }
      ],
      "execution_count": 55
    },
    {
      "cell_type": "code",
      "source": "first = 8\nsecond = \"alien\"",
      "metadata": {
        "trusted": true
      },
      "outputs": [],
      "execution_count": 56
    },
    {
      "cell_type": "code",
      "source": "extra = first",
      "metadata": {
        "trusted": true
      },
      "outputs": [],
      "execution_count": 58
    },
    {
      "cell_type": "code",
      "source": "print(\"no swapping yet:\", first, second, extra)",
      "metadata": {
        "trusted": true
      },
      "outputs": [
        {
          "name": "stdout",
          "output_type": "stream",
          "text": "no swapping yet: 8 alien 8\n"
        }
      ],
      "execution_count": 59
    },
    {
      "cell_type": "code",
      "source": "first = second",
      "metadata": {
        "trusted": true
      },
      "outputs": [],
      "execution_count": 60
    },
    {
      "cell_type": "code",
      "source": "print(\"make first equal second:\", first, second, extra)",
      "metadata": {
        "trusted": true
      },
      "outputs": [
        {
          "name": "stdout",
          "output_type": "stream",
          "text": "make first equal second: alien alien 8\n"
        }
      ],
      "execution_count": 61
    },
    {
      "cell_type": "code",
      "source": "second = extra",
      "metadata": {
        "trusted": true
      },
      "outputs": [],
      "execution_count": 62
    },
    {
      "cell_type": "code",
      "source": "print(\"swapped:\", first, second, extra)",
      "metadata": {
        "trusted": true
      },
      "outputs": [
        {
          "name": "stdout",
          "output_type": "stream",
          "text": "swapped: alien 8 8\n"
        }
      ],
      "execution_count": 63
    },
    {
      "cell_type": "code",
      "source": "first = 8\nsecond = \"alien\"",
      "metadata": {
        "trusted": true
      },
      "outputs": [],
      "execution_count": 64
    },
    {
      "cell_type": "code",
      "source": "print(\"no swapping yet:\", first, second)",
      "metadata": {
        "trusted": true
      },
      "outputs": [
        {
          "name": "stdout",
          "output_type": "stream",
          "text": "no swapping yet: 8 alien\n"
        }
      ],
      "execution_count": 65
    },
    {
      "cell_type": "code",
      "source": "second, first = first, second",
      "metadata": {
        "trusted": true
      },
      "outputs": [],
      "execution_count": 66
    },
    {
      "cell_type": "code",
      "source": "print(\"swapped:\", first, second)",
      "metadata": {
        "trusted": true
      },
      "outputs": [
        {
          "name": "stdout",
          "output_type": "stream",
          "text": "swapped: alien 8\n"
        }
      ],
      "execution_count": 67
    },
    {
      "cell_type": "markdown",
      "source": "## f-strings (formatted strings)",
      "metadata": {}
    },
    {
      "cell_type": "code",
      "source": "print(f'Hello {first} I am {second} years old')",
      "metadata": {
        "trusted": true
      },
      "outputs": [
        {
          "name": "stdout",
          "output_type": "stream",
          "text": "Hello alien I am 8 years old\n"
        }
      ],
      "execution_count": 69
    },
    {
      "cell_type": "code",
      "source": "print(f'Hello {first * 3} I am {second} years old')",
      "metadata": {
        "trusted": true
      },
      "outputs": [
        {
          "name": "stdout",
          "output_type": "stream",
          "text": "Hello alienalienalien I am 8 years old\n"
        }
      ],
      "execution_count": 70
    },
    {
      "cell_type": "code",
      "source": "print(f'Hello {first} I am {len(first)} years old')",
      "metadata": {
        "trusted": true
      },
      "outputs": [
        {
          "name": "stdout",
          "output_type": "stream",
          "text": "Hello alien I am 5 years old\n"
        }
      ],
      "execution_count": 71
    },
    {
      "cell_type": "code",
      "source": "name = input(\"What is your name?\")",
      "metadata": {
        "trusted": true
      },
      "outputs": [
        {
          "output_type": "stream",
          "name": "stdin",
          "text": "What is your name? Jean\n"
        }
      ],
      "execution_count": 72
    },
    {
      "cell_type": "code",
      "source": "print(name)",
      "metadata": {
        "trusted": true
      },
      "outputs": [
        {
          "name": "stdout",
          "output_type": "stream",
          "text": "Jean\n"
        }
      ],
      "execution_count": 73
    },
    {
      "cell_type": "markdown",
      "source": "Turn a secret word into a hint",
      "metadata": {}
    },
    {
      "cell_type": "code",
      "source": "secret_word = input(\"Guess the word:\")",
      "metadata": {
        "trusted": true
      },
      "outputs": [
        {
          "output_type": "stream",
          "name": "stdin",
          "text": "Guess the word: chocolate\n"
        }
      ],
      "execution_count": 74
    },
    {
      "cell_type": "code",
      "source": "len(secret_word)",
      "metadata": {
        "trusted": true
      },
      "outputs": [
        {
          "execution_count": 75,
          "output_type": "execute_result",
          "data": {
            "text/plain": "9"
          },
          "metadata": {}
        }
      ],
      "execution_count": 75
    },
    {
      "cell_type": "code",
      "source": "print(\"_ \" * len(secret_word))",
      "metadata": {
        "trusted": true
      },
      "outputs": [
        {
          "name": "stdout",
          "output_type": "stream",
          "text": "_ _ _ _ _ _ _ _ _ \n"
        }
      ],
      "execution_count": 76
    },
    {
      "cell_type": "code",
      "source": "number = input(\"Give me a number:\")",
      "metadata": {
        "trusted": true
      },
      "outputs": [
        {
          "output_type": "stream",
          "name": "stdin",
          "text": "Give me a number: 20\n"
        }
      ],
      "execution_count": 77
    },
    {
      "cell_type": "code",
      "source": "print(number * 3)",
      "metadata": {
        "trusted": true
      },
      "outputs": [
        {
          "name": "stdout",
          "output_type": "stream",
          "text": "202020\n"
        }
      ],
      "execution_count": 78
    },
    {
      "cell_type": "code",
      "source": "number = input(\"Give me a number:\")",
      "metadata": {
        "trusted": true
      },
      "outputs": [
        {
          "output_type": "stream",
          "name": "stdin",
          "text": "Give me a number: 20\n"
        }
      ],
      "execution_count": 80
    },
    {
      "cell_type": "code",
      "source": "number = int(number)",
      "metadata": {
        "trusted": true
      },
      "outputs": [],
      "execution_count": 81
    },
    {
      "cell_type": "code",
      "source": "print(number * 3)",
      "metadata": {
        "trusted": true
      },
      "outputs": [
        {
          "name": "stdout",
          "output_type": "stream",
          "text": "60\n"
        }
      ],
      "execution_count": 82
    },
    {
      "cell_type": "code",
      "source": "name = int(name)",
      "metadata": {
        "trusted": true
      },
      "outputs": [
        {
          "ename": "<class 'ValueError'>",
          "evalue": "invalid literal for int() with base 10: 'Jean'",
          "traceback": [
            "\u001b[0;31m---------------------------------------------------------------------------\u001b[0m",
            "\u001b[0;31mValueError\u001b[0m                                Traceback (most recent call last)",
            "Cell \u001b[0;32mIn[83], line 1\u001b[0m\n\u001b[0;32m----> 1\u001b[0m name \u001b[38;5;241m=\u001b[39m \u001b[38;5;28;43mint\u001b[39;49m\u001b[43m(\u001b[49m\u001b[43mname\u001b[49m\u001b[43m)\u001b[49m\n",
            "\u001b[0;31mValueError\u001b[0m: invalid literal for int() with base 10: 'Jean'"
          ],
          "output_type": "error"
        }
      ],
      "execution_count": 83
    },
    {
      "cell_type": "code",
      "source": "light = \"red\"\nstop_car = (light == \"red\")\nprint(stop_car)",
      "metadata": {
        "trusted": true
      },
      "outputs": [
        {
          "name": "stdout",
          "output_type": "stream",
          "text": "True\n"
        }
      ],
      "execution_count": 86
    },
    {
      "cell_type": "code",
      "source": "light = \"green\"\nstop_car = (light == \"red\")\nprint(stop_car)",
      "metadata": {
        "trusted": true
      },
      "outputs": [
        {
          "name": "stdout",
          "output_type": "stream",
          "text": "False\n"
        }
      ],
      "execution_count": 87
    },
    {
      "cell_type": "code",
      "source": "boiling_point = 212\nwater_temp = 100\nis_boiling = (water_temp > boiling_point)\nprint(is_boiling)",
      "metadata": {
        "trusted": true
      },
      "outputs": [
        {
          "name": "stdout",
          "output_type": "stream",
          "text": "False\n"
        }
      ],
      "execution_count": 88
    },
    {
      "cell_type": "markdown",
      "source": "## **if** statements",
      "metadata": {}
    },
    {
      "cell_type": "code",
      "source": "number = 10\nif number > 0:\n    print(\"This is a positive number\")",
      "metadata": {
        "trusted": true
      },
      "outputs": [
        {
          "name": "stdout",
          "output_type": "stream",
          "text": "This is a positive number\n"
        }
      ],
      "execution_count": 89
    },
    {
      "cell_type": "code",
      "source": "number = 10\nif number > 0:\n    print(\"This is a positive number\")\n    print(f\"The number is {number}!\")\nelse:\n    print(\"This is a negative number\")\nprint(f\"The number is {number}\")",
      "metadata": {
        "trusted": true
      },
      "outputs": [
        {
          "name": "stdout",
          "output_type": "stream",
          "text": "This is a positive number\nThe number is 10!\nThe number is 10\n"
        }
      ],
      "execution_count": 98
    },
    {
      "cell_type": "markdown",
      "source": "## While loops",
      "metadata": {}
    },
    {
      "cell_type": "code",
      "source": "cake = 10\npeople = 3",
      "metadata": {
        "trusted": true
      },
      "outputs": [],
      "execution_count": 101
    },
    {
      "cell_type": "code",
      "source": "while cake // people > 0:\n    print(f'We can all have cake - there are {cake} pieces')\n    cake = cake - people\n\nprint(f\"There isn't enough cake left for all of us\")",
      "metadata": {
        "trusted": true
      },
      "outputs": [
        {
          "name": "stdout",
          "output_type": "stream",
          "text": "We can all have cake - there are 10 pieces\nWe can all have cake - there are 7 pieces\nWe can all have cake - there are 4 pieces\nThere isn't enough cake left for all of us\n"
        }
      ],
      "execution_count": 102
    },
    {
      "cell_type": "markdown",
      "source": "Guess the number",
      "metadata": {}
    },
    {
      "cell_type": "code",
      "source": "import random\nmin_num = 1\nmax_plus_one = 101\nthe_number = random.randrange(min_num, max_plus_one)\nprint(f\"Guess a number between {min_num} and {(max_plus_one -1)}.\")\n\nwhile True:\n    guess = int(input(\"Enter your guess:\"))\n\n    if guess == the_number:\n        print(f'Correct!! You guessed the number')\n        break\n    elif guess < the_number:\n        print(f'Make your guess bigger than {guess}')\n    else:\n        print(f'Make your guess smaller than {guess}')",
      "metadata": {
        "trusted": true
      },
      "outputs": [
        {
          "name": "stdout",
          "output_type": "stream",
          "text": "Guess a number between 1 and 100.\n"
        },
        {
          "output_type": "stream",
          "name": "stdin",
          "text": "Enter your guess: 50\n"
        },
        {
          "name": "stdout",
          "output_type": "stream",
          "text": "Make your guess bigger than 50\n"
        },
        {
          "output_type": "stream",
          "name": "stdin",
          "text": "Enter your guess: 75\n"
        },
        {
          "name": "stdout",
          "output_type": "stream",
          "text": "Make your guess smaller than 75\n"
        },
        {
          "output_type": "stream",
          "name": "stdin",
          "text": "Enter your guess: 70\n"
        },
        {
          "name": "stdout",
          "output_type": "stream",
          "text": "Make your guess bigger than 70\n"
        },
        {
          "output_type": "stream",
          "name": "stdin",
          "text": "Enter your guess: 73\n"
        },
        {
          "name": "stdout",
          "output_type": "stream",
          "text": "Make your guess bigger than 73\n"
        },
        {
          "output_type": "stream",
          "name": "stdin",
          "text": "Enter your guess: 74\n"
        },
        {
          "name": "stdout",
          "output_type": "stream",
          "text": "Correct!! You guessed the number\n"
        }
      ],
      "execution_count": 1
    },
    {
      "cell_type": "code",
      "source": "import random\nmin_num = 1\nmax_plus_one = 101\nthe_number = random.randrange(min_num, max_plus_one)\nprint(f\"Guess a number between {min_num} and {(max_plus_one -1)}.\")\nchances = 7\n\nguesses = 0\n\n\nwhile guesses < chances:\n    guess = int(input(\"Enter your guess:\"))\n    guesses += 1\n    if guess == the_number:\n        print(f'Correct!! You guessed the number')\n        break\n    elif guess < the_number:\n        print(f'Make your guess bigger than {guess}')\n    else:\n        print(f'Make your guess smaller than {guess}')",
      "metadata": {
        "trusted": true
      },
      "outputs": [
        {
          "name": "stdout",
          "output_type": "stream",
          "text": "Guess a number between 1 and 100.\n"
        },
        {
          "output_type": "stream",
          "name": "stdin",
          "text": "Enter your guess: 50\n"
        },
        {
          "name": "stdout",
          "output_type": "stream",
          "text": "Make your guess bigger than 50\n"
        },
        {
          "output_type": "stream",
          "name": "stdin",
          "text": "Enter your guess: 75\n"
        },
        {
          "name": "stdout",
          "output_type": "stream",
          "text": "Make your guess smaller than 75\n"
        },
        {
          "output_type": "stream",
          "name": "stdin",
          "text": "Enter your guess: 60\n"
        },
        {
          "name": "stdout",
          "output_type": "stream",
          "text": "Make your guess smaller than 60\n"
        },
        {
          "output_type": "stream",
          "name": "stdin",
          "text": "Enter your guess: 55\n"
        },
        {
          "name": "stdout",
          "output_type": "stream",
          "text": "Make your guess smaller than 55\n"
        },
        {
          "output_type": "stream",
          "name": "stdin",
          "text": "Enter your guess: 54\n"
        },
        {
          "name": "stdout",
          "output_type": "stream",
          "text": "Make your guess smaller than 54\n"
        },
        {
          "output_type": "stream",
          "name": "stdin",
          "text": "Enter your guess: 53\n"
        },
        {
          "name": "stdout",
          "output_type": "stream",
          "text": "Make your guess smaller than 53\n"
        },
        {
          "output_type": "stream",
          "name": "stdin",
          "text": "Enter your guess: 52\n"
        },
        {
          "name": "stdout",
          "output_type": "stream",
          "text": "Make your guess smaller than 52\n"
        }
      ],
      "execution_count": 2
    },
    {
      "cell_type": "code",
      "source": "",
      "metadata": {
        "trusted": true
      },
      "outputs": [],
      "execution_count": null
    }
  ]
}